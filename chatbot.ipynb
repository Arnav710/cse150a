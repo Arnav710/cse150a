{
 "cells": [
  {
   "cell_type": "code",
   "execution_count": 1,
   "metadata": {},
   "outputs": [],
   "source": [
    "import pandas as pd\n",
    "\n",
    "SEED = 0\n",
    "pd.set_option('display.max_colwidth', None)"
   ]
  },
  {
   "cell_type": "code",
   "execution_count": 2,
   "metadata": {},
   "outputs": [],
   "source": [
    "path = 'data/preprocessed-ai-medical-chatbot.csv'\n",
    "df = pd.read_csv(path)\n",
    "df = df.dropna()"
   ]
  },
  {
   "cell_type": "code",
   "execution_count": 3,
   "metadata": {},
   "outputs": [
    {
     "data": {
      "text/html": [
       "<div>\n",
       "<style scoped>\n",
       "    .dataframe tbody tr th:only-of-type {\n",
       "        vertical-align: middle;\n",
       "    }\n",
       "\n",
       "    .dataframe tbody tr th {\n",
       "        vertical-align: top;\n",
       "    }\n",
       "\n",
       "    .dataframe thead th {\n",
       "        text-align: right;\n",
       "    }\n",
       "</style>\n",
       "<table border=\"1\" class=\"dataframe\">\n",
       "  <thead>\n",
       "    <tr style=\"text-align: right;\">\n",
       "      <th></th>\n",
       "      <th>description</th>\n",
       "      <th>question</th>\n",
       "      <th>answer</th>\n",
       "    </tr>\n",
       "  </thead>\n",
       "  <tbody>\n",
       "    <tr>\n",
       "      <th>152573</th>\n",
       "      <td>causes red spots around eyes child</td>\n",
       "      <td>hi 18month old suddenli becom faddi eat ok diet eat shreddi pot yogurt odd bit toast poorli around 15th april sick diarea week diet chang becam better develop littl red spot chin spread around face one disappear anoth appear somewher els prescrib caneston cream didnt realli anyth seem clear eat yogurt anyth moment manag get eat spot appear around eye could eat someth els</td>\n",
       "      <td>i donot think so its related to yogurt she is fond of eating as it does not spread and non itchy  do you have mosquito at home  apply some soothing cream  moisturizer and that s all needed to your baby now</td>\n",
       "    </tr>\n",
       "    <tr>\n",
       "      <th>247419</th>\n",
       "      <td>skin colored itchy bumps elbow lower back temporary relief hydro cortisone cream allergy pills history seasonal allergies done</td>\n",
       "      <td>skin color itchi bump elbow lower back itch like crazi notic last spring took long time heal month got spring get season allergi start take allergi pill itch went away rash clear longer season allergi need take alleri pill loratadin 10 mg rash back start take allergi pill help littl itch still bump still itch time bump red scratch like crazi tri hydrocortison cream well help also tri skinceut hydra balm well help littl itch live new mexico dri use oil lotion daili skin dri bump smooth touch blister</td>\n",
       "      <td>hi   dear user    thanks for choosing hcm    u have seasonal allergy called     allergic dermatitis    so evaluate it   consult good dermatologist    thanq</td>\n",
       "    </tr>\n",
       "    <tr>\n",
       "      <th>71438</th>\n",
       "      <td>vomiting one day pain appendix bladder</td>\n",
       "      <td>vomit sinc yesterday eat lunch mouth esophagu hurt stomach feel full addit sinc morn area appendix bladder hurt could strain muscl due vomit appendix</td>\n",
       "      <td>constipation  when was your last bowel movement   if you are clogged up it will have no where else to go but up  chances are the pain in your belly by your bladder is a strained muscle  so is your question about the strained muscle or the vomiting   chances are you have a 24 hour flu or you ate something bad for breakfast</td>\n",
       "    </tr>\n",
       "    <tr>\n",
       "      <th>201206</th>\n",
       "      <td>liver cirrhosis enlarged spleen veins treated</td>\n",
       "      <td>hi name tammi multipl gallston hep c chorrosi liver enlarg spleen enlarg vein one live want touch want send bigger town better dr also want liver doner list hare get</td>\n",
       "      <td>hi and welcome to healthcaremagic  thank you for your query  i am dr  rommstein  i understand your concerns and i will try to help you as much as i can this is serious disease and quitting alcohol is the most important thing that should be done  also  medications which are hematotoxic should be avoided  this is necessary to prevent disease progression  which is lethal in most cases  at early stages it can be treated with these measures but but in case of progression  only liver transplantation may help  diet should be balanced and healthy and get regular exercise  limit high carb foods such as bread  grits  rice  potatoes  and corn  and cut down on drinks with lots of sugar like sports drinks and juice  if there is viral hepatitis as udnelying cause then antiviral medications are required i hope i have answered you query  if you have any further questions you can contact us in every time kindly regards  wish you a good health</td>\n",
       "    </tr>\n",
       "    <tr>\n",
       "      <th>40162</th>\n",
       "      <td>unable control agitation hallucinations restlessness remedy</td>\n",
       "      <td>51 yr old femal w glioblastoma end stage morphine30mg sq q 4hr atc w btd 15 mg q 1hr prn decadron 4mg sq bid haldol 5mg sq q4hr atc ativan 1 mg q 4 hr atc still unabl control agit hallucin restless suggest</td>\n",
       "      <td>hithanks for using healthcare magici think  she has hallucination due to metastasis  in that case  just carry on with haloperidol or you can try quetiapine or olanzapine  organic psychosis is very difficult to treat and some time does not get improved with medication  better to try any of these sedative antipsychotic  at least with it she would remain calm thanks</td>\n",
       "    </tr>\n",
       "  </tbody>\n",
       "</table>\n",
       "</div>"
      ],
      "text/plain": [
       "                                                                                                                           description  \\\n",
       "152573                                                                                              causes red spots around eyes child   \n",
       "247419  skin colored itchy bumps elbow lower back temporary relief hydro cortisone cream allergy pills history seasonal allergies done   \n",
       "71438                                                                                           vomiting one day pain appendix bladder   \n",
       "201206                                                                                   liver cirrhosis enlarged spleen veins treated   \n",
       "40162                                                                      unable control agitation hallucinations restlessness remedy   \n",
       "\n",
       "                                                                                                                                                                                                                                                                                                                                                                                                                                                                                                                       question  \\\n",
       "152573                                                                                                                                    hi 18month old suddenli becom faddi eat ok diet eat shreddi pot yogurt odd bit toast poorli around 15th april sick diarea week diet chang becam better develop littl red spot chin spread around face one disappear anoth appear somewher els prescrib caneston cream didnt realli anyth seem clear eat yogurt anyth moment manag get eat spot appear around eye could eat someth els   \n",
       "247419  skin color itchi bump elbow lower back itch like crazi notic last spring took long time heal month got spring get season allergi start take allergi pill itch went away rash clear longer season allergi need take alleri pill loratadin 10 mg rash back start take allergi pill help littl itch still bump still itch time bump red scratch like crazi tri hydrocortison cream well help also tri skinceut hydra balm well help littl itch live new mexico dri use oil lotion daili skin dri bump smooth touch blister   \n",
       "71438                                                                                                                                                                                                                                                                                                                                                                     vomit sinc yesterday eat lunch mouth esophagu hurt stomach feel full addit sinc morn area appendix bladder hurt could strain muscl due vomit appendix   \n",
       "201206                                                                                                                                                                                                                                                                                                                                                    hi name tammi multipl gallston hep c chorrosi liver enlarg spleen enlarg vein one live want touch want send bigger town better dr also want liver doner list hare get   \n",
       "40162                                                                                                                                                                                                                                                                                                             51 yr old femal w glioblastoma end stage morphine30mg sq q 4hr atc w btd 15 mg q 1hr prn decadron 4mg sq bid haldol 5mg sq q4hr atc ativan 1 mg q 4 hr atc still unabl control agit hallucin restless suggest   \n",
       "\n",
       "                                                                                                                                                                                                                                                                                                                                                                                                                                                                                                                                                                                                                                                                                                                                                                                                                                                                                                                                                                              answer  \n",
       "152573                                                                                                                                                                                                                                                                                                                                                                                                                                                                                                                                                                                                                                                                                                                                                                i donot think so its related to yogurt she is fond of eating as it does not spread and non itchy  do you have mosquito at home  apply some soothing cream  moisturizer and that s all needed to your baby now   \n",
       "247419                                                                                                                                                                                                                                                                                                                                                                                                                                                                                                                                                                                                                                                                                                                                                                                                                   hi   dear user    thanks for choosing hcm    u have seasonal allergy called     allergic dermatitis    so evaluate it   consult good dermatologist    thanq  \n",
       "71438                                                                                                                                                                                                                                                                                                                                                                                                                                                                                                                                                                                                                                            constipation  when was your last bowel movement   if you are clogged up it will have no where else to go but up  chances are the pain in your belly by your bladder is a strained muscle  so is your question about the strained muscle or the vomiting   chances are you have a 24 hour flu or you ate something bad for breakfast  \n",
       "201206  hi and welcome to healthcaremagic  thank you for your query  i am dr  rommstein  i understand your concerns and i will try to help you as much as i can this is serious disease and quitting alcohol is the most important thing that should be done  also  medications which are hematotoxic should be avoided  this is necessary to prevent disease progression  which is lethal in most cases  at early stages it can be treated with these measures but but in case of progression  only liver transplantation may help  diet should be balanced and healthy and get regular exercise  limit high carb foods such as bread  grits  rice  potatoes  and corn  and cut down on drinks with lots of sugar like sports drinks and juice  if there is viral hepatitis as udnelying cause then antiviral medications are required i hope i have answered you query  if you have any further questions you can contact us in every time kindly regards  wish you a good health   \n",
       "40162                                                                                                                                                                                                                                                                                                                                                                                                                                                                                                                                                                                                  hithanks for using healthcare magici think  she has hallucination due to metastasis  in that case  just carry on with haloperidol or you can try quetiapine or olanzapine  organic psychosis is very difficult to treat and some time does not get improved with medication  better to try any of these sedative antipsychotic  at least with it she would remain calm thanks  "
      ]
     },
     "execution_count": 3,
     "metadata": {},
     "output_type": "execute_result"
    }
   ],
   "source": [
    "df.sample(5, random_state=SEED)"
   ]
  },
  {
   "cell_type": "markdown",
   "metadata": {},
   "source": [
    "**Naive Bayes Classifier**"
   ]
  },
  {
   "cell_type": "code",
   "execution_count": 4,
   "metadata": {},
   "outputs": [],
   "source": [
    "from sklearn.feature_extraction.text import TfidfVectorizer\n",
    "from sklearn.naive_bayes import MultinomialNB\n",
    "from sklearn.model_selection import train_test_split"
   ]
  },
  {
   "cell_type": "code",
   "execution_count": 5,
   "metadata": {},
   "outputs": [],
   "source": [
    "X = df['question']  # The patient's question\n",
    "y = df['answer']  # The doctor's response (simplified for classification)"
   ]
  },
  {
   "cell_type": "code",
   "execution_count": 25,
   "metadata": {},
   "outputs": [
    {
     "name": "stdout",
     "output_type": "stream",
     "text": [
      "['hello  for pcod  polycystic ovarian disease   powder kalachikai has a good effect  but the duration of treatment is long  more than three months   for proper evaluation of disease  please go for usg whole abdomen and other investigations  if the size and number of cysts are more  then i suggest consulting a gynecologist as you may require surgery  if the number and size of cysts are less  you may continue treatment along with syrup evecare 10 ml bd and kanchnar guggulu two bd  for more information consult an ayurveda specialist online    ']\n"
     ]
    }
   ],
   "source": [
    "# Downsample the dataset for testing\n",
    "df_small = df.sample(n=5000, random_state=42)\n",
    "X = df_small['question']\n",
    "y = df_small['answer']\n",
    "\n",
    "# Vectorize with reduced features\n",
    "vectorizer = TfidfVectorizer(stop_words='english', max_features=500)\n",
    "X_vec = vectorizer.fit_transform(X)\n",
    "\n",
    "# Split the dataset into training and testing sets\n",
    "X_train, X_test, y_train, y_test = train_test_split(X_vec, y, test_size=0.2, random_state=42)\n",
    "\n",
    "# Try Logistic Regression\n",
    "from sklearn.linear_model import LogisticRegression\n",
    "lr_classifier = LogisticRegression(max_iter=1000)\n",
    "lr_classifier.fit(X_train, y_train)\n",
    "\n",
    "# Example query to classify\n",
    "query = \"vomiting one day pain appendix bladder\"\n",
    "query_vec = vectorizer.transform([query])\n",
    "predicted_answer = lr_classifier.predict(query_vec)\n",
    "print(predicted_answer)\n"
   ]
  },
  {
   "cell_type": "code",
   "execution_count": 8,
   "metadata": {},
   "outputs": [
    {
     "name": "stdout",
     "output_type": "stream",
     "text": [
      "Requirement already satisfied: hmmlearn in c:\\users\\jgu04\\anaconda3\\lib\\site-packages (0.3.3)\n",
      "Requirement already satisfied: numpy>=1.10 in c:\\users\\jgu04\\anaconda3\\lib\\site-packages (from hmmlearn) (1.26.4)\n",
      "Requirement already satisfied: scikit-learn!=0.22.0,>=0.16 in c:\\users\\jgu04\\anaconda3\\lib\\site-packages (from hmmlearn) (1.4.2)\n",
      "Requirement already satisfied: scipy>=0.19 in c:\\users\\jgu04\\anaconda3\\lib\\site-packages (from hmmlearn) (1.13.1)\n",
      "Requirement already satisfied: joblib>=1.2.0 in c:\\users\\jgu04\\anaconda3\\lib\\site-packages (from scikit-learn!=0.22.0,>=0.16->hmmlearn) (1.4.2)\n",
      "Requirement already satisfied: threadpoolctl>=2.0.0 in c:\\users\\jgu04\\anaconda3\\lib\\site-packages (from scikit-learn!=0.22.0,>=0.16->hmmlearn) (2.2.0)\n",
      "Note: you may need to restart the kernel to use updated packages.\n"
     ]
    }
   ],
   "source": [
    "%pip install hmmlearn"
   ]
  },
  {
   "cell_type": "markdown",
   "metadata": {},
   "source": [
    "**Hidden Markov Model**"
   ]
  },
  {
   "cell_type": "code",
   "execution_count": 7,
   "metadata": {},
   "outputs": [],
   "source": [
    "import numpy as np\n",
    "from hmmlearn.hmm import GaussianHMM # type: ignore\n",
    "from sklearn.decomposition import TruncatedSVD"
   ]
  },
  {
   "cell_type": "code",
   "execution_count": 8,
   "metadata": {},
   "outputs": [
    {
     "name": "stdout",
     "output_type": "stream",
     "text": [
      "Predicted Hidden States (Disease Progression):\n",
      "[2 0 2 0 2 2 0 2 0 2 1 0 2 0 0 2 1 2 1 2 0 1 0 2 0 1 1 2 1 2 0 0 2 1 1 1 0\n",
      " 2 2 2 0 2 1 2 2 2 2 2 0 0 0 2 2 1 2 2 0 2 2 2 0 2 0 1 0 0 0 1 0 0 2 0 0 2\n",
      " 2 1 2 2 0 1 1 1 2 1 0 2 0 1 2 1 2 2 2 0 2 0 1 2 2 2 1 2 2 0 0 1 1 2 0 2 2\n",
      " 2 2 0 0 2 2 0 0 0 2 1 2 0 0 2 0 2 2 2 0 2 2 0 2 2 2 0 0 2 0 0 2 2 0 2 0 1\n",
      " 2 2 0 0 2 2 1 2 2 0 0 2 2 0 0 2 0 0 1 0 2 0 2 1 0 0 2 1 1 2 2 0 1 2 2 2 2\n",
      " 2 2 0 0 2 0 2 2 0 1 2 0 2 1 2 2 0 2 1 2 0 0 2 2 2 1 2 2 1 2 0 2 0 2 1 1 0\n",
      " 0 0 0 0 0 2 2 0 2 2 1 0 2 2 0 0 2 0 2 1 0 0 1 2 2 2 2 0 0 2 0 2 2 2 0 2 0\n",
      " 2 2 2 2 2 2 2 2 2 2 2 1 1 2 2 0 2 0 0 2 2 0 0 0 0 0 0 0 2 2 2 0 1 0 0 2 2\n",
      " 2 2 0 0 2 2 2 0 0 0 2 2 0 0 1 2 1 0 0 0 1 0 2 0 0 0 1 0 0 0 2 2 2 2 2 0 2\n",
      " 0 1 1 1 2 2 1 2 2 0 0 2 2 2 2 0 2 0 0 0 2 2 0 2 0 0 0 0 0 2 2 0 2 2 1 0 1\n",
      " 0 0 2 2 0 2 2 2 2 2 1 0 2 2 2 0 0 2 2 2 2 2 2 2 2 2 2 2 2 0 2 0 2 2 0 1 0\n",
      " 1 2 2 2 2 0 2 1 2 1 2 0 0 0 2 0 0 0 2 1 2 2 0 2 2 2 2 0 2 2 0 1 2 2 2 2 0\n",
      " 2 2 2 1 2 0 0 2 2 0 0 2 2 2 2 2 2 2 0 1 1 0 0 0 0 1 1 0 2 2 0 0 2 2 0 0 1\n",
      " 2 0 0 1 2 0 0 0 2 1 2 1 2 2 1 0 2 0 2 2 2 2 2 2 0 2 1 2 2 2 2 2 0 1 1 2 1\n",
      " 0 0 2 2 2 1 0 1 0 2 2 2 0 2 2 2 0 2 0 2 2 0 0 2 2 2 0 0 1 1 2 2 0 0 2 2 2\n",
      " 0 2 2 2 2 0 2 1 0 1 2 1 2 2 0 2 2 0 0 2 0 0 0 0 0 0 1 2 2 1 2 1 1 2 2 1 0\n",
      " 0 2 2 1 0 0 2 2 2 2 0 0 0 2 2 1 2 0 0 0 2 2 2 2 2 0 2 2 0 2 0 2 2 2 2 2 2\n",
      " 1 0 0 0 2 1 2 2 0 2 0 2 0 0 0 0 0 2 0 0 0 1 2 2 1 2 0 0 2 2 2 0 0 2 1 2 2\n",
      " 0 2 2 2 0 2 2 0 2 1 0 0 0 2 2 2 0 2 0 0 1 0 2 2 2 0 2 2 0 0 2 2 0 0 1 0 2\n",
      " 2 2 0 0 1 1 0 0 0 1 2 2 0 0 1 2 1 0 2 1 2 2 2 0 2 2 1 0 1 2 2 0 1 0 0 2 2\n",
      " 2 2 0 2 2 2 0 2 2 0 0 1 0 2 2 2 0 2 2 0 2 2 2 2 2 2 2 2 0 2 0 2 2 0 1 0 2\n",
      " 2 2 2 0 1 0 2 0 2 1 1 2 0 0 2 2 2 0 2 0 0 0 0 0 0 0 0 2 2 0 2 1 2 0 2 2 0\n",
      " 1 2 2 2 2 2 2 2 1 0 0 1 2 2 2 0 0 2 2 0 2 1 1 2 2 2 2 2 0 0 2 0 1 2 2 2 1\n",
      " 1 1 2 2 2 2 2 2 2 2 2 0 2 0 0 2 2 0 2 2 2 2 0 0 1 1 1 2 2 0 2 1 0 0 2 0 1\n",
      " 2 0 2 0 0 0 2 2 2 0 0 2 0 2 2 2 2 2 2 2 2 2 1 1 2 2 0 0 2 2 2 2 0 1 0 2 2\n",
      " 0 2 0 0 0 2 2 0 0 2 2 2 2 1 0 0 2 0 0 1 2 1 2 0 2 2 2 2 2 2 1 0 2 0 0 0 2\n",
      " 0 0 2 0 1 0 2 1 0 0 0 0 0 2 0 1 0 0 0 0 2 2 2 2 2 1 0 0 2 2 0 0 2 2 2 0 0\n",
      " 2]\n"
     ]
    }
   ],
   "source": [
    "# Vectorizing the text data using TfidfVectorizer (with dimensionality reduction)\n",
    "vectorizer = TfidfVectorizer(stop_words='english', max_features=500)\n",
    "X_vec = vectorizer.fit_transform(X)\n",
    "\n",
    "# Reduce dimensionality using TruncatedSVD (helps with performance)\n",
    "svd = TruncatedSVD(n_components=100)  # Reduce to 100 components\n",
    "X_svd = svd.fit_transform(X_vec)\n",
    "\n",
    "# Example labels: Here we assume you are working with a small set of hidden states (just for example)\n",
    "# In practice, labels should be related to a real task, like disease progression or other states\n",
    "y = np.random.choice([0, 1, 2], size=len(X))  # Just an example (3 hidden states)\n",
    "\n",
    "# Split the data into training and testing sets\n",
    "X_train, X_test, y_train, y_test = train_test_split(X_svd, y, test_size=0.2, random_state=42)\n",
    "\n",
    "# Define the Hidden Markov Model (GaussianHMM for continuous data)\n",
    "model = GaussianHMM(n_components=3, covariance_type=\"full\", random_state=42)\n",
    "\n",
    "# Fit the model to the training data\n",
    "model.fit(X_train)\n",
    "\n",
    "# Predict hidden states for the test data\n",
    "hidden_states = model.predict(X_test)\n",
    "\n",
    "# Print the predicted hidden states\n",
    "print(\"Predicted Hidden States (Disease Progression):\")\n",
    "print(hidden_states)"
   ]
  },
  {
   "cell_type": "markdown",
   "metadata": {},
   "source": [
    "**Reinforcement Learning**"
   ]
  },
  {
   "cell_type": "code",
   "execution_count": 9,
   "metadata": {},
   "outputs": [
    {
     "name": "stdout",
     "output_type": "stream",
     "text": [
      "Learned Q-table:\n",
      "[[50.46909529 28.18618378 20.25618338]\n",
      " [45.87153367 33.11919138 15.53655679]\n",
      " [16.63633824 42.34596323 36.66732246]]\n"
     ]
    }
   ],
   "source": [
    "# Define the Q-learning parameters\n",
    "alpha = 0.1   # Learning rate\n",
    "gamma = 0.9   # Discount factor\n",
    "epsilon = 0.1 # Exploration factor\n",
    "\n",
    "# Define the state space (e.g., patient's condition: 'mild', 'moderate', 'critical')\n",
    "state_space = ['mild', 'moderate', 'critical']\n",
    "\n",
    "# Define the action space (e.g., treatments: 'rest', 'medicine', 'hospital')\n",
    "action_space = ['rest', 'medicine', 'hospital']\n",
    "\n",
    "# Initialize the Q-table with zeros\n",
    "Q = np.zeros((len(state_space), len(action_space)))\n",
    "\n",
    "# Define the reward matrix (based on expert knowledge or trial)\n",
    "reward_matrix = {\n",
    "    ('mild', 'rest'): 10,\n",
    "    ('mild', 'medicine'): 5,\n",
    "    ('mild', 'hospital'): -10,\n",
    "    ('moderate', 'rest'): 5,\n",
    "    ('moderate', 'medicine'): 10,\n",
    "    ('moderate', 'hospital'): 0,\n",
    "    ('critical', 'rest'): -10,\n",
    "    ('critical', 'medicine'): 0,\n",
    "    ('critical', 'hospital'): 20\n",
    "}\n",
    "\n",
    "# Function to get the action based on epsilon-greedy strategy\n",
    "def choose_action(state_index):\n",
    "    if np.random.uniform(0, 1) < epsilon:\n",
    "        return np.random.choice(len(action_space))  # Explore\n",
    "    else:\n",
    "        return np.argmax(Q[state_index])  # Exploit\n",
    "\n",
    "# Q-learning algorithm to train the agent\n",
    "for episode in range(1000):  # Number of episodes\n",
    "    state = np.random.choice(len(state_space))  # Randomly pick an initial state\n",
    "    action = choose_action(state)  # Choose an action based on the state\n",
    "    next_state = np.random.choice(len(state_space))  # Randomly pick the next state\n",
    "    reward = reward_matrix[(state_space[state], action_space[action])]  # Get the reward\n",
    "\n",
    "    # Update the Q-table using the Q-learning update rule\n",
    "    Q[state, action] = Q[state, action] + alpha * (reward + gamma * np.max(Q[next_state]) - Q[state, action])\n",
    "\n",
    "# Output the learned Q-table\n",
    "print(\"Learned Q-table:\")\n",
    "print(Q)\n"
   ]
  },
  {
   "cell_type": "markdown",
   "metadata": {},
   "source": [
    "**Bayesian Network**"
   ]
  },
  {
   "cell_type": "code",
   "execution_count": 12,
   "metadata": {},
   "outputs": [
    {
     "name": "stdout",
     "output_type": "stream",
     "text": [
      "Requirement already satisfied: pgmpy in c:\\users\\jgu04\\anaconda3\\lib\\site-packages (0.1.26)\n",
      "Requirement already satisfied: networkx in c:\\users\\jgu04\\anaconda3\\lib\\site-packages (from pgmpy) (3.2.1)\n",
      "Requirement already satisfied: numpy in c:\\users\\jgu04\\anaconda3\\lib\\site-packages (from pgmpy) (1.26.4)\n",
      "Requirement already satisfied: scipy in c:\\users\\jgu04\\anaconda3\\lib\\site-packages (from pgmpy) (1.13.1)\n",
      "Requirement already satisfied: scikit-learn in c:\\users\\jgu04\\anaconda3\\lib\\site-packages (from pgmpy) (1.4.2)\n",
      "Requirement already satisfied: pandas in c:\\users\\jgu04\\anaconda3\\lib\\site-packages (from pgmpy) (2.2.2)\n",
      "Requirement already satisfied: pyparsing in c:\\users\\jgu04\\anaconda3\\lib\\site-packages (from pgmpy) (3.0.9)\n",
      "Requirement already satisfied: torch in c:\\users\\jgu04\\anaconda3\\lib\\site-packages (from pgmpy) (2.5.0)\n",
      "Requirement already satisfied: statsmodels in c:\\users\\jgu04\\anaconda3\\lib\\site-packages (from pgmpy) (0.14.2)\n",
      "Requirement already satisfied: tqdm in c:\\users\\jgu04\\anaconda3\\lib\\site-packages (from pgmpy) (4.66.4)\n",
      "Requirement already satisfied: joblib in c:\\users\\jgu04\\anaconda3\\lib\\site-packages (from pgmpy) (1.4.2)\n",
      "Requirement already satisfied: opt-einsum in c:\\users\\jgu04\\anaconda3\\lib\\site-packages (from pgmpy) (3.4.0)\n",
      "Requirement already satisfied: xgboost in c:\\users\\jgu04\\anaconda3\\lib\\site-packages (from pgmpy) (3.0.0)\n",
      "Requirement already satisfied: google-generativeai in c:\\users\\jgu04\\anaconda3\\lib\\site-packages (from pgmpy) (0.8.4)\n",
      "Requirement already satisfied: google-ai-generativelanguage==0.6.15 in c:\\users\\jgu04\\anaconda3\\lib\\site-packages (from google-generativeai->pgmpy) (0.6.15)\n",
      "Requirement already satisfied: google-api-core in c:\\users\\jgu04\\anaconda3\\lib\\site-packages (from google-generativeai->pgmpy) (2.24.2)\n",
      "Requirement already satisfied: google-api-python-client in c:\\users\\jgu04\\anaconda3\\lib\\site-packages (from google-generativeai->pgmpy) (2.164.0)\n",
      "Requirement already satisfied: google-auth>=2.15.0 in c:\\users\\jgu04\\anaconda3\\lib\\site-packages (from google-generativeai->pgmpy) (2.38.0)\n",
      "Requirement already satisfied: protobuf in c:\\users\\jgu04\\anaconda3\\lib\\site-packages (from google-generativeai->pgmpy) (5.29.3)\n",
      "Requirement already satisfied: pydantic in c:\\users\\jgu04\\anaconda3\\lib\\site-packages (from google-generativeai->pgmpy) (2.5.3)\n",
      "Requirement already satisfied: typing-extensions in c:\\users\\jgu04\\anaconda3\\lib\\site-packages (from google-generativeai->pgmpy) (4.11.0)\n",
      "Requirement already satisfied: proto-plus<2.0.0dev,>=1.22.3 in c:\\users\\jgu04\\anaconda3\\lib\\site-packages (from google-ai-generativelanguage==0.6.15->google-generativeai->pgmpy) (1.26.1)\n",
      "Requirement already satisfied: python-dateutil>=2.8.2 in c:\\users\\jgu04\\anaconda3\\lib\\site-packages (from pandas->pgmpy) (2.9.0.post0)\n",
      "Requirement already satisfied: pytz>=2020.1 in c:\\users\\jgu04\\anaconda3\\lib\\site-packages (from pandas->pgmpy) (2024.1)\n",
      "Requirement already satisfied: tzdata>=2022.7 in c:\\users\\jgu04\\anaconda3\\lib\\site-packages (from pandas->pgmpy) (2023.3)\n",
      "Requirement already satisfied: threadpoolctl>=2.0.0 in c:\\users\\jgu04\\anaconda3\\lib\\site-packages (from scikit-learn->pgmpy) (2.2.0)\n",
      "Requirement already satisfied: patsy>=0.5.6 in c:\\users\\jgu04\\anaconda3\\lib\\site-packages (from statsmodels->pgmpy) (0.5.6)\n",
      "Requirement already satisfied: packaging>=21.3 in c:\\users\\jgu04\\anaconda3\\lib\\site-packages (from statsmodels->pgmpy) (23.2)\n",
      "Requirement already satisfied: filelock in c:\\users\\jgu04\\anaconda3\\lib\\site-packages (from torch->pgmpy) (3.13.1)\n",
      "Requirement already satisfied: setuptools in c:\\users\\jgu04\\anaconda3\\lib\\site-packages (from torch->pgmpy) (69.5.1)\n",
      "Requirement already satisfied: sympy==1.13.1 in c:\\users\\jgu04\\anaconda3\\lib\\site-packages (from torch->pgmpy) (1.13.1)\n",
      "Requirement already satisfied: jinja2 in c:\\users\\jgu04\\anaconda3\\lib\\site-packages (from torch->pgmpy) (3.1.4)\n",
      "Requirement already satisfied: fsspec in c:\\users\\jgu04\\anaconda3\\lib\\site-packages (from torch->pgmpy) (2024.3.1)\n",
      "Requirement already satisfied: mpmath<1.4,>=1.1.0 in c:\\users\\jgu04\\anaconda3\\lib\\site-packages (from sympy==1.13.1->torch->pgmpy) (1.3.0)\n",
      "Requirement already satisfied: colorama in c:\\users\\jgu04\\anaconda3\\lib\\site-packages (from tqdm->pgmpy) (0.4.6)\n",
      "Requirement already satisfied: googleapis-common-protos<2.0.0,>=1.56.2 in c:\\users\\jgu04\\anaconda3\\lib\\site-packages (from google-api-core->google-generativeai->pgmpy) (1.69.1)\n",
      "Requirement already satisfied: requests<3.0.0,>=2.18.0 in c:\\users\\jgu04\\anaconda3\\lib\\site-packages (from google-api-core->google-generativeai->pgmpy) (2.32.2)\n",
      "Requirement already satisfied: cachetools<6.0,>=2.0.0 in c:\\users\\jgu04\\anaconda3\\lib\\site-packages (from google-auth>=2.15.0->google-generativeai->pgmpy) (5.3.3)\n",
      "Requirement already satisfied: pyasn1-modules>=0.2.1 in c:\\users\\jgu04\\anaconda3\\lib\\site-packages (from google-auth>=2.15.0->google-generativeai->pgmpy) (0.2.8)\n",
      "Requirement already satisfied: rsa<5,>=3.1.4 in c:\\users\\jgu04\\anaconda3\\lib\\site-packages (from google-auth>=2.15.0->google-generativeai->pgmpy) (4.9)\n",
      "Requirement already satisfied: six in c:\\users\\jgu04\\anaconda3\\lib\\site-packages (from patsy>=0.5.6->statsmodels->pgmpy) (1.16.0)\n",
      "Requirement already satisfied: httplib2<1.dev0,>=0.19.0 in c:\\users\\jgu04\\anaconda3\\lib\\site-packages (from google-api-python-client->google-generativeai->pgmpy) (0.22.0)\n",
      "Requirement already satisfied: google-auth-httplib2<1.0.0,>=0.2.0 in c:\\users\\jgu04\\anaconda3\\lib\\site-packages (from google-api-python-client->google-generativeai->pgmpy) (0.2.0)\n",
      "Requirement already satisfied: uritemplate<5,>=3.0.1 in c:\\users\\jgu04\\anaconda3\\lib\\site-packages (from google-api-python-client->google-generativeai->pgmpy) (4.1.1)\n",
      "Requirement already satisfied: MarkupSafe>=2.0 in c:\\users\\jgu04\\anaconda3\\lib\\site-packages (from jinja2->torch->pgmpy) (2.1.3)\n",
      "Requirement already satisfied: annotated-types>=0.4.0 in c:\\users\\jgu04\\anaconda3\\lib\\site-packages (from pydantic->google-generativeai->pgmpy) (0.6.0)\n",
      "Requirement already satisfied: pydantic-core==2.14.6 in c:\\users\\jgu04\\anaconda3\\lib\\site-packages (from pydantic->google-generativeai->pgmpy) (2.14.6)\n",
      "Requirement already satisfied: grpcio<2.0dev,>=1.33.2 in c:\\users\\jgu04\\anaconda3\\lib\\site-packages (from google-api-core[grpc]!=2.0.*,!=2.1.*,!=2.10.*,!=2.2.*,!=2.3.*,!=2.4.*,!=2.5.*,!=2.6.*,!=2.7.*,!=2.8.*,!=2.9.*,<3.0.0dev,>=1.34.1->google-ai-generativelanguage==0.6.15->google-generativeai->pgmpy) (1.71.0)\n",
      "Requirement already satisfied: grpcio-status<2.0.dev0,>=1.33.2 in c:\\users\\jgu04\\anaconda3\\lib\\site-packages (from google-api-core[grpc]!=2.0.*,!=2.1.*,!=2.10.*,!=2.2.*,!=2.3.*,!=2.4.*,!=2.5.*,!=2.6.*,!=2.7.*,!=2.8.*,!=2.9.*,<3.0.0dev,>=1.34.1->google-ai-generativelanguage==0.6.15->google-generativeai->pgmpy) (1.71.0)\n",
      "Requirement already satisfied: pyasn1<0.5.0,>=0.4.6 in c:\\users\\jgu04\\anaconda3\\lib\\site-packages (from pyasn1-modules>=0.2.1->google-auth>=2.15.0->google-generativeai->pgmpy) (0.4.8)\n",
      "Requirement already satisfied: charset-normalizer<4,>=2 in c:\\users\\jgu04\\anaconda3\\lib\\site-packages (from requests<3.0.0,>=2.18.0->google-api-core->google-generativeai->pgmpy) (2.0.4)\n",
      "Requirement already satisfied: idna<4,>=2.5 in c:\\users\\jgu04\\anaconda3\\lib\\site-packages (from requests<3.0.0,>=2.18.0->google-api-core->google-generativeai->pgmpy) (3.7)\n",
      "Requirement already satisfied: urllib3<3,>=1.21.1 in c:\\users\\jgu04\\anaconda3\\lib\\site-packages (from requests<3.0.0,>=2.18.0->google-api-core->google-generativeai->pgmpy) (2.2.2)\n",
      "Requirement already satisfied: certifi>=2017.4.17 in c:\\users\\jgu04\\anaconda3\\lib\\site-packages (from requests<3.0.0,>=2.18.0->google-api-core->google-generativeai->pgmpy) (2024.8.30)\n",
      "Note: you may need to restart the kernel to use updated packages.\n"
     ]
    }
   ],
   "source": [
    "%pip install pgmpy"
   ]
  },
  {
   "cell_type": "code",
   "execution_count": 10,
   "metadata": {},
   "outputs": [],
   "source": [
    "from pgmpy.models import BayesianNetwork\n",
    "from pgmpy.factors.discrete import TabularCPD\n",
    "from pgmpy.inference import VariableElimination"
   ]
  },
  {
   "cell_type": "code",
   "execution_count": 26,
   "metadata": {},
   "outputs": [
    {
     "name": "stdout",
     "output_type": "stream",
     "text": [
      "+-----------+---------------+\n",
      "| Asthma    |   phi(Asthma) |\n",
      "+===========+===============+\n",
      "| Asthma(0) |        0.1000 |\n",
      "+-----------+---------------+\n",
      "| Asthma(1) |        0.9000 |\n",
      "+-----------+---------------+\n"
     ]
    }
   ],
   "source": [
    "# Define the structure of the Bayesian Network\n",
    "# This is a simple model with nodes: Cough, Wheezing, Asthma\n",
    "\n",
    "model = BayesianNetwork([('Cough', 'Asthma'), \n",
    "                         ('Wheezing', 'Asthma')])\n",
    "\n",
    "# Define the Conditional Probability Distributions (CPDs)\n",
    "# CPD for 'Cough' (no cause, just observed evidence)\n",
    "cpd_cough = TabularCPD(variable='Cough', variable_card=2, \n",
    "                       values=[[0.7], [0.3]])  # 70% chance of not coughing, 30% coughing\n",
    "\n",
    "# CPD for 'Wheezing' (no cause, just observed evidence)\n",
    "cpd_wheezing = TabularCPD(variable='Wheezing', variable_card=2, \n",
    "                          values=[[0.8], [0.2]])  # 80% chance of not wheezing, 20% wheezing\n",
    "\n",
    "# CPD for 'Asthma' (depends on Cough and Wheezing)\n",
    "cpd_asthma = TabularCPD(variable='Asthma', variable_card=2, \n",
    "                        values=[[0.9, 0.6, 0.7, 0.1], \n",
    "                                [0.1, 0.4, 0.3, 0.9]], \n",
    "                        evidence=['Cough', 'Wheezing'], \n",
    "                        evidence_card=[2, 2])\n",
    "\n",
    "# Add CPDs to the model\n",
    "model.add_cpds(cpd_cough, cpd_wheezing, cpd_asthma)\n",
    "\n",
    "# Check the model for correctness\n",
    "model.check_model()\n",
    "\n",
    "# Perform inference to predict asthma given observed symptoms (Cough and Wheezing)\n",
    "inference = VariableElimination(model)\n",
    "\n",
    "# Query the network: \"What is the probability of Asthma given that the person is coughing and wheezing?\"\n",
    "query_result = inference.query(variables=['Asthma'], \n",
    "                               evidence={'Cough': 1, 'Wheezing': 1})  # 1 = observed (True)\n",
    "\n",
    "# Print the result\n",
    "print(query_result)"
   ]
  },
  {
   "cell_type": "markdown",
   "metadata": {},
   "source": [
    "**Final Model: Cosine similarity**\n",
    "**(Simulated Reinforcement Learning from patient feedback)**"
   ]
  },
  {
   "cell_type": "code",
   "execution_count": 23,
   "metadata": {},
   "outputs": [
    {
     "name": "stdout",
     "output_type": "stream",
     "text": [
      "Top 3 Responses:\n",
      "1. if it is acute appendicitis  operation might be necessary  it dependon the investigation findings  sometimes it can be controlled with medications also \n",
      "2. constipation  when was your last bowel movement   if you are clogged up it will have no where else to go but up  chances are the pain in your belly by your bladder is a strained muscle  so is your question about the strained muscle or the vomiting   chances are you have a 24 hour flu or you ate something bad for breakfast\n",
      "3. hi there thanks for using hcm the symptoms of appendicitis are right lower abdominal pain  nausea  vomiting and fever when you press over the right lower abdomen   there would be severe tenderness the white cell count would be high as in your daughter s case the diagnosis can be confirmed with an ultrasound scan or a ct scan of the abdomen milder forms would resolve with medications severe forms may need removal of appendix  is this answer helpful \n",
      "\n",
      "Optimized Response (based on RL feedback): constipation  when was your last bowel movement   if you are clogged up it will have no where else to go but up  chances are the pain in your belly by your bladder is a strained muscle  so is your question about the strained muscle or the vomiting   chances are you have a 24 hour flu or you ate something bad for breakfast\n"
     ]
    }
   ],
   "source": [
    "import pandas as pd\n",
    "import numpy as np\n",
    "from sklearn.feature_extraction.text import TfidfVectorizer\n",
    "from sklearn.metrics.pairwise import cosine_similarity\n",
    "import random\n",
    "\n",
    "# Load the dataset (preprocessed CSV)\n",
    "path = 'data/preprocessed-ai-medical-chatbot.csv'\n",
    "df = pd.read_csv(path)\n",
    "df = df.dropna()\n",
    "\n",
    "# Extract questions and answers\n",
    "questions = df['question'].values\n",
    "answers = df['answer'].values\n",
    "\n",
    "# Vectorize the questions using TF-IDF\n",
    "vectorizer = TfidfVectorizer(stop_words='english')\n",
    "question_vectors = vectorizer.fit_transform(questions)\n",
    "\n",
    "# Function to calculate cosine similarity and retrieve the top 3 responses\n",
    "def get_top_responses(patient_query, top_n=3):\n",
    "    query_vector = vectorizer.transform([patient_query])\n",
    "    similarity_scores = cosine_similarity(query_vector, question_vectors)\n",
    "    \n",
    "    # Get indices of the top N responses based on cosine similarity\n",
    "    top_indices = np.argsort(similarity_scores[0])[-top_n:][::-1]\n",
    "    \n",
    "    # Return the top N responses and the corresponding indices\n",
    "    return [answers[i] for i in top_indices], top_indices\n",
    "\n",
    "# Reinforcement Learning (Simulating User Feedback for Optimization)\n",
    "def simulate_user_feedback(response):\n",
    "    # Simulate user feedback (1-5 scale, where 5 is most helpful)\n",
    "    return random.randint(1, 5)\n",
    "\n",
    "def rl_optimization(responses):\n",
    "    best_response = None\n",
    "    best_feedback = 0\n",
    "    for response in responses:\n",
    "        feedback = simulate_user_feedback(response)\n",
    "        if feedback > best_feedback:\n",
    "            best_feedback = feedback\n",
    "            best_response = response\n",
    "    return best_response\n",
    "\n",
    "# Generalized function to get the top responses considering both HMM and RL\n",
    "def get_best_responses(patient_query, top_n=3):\n",
    "    # Retrieve top responses based on cosine similarity\n",
    "    top_responses, top_indices = get_top_responses(patient_query, top_n)\n",
    "    \n",
    "    # Optimize the responses using RL (based on simulated feedback)\n",
    "    optimized_response = rl_optimization(top_responses)\n",
    "    \n",
    "    return top_responses, optimized_response, top_indices  # Return top responses, optimized response, and indices\n",
    "\n",
    "# Example patient query\n",
    "patient_query = \"vomiting one day pain appendix bladder\"\n",
    "\n",
    "# Get the top 3 responses\n",
    "top_responses, optimized_response, top_indices = get_best_responses(patient_query, top_n=3)\n",
    "\n",
    "# Print the results\n",
    "print(f\"Top 3 Responses:\")\n",
    "for i, response in enumerate(top_responses, start=1):\n",
    "    print(f\"{i}. {response}\")\n",
    "\n",
    "print(f\"\\nOptimized Response (based on RL feedback): {optimized_response}\")\n"
   ]
  },
  {
   "cell_type": "markdown",
   "metadata": {},
   "source": [
    "**Model Evaluation**"
   ]
  },
  {
   "cell_type": "code",
   "execution_count": 24,
   "metadata": {},
   "outputs": [
    {
     "name": "stdout",
     "output_type": "stream",
     "text": [
      "Top 3 Responses: ['hi  i have gone through the attachment  attachment removed to protect patient identity   it is oral stomatitis with pharyngitis  it can be due to smoking and alcohol infection  certain investigations like hb  hemoglobin   tlc  total leucocyte count   dlc  differential leucocyte count   and esr  erythrocyte sedimentation rate  can be done  it can be treated by taking oral vitamin b complex tablets with chlorhexidine mouthwash  avoid spicy foods and smoking  for more information consult an ent otolaryngologist online    ', 'hi  most of the times  a sore throat is due to a viral infection  this occurs with or without some amount of acid reflux into the throat from within the food pipe  this condition is called laryngopharyngeal reflux disease  lprd  and this may present simply with a sore throat and without any other symptoms of gastritis   i would  therefore  recommend antiseptic mouth gargles with chlorhexidine or dilute betadine  three times a day before and after meals along with a good proton pump inhibitor such as tablet esomeprazole 40 mg once in the morning 15 minutes before meals for one week  i would also advise taking an anti inflammatory medication such as ibuprofen or paracetamol once daily for three days after breakfast  to reduce the throat pain   in my opinion  your sore throat should subside in three to five days  if it worsens or you develop fever  then an antibiotic may be necessary for which you can consult an ent otolaryngologist online    ', 'hello your child might be suffering tonsil infection  you can observe by looking on his mouth at the base of tongue  it can be treated with the medicine and subsides after the due treatment  you can visit to nearest physician for treatment or i am suggesting you homeopathic medicine you can start as following phytolacca dec 200 6 pills twice in day take this medicine for 10 days and he will be alrighthope this is clear to you have a good health thanks dr ratnesh']\n",
      "Optimized Response (RL): hi  i have gone through the attachment  attachment removed to protect patient identity   it is oral stomatitis with pharyngitis  it can be due to smoking and alcohol infection  certain investigations like hb  hemoglobin   tlc  total leucocyte count   dlc  differential leucocyte count   and esr  erythrocyte sedimentation rate  can be done  it can be treated by taking oral vitamin b complex tablets with chlorhexidine mouthwash  avoid spicy foods and smoking  for more information consult an ent otolaryngologist online    \n",
      "Precision at 3: 0\n",
      "Average Simulated User Feedback: 2.6666666666666665\n"
     ]
    },
    {
     "data": {
      "text/plain": [
       "(0, 2.6666666666666665)"
      ]
     },
     "execution_count": 24,
     "metadata": {},
     "output_type": "execute_result"
    }
   ],
   "source": [
    "# Evaluation functions\n",
    "def evaluate_model(patient_query, correct_answer, top_n=3):\n",
    "    # Get the top responses and indices\n",
    "    top_responses, optimized_response, top_indices = get_best_responses(patient_query, top_n)\n",
    "    \n",
    "    # Check if the correct answer is in the top N responses\n",
    "    correct_in_top = correct_answer in top_responses\n",
    "    precision_at_k = 1 if correct_in_top else 0\n",
    "    \n",
    "    # Simulate user feedback for each response\n",
    "    feedback_scores = [simulate_user_feedback(response) for response in top_responses]\n",
    "    average_feedback = np.mean(feedback_scores)\n",
    "    \n",
    "    # Output evaluation metrics\n",
    "    print(f\"Top {top_n} Responses: {top_responses}\")\n",
    "    print(f\"Optimized Response (RL): {optimized_response}\")\n",
    "    print(f\"Precision at {top_n}: {precision_at_k}\")\n",
    "    print(f\"Average Simulated User Feedback: {average_feedback}\")\n",
    "    \n",
    "    return precision_at_k, average_feedback\n",
    "\n",
    "# Example patient query and correct answer\n",
    "patient_query = \"I have a sore throat, what should I do?\"\n",
    "correct_answer = \"constipation when was your last bowel movement if you are clogged up it will have no where else to go but up chances are the pain in your belly by your bladder is a strained muscle so is your question about the strained muscle or the vomiting chances are you have a 24 hour flu or you ate something bad for breakfast\"\n",
    "\n",
    "# Evaluate the model on this query\n",
    "evaluate_model(patient_query, correct_answer, top_n=3)\n"
   ]
  }
 ],
 "metadata": {
  "kernelspec": {
   "display_name": "base",
   "language": "python",
   "name": "python3"
  },
  "language_info": {
   "codemirror_mode": {
    "name": "ipython",
    "version": 3
   },
   "file_extension": ".py",
   "mimetype": "text/x-python",
   "name": "python",
   "nbconvert_exporter": "python",
   "pygments_lexer": "ipython3",
   "version": "3.12.4"
  }
 },
 "nbformat": 4,
 "nbformat_minor": 2
}
