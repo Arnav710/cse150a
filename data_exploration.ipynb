{
 "cells": [
  {
   "cell_type": "markdown",
   "metadata": {},
   "source": [
    "## Import Libraries"
   ]
  },
  {
   "cell_type": "code",
   "execution_count": 160,
   "metadata": {},
   "outputs": [],
   "source": [
    "import pandas as pd\n",
    "import numpy as np\n",
    "import random\n",
    "\n",
    "SEED = 42"
   ]
  },
  {
   "cell_type": "markdown",
   "metadata": {},
   "source": [
    "## Load and view data"
   ]
  },
  {
   "cell_type": "code",
   "execution_count": 161,
   "metadata": {},
   "outputs": [],
   "source": [
    "path = 'data/ai-medical-chatbot-data.csv'\n",
    "df = pd.read_csv(path)"
   ]
  },
  {
   "cell_type": "code",
   "execution_count": 162,
   "metadata": {},
   "outputs": [
    {
     "data": {
      "text/html": [
       "<div>\n",
       "<style scoped>\n",
       "    .dataframe tbody tr th:only-of-type {\n",
       "        vertical-align: middle;\n",
       "    }\n",
       "\n",
       "    .dataframe tbody tr th {\n",
       "        vertical-align: top;\n",
       "    }\n",
       "\n",
       "    .dataframe thead th {\n",
       "        text-align: right;\n",
       "    }\n",
       "</style>\n",
       "<table border=\"1\" class=\"dataframe\">\n",
       "  <thead>\n",
       "    <tr style=\"text-align: right;\">\n",
       "      <th></th>\n",
       "      <th>short_question</th>\n",
       "      <th>short_answer</th>\n",
       "      <th>tags</th>\n",
       "      <th>label</th>\n",
       "    </tr>\n",
       "  </thead>\n",
       "  <tbody>\n",
       "    <tr>\n",
       "      <th>30265</th>\n",
       "      <td>what is a nervous breakdown</td>\n",
       "      <td>nervous breakdown is not a clinical term so it does not mean anything specific to doctors people may use nervous breakdown to describe an episode of severe emotional distress the word “breakdown” may suggest the person showed unusual behavior or stopped performing his or her expected duties at home or work people described as having a nervous breakdown may or may not meet the criteria for a formal psychiatric diagnosis</td>\n",
       "      <td>['mental breakdown']</td>\n",
       "      <td>1.0</td>\n",
       "    </tr>\n",
       "    <tr>\n",
       "      <th>24640</th>\n",
       "      <td>i get very paranoid about allergies and death please help</td>\n",
       "      <td>do not be so obsessive about it in last 20 years i have hardly seen any case of anaphylaxis due to allergy its that rare so calm down you wont get anaphylaxis</td>\n",
       "      <td>['paranoia']</td>\n",
       "      <td>1.0</td>\n",
       "    </tr>\n",
       "    <tr>\n",
       "      <th>13125</th>\n",
       "      <td>my husband took a 25 mg imitrex for a really bad headache over three hours ago can he also take vicodin</td>\n",
       "      <td>hi start with the ringing well that could be tinnitus have a look on www earthclnic com its all natural stuff you may find some help there if you think you ears are clogged try some warm olive oil in them its worked for me a couple of times as fore smoking did smoke form the age of 11 till 1996 have just resently had a bit of tinnitus but i put this down to using a cutting disc next to my head as i was up a ladder your find tinnitus comes from lots of things load music in ear phones being the worst do hope this helps you good luck</td>\n",
       "      <td>['headache' 'vitamin a']</td>\n",
       "      <td>-1.0</td>\n",
       "    </tr>\n",
       "    <tr>\n",
       "      <th>41494</th>\n",
       "      <td>my wife is 72 and was diagnosed with afib 3 years ago is it advisable for her to be on a statin medication now   her health has been good in general except for age related issues like arthritis and some hearing loss she has never had any heart problems before the afib never any high blood pressure high cholesterol or anything else her last cholesterol level was 186 triglyceride 128 hdl 68 non hdl cholesterol 118 and ldl 92 i would like to know what the recommendation is for a person with this profile should they be taking a statin medication as a prophylactic measure</td>\n",
       "      <td>hi her numbers are good and keep as far away from statins as she can get she sounds really healthy statins could reverse that if your not up on statins just go to www spacdoc com its a site all by doctors even the site owner is a doctor makes for some very interesting reading ok good luck</td>\n",
       "      <td>['arthritis' 'hearing loss' 'heart' 'high blood pressure' 'cholesterol']</td>\n",
       "      <td>1.0</td>\n",
       "    </tr>\n",
       "    <tr>\n",
       "      <th>29503</th>\n",
       "      <td>im having lower back pains and im having pains in my pelvic area and i am leaking urine for no reason  i have to use the restroom about every hour i feel sick every time i wake up i have no idea whats going on i have never had a kid before i dont know what kind of doctor i need to see</td>\n",
       "      <td>mupiricin is an antibiotic used for skin infections it will not help poison ivy sorry</td>\n",
       "      <td>['pelvic area' 'nausea' 'vision' 'pain' 'back pain']</td>\n",
       "      <td>-1.0</td>\n",
       "    </tr>\n",
       "  </tbody>\n",
       "</table>\n",
       "</div>"
      ],
      "text/plain": [
       "                                                                                                                                                                                                                                                                                                                                                                                                                                                                                                                                                                                       short_question  \\\n",
       "30265                                                                                                                                                                                                                                                                                                                                                                                                                                                                                                                                                                     what is a nervous breakdown   \n",
       "24640                                                                                                                                                                                                                                                                                                                                                                                                                                                                                                                                       i get very paranoid about allergies and death please help   \n",
       "13125                                                                                                                                                                                                                                                                                                                                                                                                                                                                                         my husband took a 25 mg imitrex for a really bad headache over three hours ago can he also take vicodin   \n",
       "41494  my wife is 72 and was diagnosed with afib 3 years ago is it advisable for her to be on a statin medication now   her health has been good in general except for age related issues like arthritis and some hearing loss she has never had any heart problems before the afib never any high blood pressure high cholesterol or anything else her last cholesterol level was 186 triglyceride 128 hdl 68 non hdl cholesterol 118 and ldl 92 i would like to know what the recommendation is for a person with this profile should they be taking a statin medication as a prophylactic measure    \n",
       "29503                                                                                                                                                                                                                                                                                                   im having lower back pains and im having pains in my pelvic area and i am leaking urine for no reason  i have to use the restroom about every hour i feel sick every time i wake up i have no idea whats going on i have never had a kid before i dont know what kind of doctor i need to see   \n",
       "\n",
       "                                                                                                                                                                                                                                                                                                                                                                                                                                                                                                                                                   short_answer  \\\n",
       "30265                                                                                                                    nervous breakdown is not a clinical term so it does not mean anything specific to doctors people may use nervous breakdown to describe an episode of severe emotional distress the word “breakdown” may suggest the person showed unusual behavior or stopped performing his or her expected duties at home or work people described as having a nervous breakdown may or may not meet the criteria for a formal psychiatric diagnosis   \n",
       "24640                                                                                                                                                                                                                                                                                                                                                                                            do not be so obsessive about it in last 20 years i have hardly seen any case of anaphylaxis due to allergy its that rare so calm down you wont get anaphylaxis   \n",
       "13125  hi start with the ringing well that could be tinnitus have a look on www earthclnic com its all natural stuff you may find some help there if you think you ears are clogged try some warm olive oil in them its worked for me a couple of times as fore smoking did smoke form the age of 11 till 1996 have just resently had a bit of tinnitus but i put this down to using a cutting disc next to my head as i was up a ladder your find tinnitus comes from lots of things load music in ear phones being the worst do hope this helps you good luck   \n",
       "41494                                                                                                                                                                                                                                                         hi her numbers are good and keep as far away from statins as she can get she sounds really healthy statins could reverse that if your not up on statins just go to www spacdoc com its a site all by doctors even the site owner is a doctor makes for some very interesting reading ok good luck   \n",
       "29503                                                                                                                                                                                                                                                                                                                                                                                                                                                                     mupiricin is an antibiotic used for skin infections it will not help poison ivy sorry   \n",
       "\n",
       "                                                                           tags  \\\n",
       "30265                                                      ['mental breakdown']   \n",
       "24640                                                              ['paranoia']   \n",
       "13125                                                  ['headache' 'vitamin a']   \n",
       "41494  ['arthritis' 'hearing loss' 'heart' 'high blood pressure' 'cholesterol']   \n",
       "29503                      ['pelvic area' 'nausea' 'vision' 'pain' 'back pain']   \n",
       "\n",
       "       label  \n",
       "30265    1.0  \n",
       "24640    1.0  \n",
       "13125   -1.0  \n",
       "41494    1.0  \n",
       "29503   -1.0  "
      ]
     },
     "execution_count": 162,
     "metadata": {},
     "output_type": "execute_result"
    }
   ],
   "source": [
    "df.sample(5, random_state=SEED)"
   ]
  },
  {
   "cell_type": "markdown",
   "metadata": {},
   "source": [
    "#### Convert the tags column from string to list"
   ]
  },
  {
   "cell_type": "code",
   "execution_count": 163,
   "metadata": {},
   "outputs": [],
   "source": [
    "def convert_col_to_list(df : pd.DataFrame, column_name : str) -> pd.DataFrame:\n",
    "\t\n",
    "\t# Iterate through each row in the DataFrame\n",
    "\tfor i in range(len(df)):  \n",
    "\t\tvalue = df.at[i, column_name]\n",
    "\t\t\n",
    "\t\t# Remove square brackets from the string (if present)\n",
    "\t\tvalue_without_brackets = value.replace('[', '').replace(']', '')\n",
    "\t\t\n",
    "\t\t# Split the cleaned string into a list by spaces\n",
    "\t\tvalue_as_list = value_without_brackets.split(\"' '\")\n",
    "\n",
    "\t\t# Remove any remaining single quotes from the start and end\n",
    "\t\tvalue_as_list[0] = value_as_list[0].lstrip(\"'\")\n",
    "\t\tvalue_as_list[-1] = value_as_list[-1].rstrip(\"'\")\n",
    "\n",
    "\t\t# Remove commas from values\n",
    "\t\tcleaned_value_as_list = [val.replace(',', '') for val in value_as_list]\n",
    "\t\t\n",
    "\t\tdf.at[i, column_name] = cleaned_value_as_list\n",
    "\t\n",
    "\treturn df\n",
    "\n",
    "\n",
    "df = convert_col_to_list(df, 'tags')"
   ]
  },
  {
   "cell_type": "code",
   "execution_count": 164,
   "metadata": {},
   "outputs": [
    {
     "data": {
      "text/html": [
       "<div>\n",
       "<style scoped>\n",
       "    .dataframe tbody tr th:only-of-type {\n",
       "        vertical-align: middle;\n",
       "    }\n",
       "\n",
       "    .dataframe tbody tr th {\n",
       "        vertical-align: top;\n",
       "    }\n",
       "\n",
       "    .dataframe thead th {\n",
       "        text-align: right;\n",
       "    }\n",
       "</style>\n",
       "<table border=\"1\" class=\"dataframe\">\n",
       "  <thead>\n",
       "    <tr style=\"text-align: right;\">\n",
       "      <th></th>\n",
       "      <th>short_question</th>\n",
       "      <th>short_answer</th>\n",
       "      <th>tags</th>\n",
       "      <th>label</th>\n",
       "    </tr>\n",
       "  </thead>\n",
       "  <tbody>\n",
       "    <tr>\n",
       "      <th>30265</th>\n",
       "      <td>what is a nervous breakdown</td>\n",
       "      <td>nervous breakdown is not a clinical term so it does not mean anything specific to doctors people may use nervous breakdown to describe an episode of severe emotional distress the word “breakdown” may suggest the person showed unusual behavior or stopped performing his or her expected duties at home or work people described as having a nervous breakdown may or may not meet the criteria for a formal psychiatric diagnosis</td>\n",
       "      <td>[mental breakdown]</td>\n",
       "      <td>1.0</td>\n",
       "    </tr>\n",
       "    <tr>\n",
       "      <th>24640</th>\n",
       "      <td>i get very paranoid about allergies and death please help</td>\n",
       "      <td>do not be so obsessive about it in last 20 years i have hardly seen any case of anaphylaxis due to allergy its that rare so calm down you wont get anaphylaxis</td>\n",
       "      <td>[paranoia]</td>\n",
       "      <td>1.0</td>\n",
       "    </tr>\n",
       "    <tr>\n",
       "      <th>13125</th>\n",
       "      <td>my husband took a 25 mg imitrex for a really bad headache over three hours ago can he also take vicodin</td>\n",
       "      <td>hi start with the ringing well that could be tinnitus have a look on www earthclnic com its all natural stuff you may find some help there if you think you ears are clogged try some warm olive oil in them its worked for me a couple of times as fore smoking did smoke form the age of 11 till 1996 have just resently had a bit of tinnitus but i put this down to using a cutting disc next to my head as i was up a ladder your find tinnitus comes from lots of things load music in ear phones being the worst do hope this helps you good luck</td>\n",
       "      <td>[headache, vitamin a]</td>\n",
       "      <td>-1.0</td>\n",
       "    </tr>\n",
       "    <tr>\n",
       "      <th>41494</th>\n",
       "      <td>my wife is 72 and was diagnosed with afib 3 years ago is it advisable for her to be on a statin medication now   her health has been good in general except for age related issues like arthritis and some hearing loss she has never had any heart problems before the afib never any high blood pressure high cholesterol or anything else her last cholesterol level was 186 triglyceride 128 hdl 68 non hdl cholesterol 118 and ldl 92 i would like to know what the recommendation is for a person with this profile should they be taking a statin medication as a prophylactic measure</td>\n",
       "      <td>hi her numbers are good and keep as far away from statins as she can get she sounds really healthy statins could reverse that if your not up on statins just go to www spacdoc com its a site all by doctors even the site owner is a doctor makes for some very interesting reading ok good luck</td>\n",
       "      <td>[arthritis, hearing loss, heart, high blood pressure, cholesterol]</td>\n",
       "      <td>1.0</td>\n",
       "    </tr>\n",
       "    <tr>\n",
       "      <th>29503</th>\n",
       "      <td>im having lower back pains and im having pains in my pelvic area and i am leaking urine for no reason  i have to use the restroom about every hour i feel sick every time i wake up i have no idea whats going on i have never had a kid before i dont know what kind of doctor i need to see</td>\n",
       "      <td>mupiricin is an antibiotic used for skin infections it will not help poison ivy sorry</td>\n",
       "      <td>[pelvic area, nausea, vision, pain, back pain]</td>\n",
       "      <td>-1.0</td>\n",
       "    </tr>\n",
       "  </tbody>\n",
       "</table>\n",
       "</div>"
      ],
      "text/plain": [
       "                                                                                                                                                                                                                                                                                                                                                                                                                                                                                                                                                                                       short_question  \\\n",
       "30265                                                                                                                                                                                                                                                                                                                                                                                                                                                                                                                                                                     what is a nervous breakdown   \n",
       "24640                                                                                                                                                                                                                                                                                                                                                                                                                                                                                                                                       i get very paranoid about allergies and death please help   \n",
       "13125                                                                                                                                                                                                                                                                                                                                                                                                                                                                                         my husband took a 25 mg imitrex for a really bad headache over three hours ago can he also take vicodin   \n",
       "41494  my wife is 72 and was diagnosed with afib 3 years ago is it advisable for her to be on a statin medication now   her health has been good in general except for age related issues like arthritis and some hearing loss she has never had any heart problems before the afib never any high blood pressure high cholesterol or anything else her last cholesterol level was 186 triglyceride 128 hdl 68 non hdl cholesterol 118 and ldl 92 i would like to know what the recommendation is for a person with this profile should they be taking a statin medication as a prophylactic measure    \n",
       "29503                                                                                                                                                                                                                                                                                                   im having lower back pains and im having pains in my pelvic area and i am leaking urine for no reason  i have to use the restroom about every hour i feel sick every time i wake up i have no idea whats going on i have never had a kid before i dont know what kind of doctor i need to see   \n",
       "\n",
       "                                                                                                                                                                                                                                                                                                                                                                                                                                                                                                                                                   short_answer  \\\n",
       "30265                                                                                                                    nervous breakdown is not a clinical term so it does not mean anything specific to doctors people may use nervous breakdown to describe an episode of severe emotional distress the word “breakdown” may suggest the person showed unusual behavior or stopped performing his or her expected duties at home or work people described as having a nervous breakdown may or may not meet the criteria for a formal psychiatric diagnosis   \n",
       "24640                                                                                                                                                                                                                                                                                                                                                                                            do not be so obsessive about it in last 20 years i have hardly seen any case of anaphylaxis due to allergy its that rare so calm down you wont get anaphylaxis   \n",
       "13125  hi start with the ringing well that could be tinnitus have a look on www earthclnic com its all natural stuff you may find some help there if you think you ears are clogged try some warm olive oil in them its worked for me a couple of times as fore smoking did smoke form the age of 11 till 1996 have just resently had a bit of tinnitus but i put this down to using a cutting disc next to my head as i was up a ladder your find tinnitus comes from lots of things load music in ear phones being the worst do hope this helps you good luck   \n",
       "41494                                                                                                                                                                                                                                                         hi her numbers are good and keep as far away from statins as she can get she sounds really healthy statins could reverse that if your not up on statins just go to www spacdoc com its a site all by doctors even the site owner is a doctor makes for some very interesting reading ok good luck   \n",
       "29503                                                                                                                                                                                                                                                                                                                                                                                                                                                                     mupiricin is an antibiotic used for skin infections it will not help poison ivy sorry   \n",
       "\n",
       "                                                                     tags  \\\n",
       "30265                                                  [mental breakdown]   \n",
       "24640                                                          [paranoia]   \n",
       "13125                                               [headache, vitamin a]   \n",
       "41494  [arthritis, hearing loss, heart, high blood pressure, cholesterol]   \n",
       "29503                      [pelvic area, nausea, vision, pain, back pain]   \n",
       "\n",
       "       label  \n",
       "30265    1.0  \n",
       "24640    1.0  \n",
       "13125   -1.0  \n",
       "41494    1.0  \n",
       "29503   -1.0  "
      ]
     },
     "execution_count": 164,
     "metadata": {},
     "output_type": "execute_result"
    }
   ],
   "source": [
    "df.sample(5, random_state=SEED)"
   ]
  }
 ],
 "metadata": {
  "kernelspec": {
   "display_name": "cse156",
   "language": "python",
   "name": "python3"
  },
  "language_info": {
   "codemirror_mode": {
    "name": "ipython",
    "version": 3
   },
   "file_extension": ".py",
   "mimetype": "text/x-python",
   "name": "python",
   "nbconvert_exporter": "python",
   "pygments_lexer": "ipython3",
   "version": "3.12.7"
  }
 },
 "nbformat": 4,
 "nbformat_minor": 2
}
