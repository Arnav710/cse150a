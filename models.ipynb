{
 "cells": [
  {
   "cell_type": "code",
   "execution_count": 2,
   "metadata": {},
   "outputs": [],
   "source": [
    "import pandas as pd\n",
    "\n",
    "SEED = 0\n",
    "pd.set_option('display.max_colwidth', None)"
   ]
  },
  {
   "cell_type": "code",
   "execution_count": 3,
   "metadata": {},
   "outputs": [],
   "source": [
    "# Load Data"
   ]
  },
  {
   "cell_type": "code",
   "execution_count": 4,
   "metadata": {},
   "outputs": [],
   "source": [
    "path = 'data/preprocessed-ai-medical-chatbot.csv'\n",
    "df = pd.read_csv(path)\n",
    "df = df.dropna()"
   ]
  },
  {
   "cell_type": "code",
   "execution_count": 5,
   "metadata": {},
   "outputs": [
    {
     "data": {
      "text/html": [
       "<div>\n",
       "<style scoped>\n",
       "    .dataframe tbody tr th:only-of-type {\n",
       "        vertical-align: middle;\n",
       "    }\n",
       "\n",
       "    .dataframe tbody tr th {\n",
       "        vertical-align: top;\n",
       "    }\n",
       "\n",
       "    .dataframe thead th {\n",
       "        text-align: right;\n",
       "    }\n",
       "</style>\n",
       "<table border=\"1\" class=\"dataframe\">\n",
       "  <thead>\n",
       "    <tr style=\"text-align: right;\">\n",
       "      <th></th>\n",
       "      <th>description</th>\n",
       "      <th>question</th>\n",
       "      <th>answer</th>\n",
       "    </tr>\n",
       "  </thead>\n",
       "  <tbody>\n",
       "    <tr>\n",
       "      <th>152573</th>\n",
       "      <td>caus red spot around eye child</td>\n",
       "      <td>hi 18month old suddenli becom faddi eat ok diet eat shreddi pot yogurt odd bit toast poorli around 15th april sick diarea week diet chang becam better develop littl red spot chin spread around face one disappear anoth appear somewher els prescrib caneston cream didnt realli anyth seem clear eat yogurt anyth moment manag get eat spot appear around eye could eat someth els</td>\n",
       "      <td>i donot think so its related to yogurt she is fond of eating as it does not spread and non itchy  do you have mosquito at home  apply some soothing cream  moisturizer and that s all needed to your baby now</td>\n",
       "    </tr>\n",
       "    <tr>\n",
       "      <th>247419</th>\n",
       "      <td>skin color itchi bump elbow lower back temporari relief hydro cortison cream allergi pill histori season allergi done</td>\n",
       "      <td>skin color itchi bump elbow lower back itch like crazi notic last spring took long time heal month got spring get season allergi start take allergi pill itch went away rash clear longer season allergi need take alleri pill loratadin 10 mg rash back start take allergi pill help littl itch still bump still itch time bump red scratch like crazi tri hydrocortison cream well help also tri skinceut hydra balm well help littl itch live new mexico dri use oil lotion daili skin dri bump smooth touch blister</td>\n",
       "      <td>hi   dear user    thanks for choosing hcm    u have seasonal allergy called     allergic dermatitis    so evaluate it   consult good dermatologist    thanq</td>\n",
       "    </tr>\n",
       "    <tr>\n",
       "      <th>71438</th>\n",
       "      <td>vomit one day pain appendix bladder</td>\n",
       "      <td>vomit sinc yesterday eat lunch mouth esophagu hurt stomach feel full addit sinc morn area appendix bladder hurt could strain muscl due vomit appendix</td>\n",
       "      <td>constipation  when was your last bowel movement   if you are clogged up it will have no where else to go but up  chances are the pain in your belly by your bladder is a strained muscle  so is your question about the strained muscle or the vomiting   chances are you have a 24 hour flu or you ate something bad for breakfast</td>\n",
       "    </tr>\n",
       "    <tr>\n",
       "      <th>201206</th>\n",
       "      <td>liver cirrhosi enlarg spleen vein treat</td>\n",
       "      <td>hi name tammi multipl gallston hep c chorrosi liver enlarg spleen enlarg vein one live want touch want send bigger town better dr also want liver doner list hare get</td>\n",
       "      <td>hi and welcome to healthcaremagic  thank you for your query  i am dr  rommstein  i understand your concerns and i will try to help you as much as i can this is serious disease and quitting alcohol is the most important thing that should be done  also  medications which are hematotoxic should be avoided  this is necessary to prevent disease progression  which is lethal in most cases  at early stages it can be treated with these measures but but in case of progression  only liver transplantation may help  diet should be balanced and healthy and get regular exercise  limit high carb foods such as bread  grits  rice  potatoes  and corn  and cut down on drinks with lots of sugar like sports drinks and juice  if there is viral hepatitis as udnelying cause then antiviral medications are required i hope i have answered you query  if you have any further questions you can contact us in every time kindly regards  wish you a good health</td>\n",
       "    </tr>\n",
       "    <tr>\n",
       "      <th>40162</th>\n",
       "      <td>unabl control agit hallucin restless remedi</td>\n",
       "      <td>51 yr old femal w glioblastoma end stage morphine30mg sq q 4hr atc w btd 15 mg q 1hr prn decadron 4mg sq bid haldol 5mg sq q4hr atc ativan 1 mg q 4 hr atc still unabl control agit hallucin restless suggest</td>\n",
       "      <td>hithanks for using healthcare magici think  she has hallucination due to metastasis  in that case  just carry on with haloperidol or you can try quetiapine or olanzapine  organic psychosis is very difficult to treat and some time does not get improved with medication  better to try any of these sedative antipsychotic  at least with it she would remain calm thanks</td>\n",
       "    </tr>\n",
       "  </tbody>\n",
       "</table>\n",
       "</div>"
      ],
      "text/plain": [
       "                                                                                                                  description  \\\n",
       "152573                                                                                         caus red spot around eye child   \n",
       "247419  skin color itchi bump elbow lower back temporari relief hydro cortison cream allergi pill histori season allergi done   \n",
       "71438                                                                                     vomit one day pain appendix bladder   \n",
       "201206                                                                                liver cirrhosi enlarg spleen vein treat   \n",
       "40162                                                                             unabl control agit hallucin restless remedi   \n",
       "\n",
       "                                                                                                                                                                                                                                                                                                                                                                                                                                                                                                                       question  \\\n",
       "152573                                                                                                                                    hi 18month old suddenli becom faddi eat ok diet eat shreddi pot yogurt odd bit toast poorli around 15th april sick diarea week diet chang becam better develop littl red spot chin spread around face one disappear anoth appear somewher els prescrib caneston cream didnt realli anyth seem clear eat yogurt anyth moment manag get eat spot appear around eye could eat someth els   \n",
       "247419  skin color itchi bump elbow lower back itch like crazi notic last spring took long time heal month got spring get season allergi start take allergi pill itch went away rash clear longer season allergi need take alleri pill loratadin 10 mg rash back start take allergi pill help littl itch still bump still itch time bump red scratch like crazi tri hydrocortison cream well help also tri skinceut hydra balm well help littl itch live new mexico dri use oil lotion daili skin dri bump smooth touch blister   \n",
       "71438                                                                                                                                                                                                                                                                                                                                                                     vomit sinc yesterday eat lunch mouth esophagu hurt stomach feel full addit sinc morn area appendix bladder hurt could strain muscl due vomit appendix   \n",
       "201206                                                                                                                                                                                                                                                                                                                                                    hi name tammi multipl gallston hep c chorrosi liver enlarg spleen enlarg vein one live want touch want send bigger town better dr also want liver doner list hare get   \n",
       "40162                                                                                                                                                                                                                                                                                                             51 yr old femal w glioblastoma end stage morphine30mg sq q 4hr atc w btd 15 mg q 1hr prn decadron 4mg sq bid haldol 5mg sq q4hr atc ativan 1 mg q 4 hr atc still unabl control agit hallucin restless suggest   \n",
       "\n",
       "                                                                                                                                                                                                                                                                                                                                                                                                                                                                                                                                                                                                                                                                                                                                                                                                                                                                                                                                                                              answer  \n",
       "152573                                                                                                                                                                                                                                                                                                                                                                                                                                                                                                                                                                                                                                                                                                                                                                i donot think so its related to yogurt she is fond of eating as it does not spread and non itchy  do you have mosquito at home  apply some soothing cream  moisturizer and that s all needed to your baby now   \n",
       "247419                                                                                                                                                                                                                                                                                                                                                                                                                                                                                                                                                                                                                                                                                                                                                                                                                   hi   dear user    thanks for choosing hcm    u have seasonal allergy called     allergic dermatitis    so evaluate it   consult good dermatologist    thanq  \n",
       "71438                                                                                                                                                                                                                                                                                                                                                                                                                                                                                                                                                                                                                                            constipation  when was your last bowel movement   if you are clogged up it will have no where else to go but up  chances are the pain in your belly by your bladder is a strained muscle  so is your question about the strained muscle or the vomiting   chances are you have a 24 hour flu or you ate something bad for breakfast  \n",
       "201206  hi and welcome to healthcaremagic  thank you for your query  i am dr  rommstein  i understand your concerns and i will try to help you as much as i can this is serious disease and quitting alcohol is the most important thing that should be done  also  medications which are hematotoxic should be avoided  this is necessary to prevent disease progression  which is lethal in most cases  at early stages it can be treated with these measures but but in case of progression  only liver transplantation may help  diet should be balanced and healthy and get regular exercise  limit high carb foods such as bread  grits  rice  potatoes  and corn  and cut down on drinks with lots of sugar like sports drinks and juice  if there is viral hepatitis as udnelying cause then antiviral medications are required i hope i have answered you query  if you have any further questions you can contact us in every time kindly regards  wish you a good health   \n",
       "40162                                                                                                                                                                                                                                                                                                                                                                                                                                                                                                                                                                                                  hithanks for using healthcare magici think  she has hallucination due to metastasis  in that case  just carry on with haloperidol or you can try quetiapine or olanzapine  organic psychosis is very difficult to treat and some time does not get improved with medication  better to try any of these sedative antipsychotic  at least with it she would remain calm thanks  "
      ]
     },
     "execution_count": 5,
     "metadata": {},
     "output_type": "execute_result"
    }
   ],
   "source": [
    "df.sample(5, random_state=SEED)"
   ]
  },
  {
   "cell_type": "markdown",
   "metadata": {},
   "source": [
    "# Building and training model"
   ]
  },
  {
   "cell_type": "markdown",
   "metadata": {},
   "source": [
    "#### Split the data into train, test, and validation"
   ]
  },
  {
   "cell_type": "code",
   "execution_count": 6,
   "metadata": {},
   "outputs": [],
   "source": [
    "from sklearn.model_selection import train_test_split\n",
    "\n",
    "X = df[['description', 'question']]\n",
    "y = df['answer']\n",
    "\n",
    "X_train, X_test, y_train, y_test = train_test_split(X, y, test_size=0.1, random_state=42)"
   ]
  },
  {
   "cell_type": "code",
   "execution_count": 7,
   "metadata": {},
   "outputs": [
    {
     "name": "stdout",
     "output_type": "stream",
     "text": [
      "Number of samples in train set: 231219\n",
      "Number of samples in test set: 25691\n"
     ]
    }
   ],
   "source": [
    "print(f\"Number of samples in train set: {X_train.shape[0]}\")\n",
    "print(f\"Number of samples in test set: {X_test.shape[0]}\")"
   ]
  },
  {
   "cell_type": "markdown",
   "metadata": {},
   "source": [
    "#### Define the evalutaion function"
   ]
  },
  {
   "cell_type": "code",
   "execution_count": 15,
   "metadata": {},
   "outputs": [
    {
     "name": "stderr",
     "output_type": "stream",
     "text": [
      "/Users/arnav/anaconda3/envs/cse156/lib/python3.12/site-packages/tqdm/auto.py:21: TqdmWarning: IProgress not found. Please update jupyter and ipywidgets. See https://ipywidgets.readthedocs.io/en/stable/user_install.html\n",
      "  from .autonotebook import tqdm as notebook_tqdm\n"
     ]
    }
   ],
   "source": [
    "from sentence_transformers import SentenceTransformer\n",
    "from sklearn.metrics.pairwise import cosine_similarity\n",
    "import numpy as np\n",
    "\n",
    "def eval_fn(preds, y):\n",
    "    model = SentenceTransformer('all-MiniLM-L6-v2')\n",
    "    pred_embeddings = model.encode(preds)\n",
    "    y_embeddings = model.encode(y)\n",
    "    \n",
    "    similarities = []\n",
    "    for pred, ans in zip(pred_embeddings, y_embeddings):\n",
    "        similarities.append(cosine_similarity([pred], [ans])[0][0])\n",
    "    return sum(similarities) / len(similarities)"
   ]
  },
  {
   "cell_type": "markdown",
   "metadata": {},
   "source": [
    "### Random Guessing Model"
   ]
  },
  {
   "cell_type": "code",
   "execution_count": 64,
   "metadata": {},
   "outputs": [],
   "source": [
    "# Pick a subsample of 25 for testing due to compute constraints\n",
    "import random\n",
    "random.seed(SEED)\n",
    "preds = []\n",
    "sample = 25\n",
    "response_lst = list(y_train)\n",
    "for x in X_test['description'][:sample]:\n",
    "    random_answer = random.choice(response_lst)\n",
    "    preds.append(random_answer)\n",
    "y = list(y_test[:sample])"
   ]
  },
  {
   "cell_type": "code",
   "execution_count": 65,
   "metadata": {},
   "outputs": [
    {
     "name": "stdout",
     "output_type": "stream",
     "text": [
      "0.18797363623976707\n"
     ]
    }
   ],
   "source": [
    "print(eval_fn(preds, y))"
   ]
  },
  {
   "cell_type": "markdown",
   "metadata": {},
   "source": [
    "#### Training model based on Probability"
   ]
  },
  {
   "cell_type": "code",
   "execution_count": 66,
   "metadata": {},
   "outputs": [],
   "source": [
    "import math\n",
    "\n",
    "class ProbabilityBasedAgent:\n",
    "    \n",
    "\tdef __init__(self, questions, responses):\n",
    "\t\tself.questions = questions\n",
    "\t\tself.responses = responses\n",
    "\t\tself.question_sets = []\n",
    "\t\tself.vocab = None\n",
    "\n",
    "\tdef get_vocab(self):\n",
    "\t\tvocab = set()\n",
    "\t\tfor question in self.questions:\n",
    "\t\t\tfor word in question.split():\n",
    "\t\t\t\tvocab.add(word)\n",
    "\t\treturn list(vocab)\n",
    "\n",
    "\tdef prob_query_given_sentence(self, query, sentence_lst, alpha=1):\n",
    "\t\tquery_lst = query.split()\n",
    "\t\tmatch = 0\n",
    "\t\t\n",
    "\t\tfor token in query_lst:\n",
    "\t\t\tif token in sentence_lst:\n",
    "\t\t\t\tmatch += 1\n",
    "\t\t\n",
    "\t\t# Apply Laplace smoothing\n",
    "\t\tnumerator = match + alpha\n",
    "\t\tdenominator = len(query_lst) + alpha\n",
    "\t\t\n",
    "\t\tp = numerator / denominator\n",
    "\t\treturn p\n",
    "\n",
    "\tdef train(self):\n",
    "\t\tself.vocab = self.get_vocab()\n",
    "\n",
    "\t\tfor question in self.questions:\n",
    "\t\t\tself.question_sets.append(set(question.split()))\n",
    "\n",
    "\tdef find_closest_answer(self, query, k):\n",
    "\t\t\n",
    "\t\tprobabilities_match = []\n",
    "\t\tfor i in range(len(self.questions)):\n",
    "\t\t\tprob = self.prob_query_given_sentence(query, self.question_sets[i])\n",
    "\t\t\tprobabilities_match.append((prob, self.questions[i], self.responses[i]))\n",
    "\n",
    "\t\tprobabilities_match.sort(reverse=True)\n",
    "\n",
    "\t\treturn probabilities_match[:k]\n",
    "\n",
    "# Constrain size of train data to 20000 cause of compute restriction\t\n",
    "training_questions = list(X_train['description'])[:20000]\n",
    "training_responses = list(y_train)[:20000]\n",
    "\n",
    "# Constrain size of train data to 20000 cause of compute restriction\t\n",
    "training_questions = list(X_train['description'])[:20000]\n",
    "training_responses = list(y_train)[:20000]\n",
    "\n",
    "model = ProbabilityBasedAgent(training_questions, training_responses)\n",
    "model.train()"
   ]
  },
  {
   "cell_type": "code",
   "execution_count": 67,
   "metadata": {},
   "outputs": [
    {
     "name": "stdout",
     "output_type": "stream",
     "text": [
      "The following are some of the closest responses we could find:\n",
      "Probability: 0.2222222222222222\n",
      "Question: zit lower back pain pop stringi blood boxer caus\n",
      "Answer: hello the blood was from the boil boil zit  is highly vascular due to the presence of inflammation \n",
      "\n",
      "Probability: 0.2222222222222222\n",
      "Question: wysolon 20 intak back pain caus side effect\n",
      "Answer: wysolone  prednisone  is a common short term treatment for inflammatory conditions such as a pinched nerve  if your father is otherwise healthy then this should be no problem  there can be an elevation in blood sugar while on the medication  but since it is only a few days  it is usually safe in otherwise relatively healthy people  if it helps  but then wears off fully  then a lumbar epidural steroid nerve block injection may well help \n",
      "\n",
      "Probability: 0.2222222222222222\n",
      "Question: would painless lump back\n",
      "Answer: hi   good evening  i am dr shareef answering your query  although a personal physical examination of the lump would be helpful in reaching a nearby diagnosis  most probably with a history of trauma  it could be an organised hematoma on the left side of your back  to confirm the diagnosis  if i were your doctor  i would go for an fnac  fine needle aspiration cytology  followed possibly by an excision biopsy depending on the report of the fnac   considering the duration of more than 4 years  clinically it might be a benign lesion not to worry about  however  for cosmetic reasons it might be required to be taken out therefore  i would advise you to consult a general surgeon and get your self assessed for the same i hope this information would help you in discussing with your family physician treating doctor in further management of your problem  please do not hesitate to ask in case of any further doubts thanks for choosing health care magic to clear doubts on your health problems  wishing you an early recovery  dr shareef \n",
      "\n"
     ]
    }
   ],
   "source": [
    "user_query = \"I have back pain, what should i do?\"\n",
    "responses = model.find_closest_answer(user_query, 3)\n",
    "\n",
    "print(\"The following are some of the closest responses we could find:\")\n",
    "\n",
    "for sim, q, a in responses:\n",
    "    \n",
    "\tprint(f\"Probability: {sim}\")\n",
    "\tprint(f\"Question: {q}\")\n",
    "\tprint(f\"Answer: {a}\")\n",
    "\tprint()"
   ]
  },
  {
   "cell_type": "markdown",
   "metadata": {},
   "source": [
    "##### Evaluation on the test set"
   ]
  },
  {
   "cell_type": "code",
   "execution_count": 70,
   "metadata": {},
   "outputs": [],
   "source": [
    "# Pick a subsample of 25 for testing due to compute constraints\n",
    "preds = []\n",
    "sample = 25\n",
    "for x in X_test['description'][:sample]:\n",
    "    sim, q, a = model.find_closest_answer(x, 1)[0]\n",
    "    preds.append(a)\n",
    "y = list(y_test[:sample])"
   ]
  },
  {
   "cell_type": "code",
   "execution_count": 71,
   "metadata": {},
   "outputs": [
    {
     "name": "stdout",
     "output_type": "stream",
     "text": [
      "0.3824522036314011\n"
     ]
    }
   ],
   "source": [
    "print(eval_fn(preds, y))"
   ]
  },
  {
   "cell_type": "markdown",
   "metadata": {},
   "source": [
    "##### Evaluation on the train set"
   ]
  },
  {
   "cell_type": "code",
   "execution_count": 74,
   "metadata": {},
   "outputs": [],
   "source": [
    "# Pick a subsample of 25 from training due to compute constraints\n",
    "preds = []\n",
    "sample = 25\n",
    "for x in X_train['description'][:sample]:\n",
    "    sim, q, a = model.find_closest_answer(x, 1)[0]\n",
    "    preds.append(a)\n",
    "y = list(y_train[:sample])"
   ]
  },
  {
   "cell_type": "code",
   "execution_count": 75,
   "metadata": {},
   "outputs": [
    {
     "name": "stdout",
     "output_type": "stream",
     "text": [
      "0.9646251106262207\n"
     ]
    }
   ],
   "source": [
    "print(eval_fn(preds, y))"
   ]
  },
  {
   "cell_type": "markdown",
   "metadata": {},
   "source": [
    "#### Training Model Based On Cosine Similarity"
   ]
  },
  {
   "cell_type": "code",
   "execution_count": 1,
   "metadata": {},
   "outputs": [
    {
     "ename": "NameError",
     "evalue": "name 'X_train' is not defined",
     "output_type": "error",
     "traceback": [
      "\u001b[0;31m---------------------------------------------------------------------------\u001b[0m",
      "\u001b[0;31mNameError\u001b[0m                                 Traceback (most recent call last)",
      "Cell \u001b[0;32mIn[1], line 52\u001b[0m\n\u001b[1;32m     49\u001b[0m \t\t\u001b[38;5;28;01mreturn\u001b[39;00m similarities[:k]\n\u001b[1;32m     51\u001b[0m \u001b[38;5;66;03m# Constrain size of train data to 20000 cause of compute restriction\t\u001b[39;00m\n\u001b[0;32m---> 52\u001b[0m training_questions \u001b[38;5;241m=\u001b[39m \u001b[38;5;28mlist\u001b[39m(\u001b[43mX_train\u001b[49m[\u001b[38;5;124m'\u001b[39m\u001b[38;5;124mdescription\u001b[39m\u001b[38;5;124m'\u001b[39m])[:\u001b[38;5;241m20000\u001b[39m]\n\u001b[1;32m     53\u001b[0m training_responses \u001b[38;5;241m=\u001b[39m \u001b[38;5;28mlist\u001b[39m(y_train)[:\u001b[38;5;241m20000\u001b[39m]\n\u001b[1;32m     55\u001b[0m model \u001b[38;5;241m=\u001b[39m SimilarityBasedAgent(training_questions, training_responses)\n",
      "\u001b[0;31mNameError\u001b[0m: name 'X_train' is not defined"
     ]
    }
   ],
   "source": [
    "import math\n",
    "\n",
    "def cosine_similarity(user, ques):\n",
    "    dot_product = sum(x*y for x, y in zip(user, ques))\n",
    "    magnitude_user = sum(x*x for x in user)**0.5\n",
    "    magnitude_ques = sum(y*y for y in ques)**0.5\n",
    "    return dot_product / (magnitude_user * magnitude_ques)\n",
    "\n",
    "\n",
    "class SimilarityBasedAgent:\n",
    "    \n",
    "\tdef __init__(self, questions, responses):\n",
    "\t\tself.questions = questions\n",
    "\t\tself.responses = responses\n",
    "\t\tself.vocab = None\n",
    "\t\tself.questions_vectors = None\n",
    "\n",
    "\tdef get_vocab(self):\n",
    "\t\tvocab = set()\n",
    "\t\tfor question in self.questions:\n",
    "\t\t\tfor word in question.split():\n",
    "\t\t\t\tvocab.add(word)\n",
    "\t\treturn list(vocab)\n",
    "\t\n",
    "\tdef bag_of_words(self, question):\n",
    "\t\tvec = []\n",
    "\t\tfor token in self.vocab:\n",
    "\t\t\tvec.append(question.count(token))\n",
    "\t\treturn vec\n",
    "\n",
    "\tdef train(self):\n",
    "\t\tself.vocab = self.get_vocab()\n",
    "\t\tvectors = []\n",
    "\t\tfor question in self.questions:\n",
    "\t\t\tvectors.append(self.bag_of_words(question))\n",
    "\t\tself.questions_vectors = vectors\n",
    "\n",
    "\tdef find_closest_answer(self, query, k):\n",
    "\t\tuser_query_vector = self.bag_of_words(query)\n",
    "\t\tsimilarities = []\n",
    "\t\tfor i in range(len(self.questions)):\n",
    "\t\t\tprint(user_query_vector)\n",
    "\t\t\tprint( self.questions_vectors[i])\n",
    "\t\t\tsim = cosine_similarity(user_query_vector, self.questions_vectors[i])\n",
    "\t\t\tsimilarities.append((sim, self.questions[i], self.responses[i]))\n",
    "\n",
    "\t\tsimilarities.sort(reverse=True)\n",
    "\n",
    "\t\treturn similarities[:k]\n",
    "\n",
    "# Constrain size of train data to 20000 cause of compute restriction\t\n",
    "training_questions = list(X_train['description'])[:20000]\n",
    "training_responses = list(y_train)[:20000]\n",
    "\n",
    "model = SimilarityBasedAgent(training_questions, training_responses)\n",
    "model.train()"
   ]
  },
  {
   "cell_type": "code",
   "execution_count": 94,
   "metadata": {},
   "outputs": [
    {
     "name": "stdout",
     "output_type": "stream",
     "text": [
      "The following are some of the closest responses we could find:\n",
      "Similarity: 0.7211102550927979\n",
      "Question: back pain heal\n",
      "Answer: hi and thanks for the query there are numerous causes of back pain  the treatment depends on the cause  trauma  infection   inflammation and tumors  arthrosis could also cause pain  the treatment could be simple pain killers  anti inflammatory drugs   steroids and at times surgery  i suggest you get a proper review from your doctor for proper blood work up and x rays to detect the exact cause and extent of the illness  kind regards\n",
      "\n",
      "Similarity: 0.7139306476801298\n",
      "Question: tight chest back neck shoulder pain indic\n",
      "Answer: hello thanks for writing to us  i have studied your case with diligence as per your history there is possibility of rib contusion or costochondritis rib contusion is visible on x ray   i will advise to consult to orthopaedic surgeon medication like muscle relaxant and analgesic will reduce pain along with it use rib support belt you may consult physiotherapist for pain management  he may start tens  or ultrasound which is helpful in your case there can be associated inflammatory disease which lead to multi system problem hope this answers your query  if you have additional questions or follow up queries then please do not hesitate in writing to us  i will be happy to answer your queries  if you find this answer helpful do not forget to give rating at end of discussion wishing you good health take care\n",
      "\n",
      "Similarity: 0.7075942729929445\n",
      "Question: caus sharp pain back behind right shoulder blade\n",
      "Answer: hi you have sharp pain in your back starting while you were ironing your hair  in my opinion it is a sudden muscle spasm   maybe triggered by some movement of neck  i suggest you take pain killers   muscle relaxants and hot fomentation   if there is no improvement in 5 days   get x rays of neck \n",
      "\n"
     ]
    }
   ],
   "source": [
    "user_query = \"I have back pain, what should i do?\"\n",
    "responses = model.find_closest_answer(user_query, 3)\n",
    "\n",
    "print(\"The following are some of the closest responses we could find:\")\n",
    "\n",
    "for sim, q, a in responses:\n",
    "    \n",
    "\tprint(f\"Similarity: {sim}\")\n",
    "\tprint(f\"Question: {q}\")\n",
    "\tprint(f\"Answer: {a}\")\n",
    "\tprint()"
   ]
  },
  {
   "cell_type": "markdown",
   "metadata": {},
   "source": [
    "##### Evaluation on the test set"
   ]
  },
  {
   "cell_type": "code",
   "execution_count": 95,
   "metadata": {},
   "outputs": [],
   "source": [
    "# Pick a subsample of 25 for testing due to compute constraints\n",
    "preds = []\n",
    "sample = 25\n",
    "for x in X_test['description'][:sample]:\n",
    "    sim, q, a = model.find_closest_answer(x, 1)[0]\n",
    "    preds.append(a)\n",
    "y = list(y_test[:sample])"
   ]
  },
  {
   "cell_type": "code",
   "execution_count": 107,
   "metadata": {},
   "outputs": [
    {
     "name": "stdout",
     "output_type": "stream",
     "text": [
      "0.35789135545492173\n"
     ]
    }
   ],
   "source": [
    "print(eval_fn(preds, y))"
   ]
  },
  {
   "cell_type": "markdown",
   "metadata": {},
   "source": [
    "##### Evaluation on the train set"
   ]
  },
  {
   "cell_type": "code",
   "execution_count": null,
   "metadata": {},
   "outputs": [],
   "source": [
    "# Pick a subsample of 25 from training due to compute constraints\n",
    "preds = []\n",
    "sample = 25\n",
    "for x in X_train['description'][:sample]:\n",
    "    print(x)\n",
    "    print(model.find_closest_answer(x, 1))\n",
    "    sim, q, a = model.find_closest_answer(x, 1)[0]\n",
    "    preds.append(a)\n",
    "y = list(y_train[:sample])"
   ]
  },
  {
   "cell_type": "code",
   "execution_count": null,
   "metadata": {},
   "outputs": [
    {
     "name": "stdout",
     "output_type": "stream",
     "text": [
      "1.0\n"
     ]
    }
   ],
   "source": [
    "y = y_train[:sample]\n",
    "\n",
    "print(eval_fn(preds, y))"
   ]
  },
  {
   "cell_type": "markdown",
   "metadata": {},
   "source": [
    "### Training model based on Naive Bayes"
   ]
  },
  {
   "cell_type": "code",
   "execution_count": 10,
   "metadata": {},
   "outputs": [],
   "source": [
    "X_train_np = np.array(X_train['description'])\n",
    "X_test_np = np.array(X_test['description'])"
   ]
  },
  {
   "cell_type": "code",
   "execution_count": 11,
   "metadata": {},
   "outputs": [],
   "source": [
    "from sklearn.feature_extraction.text import TfidfVectorizer\n",
    "\n",
    "tfidf_vectorizer = TfidfVectorizer()  \n",
    "X_train_tfidf = tfidf_vectorizer.fit_transform(X_train_np)\n",
    "X_test_tfidf = tfidf_vectorizer.transform(X_test_np)"
   ]
  },
  {
   "cell_type": "code",
   "execution_count": 12,
   "metadata": {},
   "outputs": [
    {
     "data": {
      "text/html": [
       "<style>#sk-container-id-1 {\n",
       "  /* Definition of color scheme common for light and dark mode */\n",
       "  --sklearn-color-text: black;\n",
       "  --sklearn-color-line: gray;\n",
       "  /* Definition of color scheme for unfitted estimators */\n",
       "  --sklearn-color-unfitted-level-0: #fff5e6;\n",
       "  --sklearn-color-unfitted-level-1: #f6e4d2;\n",
       "  --sklearn-color-unfitted-level-2: #ffe0b3;\n",
       "  --sklearn-color-unfitted-level-3: chocolate;\n",
       "  /* Definition of color scheme for fitted estimators */\n",
       "  --sklearn-color-fitted-level-0: #f0f8ff;\n",
       "  --sklearn-color-fitted-level-1: #d4ebff;\n",
       "  --sklearn-color-fitted-level-2: #b3dbfd;\n",
       "  --sklearn-color-fitted-level-3: cornflowerblue;\n",
       "\n",
       "  /* Specific color for light theme */\n",
       "  --sklearn-color-text-on-default-background: var(--sg-text-color, var(--theme-code-foreground, var(--jp-content-font-color1, black)));\n",
       "  --sklearn-color-background: var(--sg-background-color, var(--theme-background, var(--jp-layout-color0, white)));\n",
       "  --sklearn-color-border-box: var(--sg-text-color, var(--theme-code-foreground, var(--jp-content-font-color1, black)));\n",
       "  --sklearn-color-icon: #696969;\n",
       "\n",
       "  @media (prefers-color-scheme: dark) {\n",
       "    /* Redefinition of color scheme for dark theme */\n",
       "    --sklearn-color-text-on-default-background: var(--sg-text-color, var(--theme-code-foreground, var(--jp-content-font-color1, white)));\n",
       "    --sklearn-color-background: var(--sg-background-color, var(--theme-background, var(--jp-layout-color0, #111)));\n",
       "    --sklearn-color-border-box: var(--sg-text-color, var(--theme-code-foreground, var(--jp-content-font-color1, white)));\n",
       "    --sklearn-color-icon: #878787;\n",
       "  }\n",
       "}\n",
       "\n",
       "#sk-container-id-1 {\n",
       "  color: var(--sklearn-color-text);\n",
       "}\n",
       "\n",
       "#sk-container-id-1 pre {\n",
       "  padding: 0;\n",
       "}\n",
       "\n",
       "#sk-container-id-1 input.sk-hidden--visually {\n",
       "  border: 0;\n",
       "  clip: rect(1px 1px 1px 1px);\n",
       "  clip: rect(1px, 1px, 1px, 1px);\n",
       "  height: 1px;\n",
       "  margin: -1px;\n",
       "  overflow: hidden;\n",
       "  padding: 0;\n",
       "  position: absolute;\n",
       "  width: 1px;\n",
       "}\n",
       "\n",
       "#sk-container-id-1 div.sk-dashed-wrapped {\n",
       "  border: 1px dashed var(--sklearn-color-line);\n",
       "  margin: 0 0.4em 0.5em 0.4em;\n",
       "  box-sizing: border-box;\n",
       "  padding-bottom: 0.4em;\n",
       "  background-color: var(--sklearn-color-background);\n",
       "}\n",
       "\n",
       "#sk-container-id-1 div.sk-container {\n",
       "  /* jupyter's `normalize.less` sets `[hidden] { display: none; }`\n",
       "     but bootstrap.min.css set `[hidden] { display: none !important; }`\n",
       "     so we also need the `!important` here to be able to override the\n",
       "     default hidden behavior on the sphinx rendered scikit-learn.org.\n",
       "     See: https://github.com/scikit-learn/scikit-learn/issues/21755 */\n",
       "  display: inline-block !important;\n",
       "  position: relative;\n",
       "}\n",
       "\n",
       "#sk-container-id-1 div.sk-text-repr-fallback {\n",
       "  display: none;\n",
       "}\n",
       "\n",
       "div.sk-parallel-item,\n",
       "div.sk-serial,\n",
       "div.sk-item {\n",
       "  /* draw centered vertical line to link estimators */\n",
       "  background-image: linear-gradient(var(--sklearn-color-text-on-default-background), var(--sklearn-color-text-on-default-background));\n",
       "  background-size: 2px 100%;\n",
       "  background-repeat: no-repeat;\n",
       "  background-position: center center;\n",
       "}\n",
       "\n",
       "/* Parallel-specific style estimator block */\n",
       "\n",
       "#sk-container-id-1 div.sk-parallel-item::after {\n",
       "  content: \"\";\n",
       "  width: 100%;\n",
       "  border-bottom: 2px solid var(--sklearn-color-text-on-default-background);\n",
       "  flex-grow: 1;\n",
       "}\n",
       "\n",
       "#sk-container-id-1 div.sk-parallel {\n",
       "  display: flex;\n",
       "  align-items: stretch;\n",
       "  justify-content: center;\n",
       "  background-color: var(--sklearn-color-background);\n",
       "  position: relative;\n",
       "}\n",
       "\n",
       "#sk-container-id-1 div.sk-parallel-item {\n",
       "  display: flex;\n",
       "  flex-direction: column;\n",
       "}\n",
       "\n",
       "#sk-container-id-1 div.sk-parallel-item:first-child::after {\n",
       "  align-self: flex-end;\n",
       "  width: 50%;\n",
       "}\n",
       "\n",
       "#sk-container-id-1 div.sk-parallel-item:last-child::after {\n",
       "  align-self: flex-start;\n",
       "  width: 50%;\n",
       "}\n",
       "\n",
       "#sk-container-id-1 div.sk-parallel-item:only-child::after {\n",
       "  width: 0;\n",
       "}\n",
       "\n",
       "/* Serial-specific style estimator block */\n",
       "\n",
       "#sk-container-id-1 div.sk-serial {\n",
       "  display: flex;\n",
       "  flex-direction: column;\n",
       "  align-items: center;\n",
       "  background-color: var(--sklearn-color-background);\n",
       "  padding-right: 1em;\n",
       "  padding-left: 1em;\n",
       "}\n",
       "\n",
       "\n",
       "/* Toggleable style: style used for estimator/Pipeline/ColumnTransformer box that is\n",
       "clickable and can be expanded/collapsed.\n",
       "- Pipeline and ColumnTransformer use this feature and define the default style\n",
       "- Estimators will overwrite some part of the style using the `sk-estimator` class\n",
       "*/\n",
       "\n",
       "/* Pipeline and ColumnTransformer style (default) */\n",
       "\n",
       "#sk-container-id-1 div.sk-toggleable {\n",
       "  /* Default theme specific background. It is overwritten whether we have a\n",
       "  specific estimator or a Pipeline/ColumnTransformer */\n",
       "  background-color: var(--sklearn-color-background);\n",
       "}\n",
       "\n",
       "/* Toggleable label */\n",
       "#sk-container-id-1 label.sk-toggleable__label {\n",
       "  cursor: pointer;\n",
       "  display: block;\n",
       "  width: 100%;\n",
       "  margin-bottom: 0;\n",
       "  padding: 0.5em;\n",
       "  box-sizing: border-box;\n",
       "  text-align: center;\n",
       "}\n",
       "\n",
       "#sk-container-id-1 label.sk-toggleable__label-arrow:before {\n",
       "  /* Arrow on the left of the label */\n",
       "  content: \"▸\";\n",
       "  float: left;\n",
       "  margin-right: 0.25em;\n",
       "  color: var(--sklearn-color-icon);\n",
       "}\n",
       "\n",
       "#sk-container-id-1 label.sk-toggleable__label-arrow:hover:before {\n",
       "  color: var(--sklearn-color-text);\n",
       "}\n",
       "\n",
       "/* Toggleable content - dropdown */\n",
       "\n",
       "#sk-container-id-1 div.sk-toggleable__content {\n",
       "  max-height: 0;\n",
       "  max-width: 0;\n",
       "  overflow: hidden;\n",
       "  text-align: left;\n",
       "  /* unfitted */\n",
       "  background-color: var(--sklearn-color-unfitted-level-0);\n",
       "}\n",
       "\n",
       "#sk-container-id-1 div.sk-toggleable__content.fitted {\n",
       "  /* fitted */\n",
       "  background-color: var(--sklearn-color-fitted-level-0);\n",
       "}\n",
       "\n",
       "#sk-container-id-1 div.sk-toggleable__content pre {\n",
       "  margin: 0.2em;\n",
       "  border-radius: 0.25em;\n",
       "  color: var(--sklearn-color-text);\n",
       "  /* unfitted */\n",
       "  background-color: var(--sklearn-color-unfitted-level-0);\n",
       "}\n",
       "\n",
       "#sk-container-id-1 div.sk-toggleable__content.fitted pre {\n",
       "  /* unfitted */\n",
       "  background-color: var(--sklearn-color-fitted-level-0);\n",
       "}\n",
       "\n",
       "#sk-container-id-1 input.sk-toggleable__control:checked~div.sk-toggleable__content {\n",
       "  /* Expand drop-down */\n",
       "  max-height: 200px;\n",
       "  max-width: 100%;\n",
       "  overflow: auto;\n",
       "}\n",
       "\n",
       "#sk-container-id-1 input.sk-toggleable__control:checked~label.sk-toggleable__label-arrow:before {\n",
       "  content: \"▾\";\n",
       "}\n",
       "\n",
       "/* Pipeline/ColumnTransformer-specific style */\n",
       "\n",
       "#sk-container-id-1 div.sk-label input.sk-toggleable__control:checked~label.sk-toggleable__label {\n",
       "  color: var(--sklearn-color-text);\n",
       "  background-color: var(--sklearn-color-unfitted-level-2);\n",
       "}\n",
       "\n",
       "#sk-container-id-1 div.sk-label.fitted input.sk-toggleable__control:checked~label.sk-toggleable__label {\n",
       "  background-color: var(--sklearn-color-fitted-level-2);\n",
       "}\n",
       "\n",
       "/* Estimator-specific style */\n",
       "\n",
       "/* Colorize estimator box */\n",
       "#sk-container-id-1 div.sk-estimator input.sk-toggleable__control:checked~label.sk-toggleable__label {\n",
       "  /* unfitted */\n",
       "  background-color: var(--sklearn-color-unfitted-level-2);\n",
       "}\n",
       "\n",
       "#sk-container-id-1 div.sk-estimator.fitted input.sk-toggleable__control:checked~label.sk-toggleable__label {\n",
       "  /* fitted */\n",
       "  background-color: var(--sklearn-color-fitted-level-2);\n",
       "}\n",
       "\n",
       "#sk-container-id-1 div.sk-label label.sk-toggleable__label,\n",
       "#sk-container-id-1 div.sk-label label {\n",
       "  /* The background is the default theme color */\n",
       "  color: var(--sklearn-color-text-on-default-background);\n",
       "}\n",
       "\n",
       "/* On hover, darken the color of the background */\n",
       "#sk-container-id-1 div.sk-label:hover label.sk-toggleable__label {\n",
       "  color: var(--sklearn-color-text);\n",
       "  background-color: var(--sklearn-color-unfitted-level-2);\n",
       "}\n",
       "\n",
       "/* Label box, darken color on hover, fitted */\n",
       "#sk-container-id-1 div.sk-label.fitted:hover label.sk-toggleable__label.fitted {\n",
       "  color: var(--sklearn-color-text);\n",
       "  background-color: var(--sklearn-color-fitted-level-2);\n",
       "}\n",
       "\n",
       "/* Estimator label */\n",
       "\n",
       "#sk-container-id-1 div.sk-label label {\n",
       "  font-family: monospace;\n",
       "  font-weight: bold;\n",
       "  display: inline-block;\n",
       "  line-height: 1.2em;\n",
       "}\n",
       "\n",
       "#sk-container-id-1 div.sk-label-container {\n",
       "  text-align: center;\n",
       "}\n",
       "\n",
       "/* Estimator-specific */\n",
       "#sk-container-id-1 div.sk-estimator {\n",
       "  font-family: monospace;\n",
       "  border: 1px dotted var(--sklearn-color-border-box);\n",
       "  border-radius: 0.25em;\n",
       "  box-sizing: border-box;\n",
       "  margin-bottom: 0.5em;\n",
       "  /* unfitted */\n",
       "  background-color: var(--sklearn-color-unfitted-level-0);\n",
       "}\n",
       "\n",
       "#sk-container-id-1 div.sk-estimator.fitted {\n",
       "  /* fitted */\n",
       "  background-color: var(--sklearn-color-fitted-level-0);\n",
       "}\n",
       "\n",
       "/* on hover */\n",
       "#sk-container-id-1 div.sk-estimator:hover {\n",
       "  /* unfitted */\n",
       "  background-color: var(--sklearn-color-unfitted-level-2);\n",
       "}\n",
       "\n",
       "#sk-container-id-1 div.sk-estimator.fitted:hover {\n",
       "  /* fitted */\n",
       "  background-color: var(--sklearn-color-fitted-level-2);\n",
       "}\n",
       "\n",
       "/* Specification for estimator info (e.g. \"i\" and \"?\") */\n",
       "\n",
       "/* Common style for \"i\" and \"?\" */\n",
       "\n",
       ".sk-estimator-doc-link,\n",
       "a:link.sk-estimator-doc-link,\n",
       "a:visited.sk-estimator-doc-link {\n",
       "  float: right;\n",
       "  font-size: smaller;\n",
       "  line-height: 1em;\n",
       "  font-family: monospace;\n",
       "  background-color: var(--sklearn-color-background);\n",
       "  border-radius: 1em;\n",
       "  height: 1em;\n",
       "  width: 1em;\n",
       "  text-decoration: none !important;\n",
       "  margin-left: 1ex;\n",
       "  /* unfitted */\n",
       "  border: var(--sklearn-color-unfitted-level-1) 1pt solid;\n",
       "  color: var(--sklearn-color-unfitted-level-1);\n",
       "}\n",
       "\n",
       ".sk-estimator-doc-link.fitted,\n",
       "a:link.sk-estimator-doc-link.fitted,\n",
       "a:visited.sk-estimator-doc-link.fitted {\n",
       "  /* fitted */\n",
       "  border: var(--sklearn-color-fitted-level-1) 1pt solid;\n",
       "  color: var(--sklearn-color-fitted-level-1);\n",
       "}\n",
       "\n",
       "/* On hover */\n",
       "div.sk-estimator:hover .sk-estimator-doc-link:hover,\n",
       ".sk-estimator-doc-link:hover,\n",
       "div.sk-label-container:hover .sk-estimator-doc-link:hover,\n",
       ".sk-estimator-doc-link:hover {\n",
       "  /* unfitted */\n",
       "  background-color: var(--sklearn-color-unfitted-level-3);\n",
       "  color: var(--sklearn-color-background);\n",
       "  text-decoration: none;\n",
       "}\n",
       "\n",
       "div.sk-estimator.fitted:hover .sk-estimator-doc-link.fitted:hover,\n",
       ".sk-estimator-doc-link.fitted:hover,\n",
       "div.sk-label-container:hover .sk-estimator-doc-link.fitted:hover,\n",
       ".sk-estimator-doc-link.fitted:hover {\n",
       "  /* fitted */\n",
       "  background-color: var(--sklearn-color-fitted-level-3);\n",
       "  color: var(--sklearn-color-background);\n",
       "  text-decoration: none;\n",
       "}\n",
       "\n",
       "/* Span, style for the box shown on hovering the info icon */\n",
       ".sk-estimator-doc-link span {\n",
       "  display: none;\n",
       "  z-index: 9999;\n",
       "  position: relative;\n",
       "  font-weight: normal;\n",
       "  right: .2ex;\n",
       "  padding: .5ex;\n",
       "  margin: .5ex;\n",
       "  width: min-content;\n",
       "  min-width: 20ex;\n",
       "  max-width: 50ex;\n",
       "  color: var(--sklearn-color-text);\n",
       "  box-shadow: 2pt 2pt 4pt #999;\n",
       "  /* unfitted */\n",
       "  background: var(--sklearn-color-unfitted-level-0);\n",
       "  border: .5pt solid var(--sklearn-color-unfitted-level-3);\n",
       "}\n",
       "\n",
       ".sk-estimator-doc-link.fitted span {\n",
       "  /* fitted */\n",
       "  background: var(--sklearn-color-fitted-level-0);\n",
       "  border: var(--sklearn-color-fitted-level-3);\n",
       "}\n",
       "\n",
       ".sk-estimator-doc-link:hover span {\n",
       "  display: block;\n",
       "}\n",
       "\n",
       "/* \"?\"-specific style due to the `<a>` HTML tag */\n",
       "\n",
       "#sk-container-id-1 a.estimator_doc_link {\n",
       "  float: right;\n",
       "  font-size: 1rem;\n",
       "  line-height: 1em;\n",
       "  font-family: monospace;\n",
       "  background-color: var(--sklearn-color-background);\n",
       "  border-radius: 1rem;\n",
       "  height: 1rem;\n",
       "  width: 1rem;\n",
       "  text-decoration: none;\n",
       "  /* unfitted */\n",
       "  color: var(--sklearn-color-unfitted-level-1);\n",
       "  border: var(--sklearn-color-unfitted-level-1) 1pt solid;\n",
       "}\n",
       "\n",
       "#sk-container-id-1 a.estimator_doc_link.fitted {\n",
       "  /* fitted */\n",
       "  border: var(--sklearn-color-fitted-level-1) 1pt solid;\n",
       "  color: var(--sklearn-color-fitted-level-1);\n",
       "}\n",
       "\n",
       "/* On hover */\n",
       "#sk-container-id-1 a.estimator_doc_link:hover {\n",
       "  /* unfitted */\n",
       "  background-color: var(--sklearn-color-unfitted-level-3);\n",
       "  color: var(--sklearn-color-background);\n",
       "  text-decoration: none;\n",
       "}\n",
       "\n",
       "#sk-container-id-1 a.estimator_doc_link.fitted:hover {\n",
       "  /* fitted */\n",
       "  background-color: var(--sklearn-color-fitted-level-3);\n",
       "}\n",
       "</style><div id=\"sk-container-id-1\" class=\"sk-top-container\"><div class=\"sk-text-repr-fallback\"><pre>MultinomialNB()</pre><b>In a Jupyter environment, please rerun this cell to show the HTML representation or trust the notebook. <br />On GitHub, the HTML representation is unable to render, please try loading this page with nbviewer.org.</b></div><div class=\"sk-container\" hidden><div class=\"sk-item\"><div class=\"sk-estimator fitted sk-toggleable\"><input class=\"sk-toggleable__control sk-hidden--visually\" id=\"sk-estimator-id-1\" type=\"checkbox\" checked><label for=\"sk-estimator-id-1\" class=\"sk-toggleable__label fitted sk-toggleable__label-arrow fitted\">&nbsp;&nbsp;MultinomialNB<a class=\"sk-estimator-doc-link fitted\" rel=\"noreferrer\" target=\"_blank\" href=\"https://scikit-learn.org/1.5/modules/generated/sklearn.naive_bayes.MultinomialNB.html\">?<span>Documentation for MultinomialNB</span></a><span class=\"sk-estimator-doc-link fitted\">i<span>Fitted</span></span></label><div class=\"sk-toggleable__content fitted\"><pre>MultinomialNB()</pre></div> </div></div></div></div>"
      ],
      "text/plain": [
       "MultinomialNB()"
      ]
     },
     "execution_count": 12,
     "metadata": {},
     "output_type": "execute_result"
    }
   ],
   "source": [
    "from sklearn.naive_bayes import MultinomialNB\n",
    "naive_bayes_model = MultinomialNB()\n",
    "naive_bayes_model.fit(X_train_tfidf[:50000], y_train[:50000])"
   ]
  },
  {
   "cell_type": "code",
   "execution_count": 13,
   "metadata": {},
   "outputs": [],
   "source": [
    "predictions = naive_bayes_model.predict(X_test_tfidf[:25])\n"
   ]
  },
  {
   "cell_type": "code",
   "execution_count": 16,
   "metadata": {},
   "outputs": [
    {
     "data": {
      "text/plain": [
       "0.2671047766506672"
      ]
     },
     "execution_count": 16,
     "metadata": {},
     "output_type": "execute_result"
    }
   ],
   "source": [
    "eval_fn(predictions, list(y_test[:25]))"
   ]
  }
 ],
 "metadata": {
  "kernelspec": {
   "display_name": "cse156",
   "language": "python",
   "name": "python3"
  },
  "language_info": {
   "codemirror_mode": {
    "name": "ipython",
    "version": 3
   },
   "file_extension": ".py",
   "mimetype": "text/x-python",
   "name": "python",
   "nbconvert_exporter": "python",
   "pygments_lexer": "ipython3",
   "version": "3.12.7"
  }
 },
 "nbformat": 4,
 "nbformat_minor": 2
}
