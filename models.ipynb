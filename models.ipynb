{
 "cells": [
  {
   "cell_type": "code",
   "execution_count": 74,
   "metadata": {},
   "outputs": [],
   "source": [
    "import pandas as pd\n",
    "\n",
    "SEED = 0\n",
    "pd.set_option('display.max_colwidth', None)"
   ]
  },
  {
   "cell_type": "code",
   "execution_count": 75,
   "metadata": {},
   "outputs": [],
   "source": [
    "# Load Data"
   ]
  },
  {
   "cell_type": "code",
   "execution_count": 76,
   "metadata": {},
   "outputs": [],
   "source": [
    "path = 'data/preprocessed-ai-medical-chatbot.csv'\n",
    "df = pd.read_csv(path)\n",
    "df = df.dropna()"
   ]
  },
  {
   "cell_type": "code",
   "execution_count": 77,
   "metadata": {},
   "outputs": [
    {
     "data": {
      "text/html": [
       "<div>\n",
       "<style scoped>\n",
       "    .dataframe tbody tr th:only-of-type {\n",
       "        vertical-align: middle;\n",
       "    }\n",
       "\n",
       "    .dataframe tbody tr th {\n",
       "        vertical-align: top;\n",
       "    }\n",
       "\n",
       "    .dataframe thead th {\n",
       "        text-align: right;\n",
       "    }\n",
       "</style>\n",
       "<table border=\"1\" class=\"dataframe\">\n",
       "  <thead>\n",
       "    <tr style=\"text-align: right;\">\n",
       "      <th></th>\n",
       "      <th>description</th>\n",
       "      <th>question</th>\n",
       "      <th>answer</th>\n",
       "    </tr>\n",
       "  </thead>\n",
       "  <tbody>\n",
       "    <tr>\n",
       "      <th>152573</th>\n",
       "      <td>causes red spots around eyes child</td>\n",
       "      <td>hi 18month old suddenli becom faddi eat ok diet eat shreddi pot yogurt odd bit toast poorli around 15th april sick diarea week diet chang becam better develop littl red spot chin spread around face one disappear anoth appear somewher els prescrib caneston cream didnt realli anyth seem clear eat yogurt anyth moment manag get eat spot appear around eye could eat someth els</td>\n",
       "      <td>i donot think so its related to yogurt she is fond of eating as it does not spread and non itchy  do you have mosquito at home  apply some soothing cream  moisturizer and that s all needed to your baby now</td>\n",
       "    </tr>\n",
       "    <tr>\n",
       "      <th>247419</th>\n",
       "      <td>skin colored itchy bumps elbow lower back temporary relief hydro cortisone cream allergy pills history seasonal allergies done</td>\n",
       "      <td>skin color itchi bump elbow lower back itch like crazi notic last spring took long time heal month got spring get season allergi start take allergi pill itch went away rash clear longer season allergi need take alleri pill loratadin 10 mg rash back start take allergi pill help littl itch still bump still itch time bump red scratch like crazi tri hydrocortison cream well help also tri skinceut hydra balm well help littl itch live new mexico dri use oil lotion daili skin dri bump smooth touch blister</td>\n",
       "      <td>hi   dear user    thanks for choosing hcm    u have seasonal allergy called     allergic dermatitis    so evaluate it   consult good dermatologist    thanq</td>\n",
       "    </tr>\n",
       "    <tr>\n",
       "      <th>71438</th>\n",
       "      <td>vomiting one day pain appendix bladder</td>\n",
       "      <td>vomit sinc yesterday eat lunch mouth esophagu hurt stomach feel full addit sinc morn area appendix bladder hurt could strain muscl due vomit appendix</td>\n",
       "      <td>constipation  when was your last bowel movement   if you are clogged up it will have no where else to go but up  chances are the pain in your belly by your bladder is a strained muscle  so is your question about the strained muscle or the vomiting   chances are you have a 24 hour flu or you ate something bad for breakfast</td>\n",
       "    </tr>\n",
       "    <tr>\n",
       "      <th>201206</th>\n",
       "      <td>liver cirrhosis enlarged spleen veins treated</td>\n",
       "      <td>hi name tammi multipl gallston hep c chorrosi liver enlarg spleen enlarg vein one live want touch want send bigger town better dr also want liver doner list hare get</td>\n",
       "      <td>hi and welcome to healthcaremagic  thank you for your query  i am dr  rommstein  i understand your concerns and i will try to help you as much as i can this is serious disease and quitting alcohol is the most important thing that should be done  also  medications which are hematotoxic should be avoided  this is necessary to prevent disease progression  which is lethal in most cases  at early stages it can be treated with these measures but but in case of progression  only liver transplantation may help  diet should be balanced and healthy and get regular exercise  limit high carb foods such as bread  grits  rice  potatoes  and corn  and cut down on drinks with lots of sugar like sports drinks and juice  if there is viral hepatitis as udnelying cause then antiviral medications are required i hope i have answered you query  if you have any further questions you can contact us in every time kindly regards  wish you a good health</td>\n",
       "    </tr>\n",
       "    <tr>\n",
       "      <th>40162</th>\n",
       "      <td>unable control agitation hallucinations restlessness remedy</td>\n",
       "      <td>51 yr old femal w glioblastoma end stage morphine30mg sq q 4hr atc w btd 15 mg q 1hr prn decadron 4mg sq bid haldol 5mg sq q4hr atc ativan 1 mg q 4 hr atc still unabl control agit hallucin restless suggest</td>\n",
       "      <td>hithanks for using healthcare magici think  she has hallucination due to metastasis  in that case  just carry on with haloperidol or you can try quetiapine or olanzapine  organic psychosis is very difficult to treat and some time does not get improved with medication  better to try any of these sedative antipsychotic  at least with it she would remain calm thanks</td>\n",
       "    </tr>\n",
       "  </tbody>\n",
       "</table>\n",
       "</div>"
      ],
      "text/plain": [
       "                                                                                                                           description  \\\n",
       "152573                                                                                              causes red spots around eyes child   \n",
       "247419  skin colored itchy bumps elbow lower back temporary relief hydro cortisone cream allergy pills history seasonal allergies done   \n",
       "71438                                                                                           vomiting one day pain appendix bladder   \n",
       "201206                                                                                   liver cirrhosis enlarged spleen veins treated   \n",
       "40162                                                                      unable control agitation hallucinations restlessness remedy   \n",
       "\n",
       "                                                                                                                                                                                                                                                                                                                                                                                                                                                                                                                       question  \\\n",
       "152573                                                                                                                                    hi 18month old suddenli becom faddi eat ok diet eat shreddi pot yogurt odd bit toast poorli around 15th april sick diarea week diet chang becam better develop littl red spot chin spread around face one disappear anoth appear somewher els prescrib caneston cream didnt realli anyth seem clear eat yogurt anyth moment manag get eat spot appear around eye could eat someth els   \n",
       "247419  skin color itchi bump elbow lower back itch like crazi notic last spring took long time heal month got spring get season allergi start take allergi pill itch went away rash clear longer season allergi need take alleri pill loratadin 10 mg rash back start take allergi pill help littl itch still bump still itch time bump red scratch like crazi tri hydrocortison cream well help also tri skinceut hydra balm well help littl itch live new mexico dri use oil lotion daili skin dri bump smooth touch blister   \n",
       "71438                                                                                                                                                                                                                                                                                                                                                                     vomit sinc yesterday eat lunch mouth esophagu hurt stomach feel full addit sinc morn area appendix bladder hurt could strain muscl due vomit appendix   \n",
       "201206                                                                                                                                                                                                                                                                                                                                                    hi name tammi multipl gallston hep c chorrosi liver enlarg spleen enlarg vein one live want touch want send bigger town better dr also want liver doner list hare get   \n",
       "40162                                                                                                                                                                                                                                                                                                             51 yr old femal w glioblastoma end stage morphine30mg sq q 4hr atc w btd 15 mg q 1hr prn decadron 4mg sq bid haldol 5mg sq q4hr atc ativan 1 mg q 4 hr atc still unabl control agit hallucin restless suggest   \n",
       "\n",
       "                                                                                                                                                                                                                                                                                                                                                                                                                                                                                                                                                                                                                                                                                                                                                                                                                                                                                                                                                                              answer  \n",
       "152573                                                                                                                                                                                                                                                                                                                                                                                                                                                                                                                                                                                                                                                                                                                                                                i donot think so its related to yogurt she is fond of eating as it does not spread and non itchy  do you have mosquito at home  apply some soothing cream  moisturizer and that s all needed to your baby now   \n",
       "247419                                                                                                                                                                                                                                                                                                                                                                                                                                                                                                                                                                                                                                                                                                                                                                                                                   hi   dear user    thanks for choosing hcm    u have seasonal allergy called     allergic dermatitis    so evaluate it   consult good dermatologist    thanq  \n",
       "71438                                                                                                                                                                                                                                                                                                                                                                                                                                                                                                                                                                                                                                            constipation  when was your last bowel movement   if you are clogged up it will have no where else to go but up  chances are the pain in your belly by your bladder is a strained muscle  so is your question about the strained muscle or the vomiting   chances are you have a 24 hour flu or you ate something bad for breakfast  \n",
       "201206  hi and welcome to healthcaremagic  thank you for your query  i am dr  rommstein  i understand your concerns and i will try to help you as much as i can this is serious disease and quitting alcohol is the most important thing that should be done  also  medications which are hematotoxic should be avoided  this is necessary to prevent disease progression  which is lethal in most cases  at early stages it can be treated with these measures but but in case of progression  only liver transplantation may help  diet should be balanced and healthy and get regular exercise  limit high carb foods such as bread  grits  rice  potatoes  and corn  and cut down on drinks with lots of sugar like sports drinks and juice  if there is viral hepatitis as udnelying cause then antiviral medications are required i hope i have answered you query  if you have any further questions you can contact us in every time kindly regards  wish you a good health   \n",
       "40162                                                                                                                                                                                                                                                                                                                                                                                                                                                                                                                                                                                                  hithanks for using healthcare magici think  she has hallucination due to metastasis  in that case  just carry on with haloperidol or you can try quetiapine or olanzapine  organic psychosis is very difficult to treat and some time does not get improved with medication  better to try any of these sedative antipsychotic  at least with it she would remain calm thanks  "
      ]
     },
     "execution_count": 77,
     "metadata": {},
     "output_type": "execute_result"
    }
   ],
   "source": [
    "df.sample(5, random_state=SEED)"
   ]
  },
  {
   "cell_type": "markdown",
   "metadata": {},
   "source": [
    "# Building and training model"
   ]
  },
  {
   "cell_type": "markdown",
   "metadata": {},
   "source": [
    "#### Split the data into train, test, and validation"
   ]
  },
  {
   "cell_type": "code",
   "execution_count": 78,
   "metadata": {},
   "outputs": [],
   "source": [
    "from sklearn.model_selection import train_test_split\n",
    "\n",
    "X = df[['description', 'question']]\n",
    "y = df['answer']\n",
    "\n",
    "X_train_and_val, X_test, y_train_and_val, y_test = train_test_split(X, y, test_size=0.1, random_state=42)\n",
    "\n",
    "X_train, X_val, y_train, y_val = train_test_split(X_train_and_val, y_train_and_val, test_size=0.1, random_state=42)\n"
   ]
  },
  {
   "cell_type": "code",
   "execution_count": 79,
   "metadata": {},
   "outputs": [
    {
     "name": "stdout",
     "output_type": "stream",
     "text": [
      "Number of samples in train set: 208097\n",
      "Number of samples in validation set: 23122\n",
      "Number of samples in test set: 25691\n"
     ]
    }
   ],
   "source": [
    "print(f\"Number of samples in train set: {X_train.shape[0]}\")\n",
    "print(f\"Number of samples in validation set: {X_val.shape[0]}\")\n",
    "print(f\"Number of samples in test set: {X_test.shape[0]}\")"
   ]
  },
  {
   "cell_type": "markdown",
   "metadata": {},
   "source": [
    "#### Training model based on Probability"
   ]
  },
  {
   "cell_type": "code",
   "execution_count": 181,
   "metadata": {},
   "outputs": [],
   "source": [
    "import math\n",
    "\n",
    "class ProbabilityBasedAgent:\n",
    "    \n",
    "\tdef __init__(self, questions, responses):\n",
    "\t\tself.questions = questions\n",
    "\t\tself.responses = responses\n",
    "\t\tself.question_sets = []\n",
    "\t\tself.vocab = None\n",
    "\n",
    "\tdef get_vocab(self):\n",
    "\t\tvocab = set()\n",
    "\t\tfor question in self.questions:\n",
    "\t\t\tfor word in question.split():\n",
    "\t\t\t\tvocab.add(word)\n",
    "\t\treturn list(vocab)\n",
    "\n",
    "\tdef prob_query_given_sentence(self, query, sentence_lst, alpha=1):\n",
    "\t\tquery_lst = query.split()\n",
    "\t\tmatch = 0\n",
    "\t\t\n",
    "\t\tfor token in query_lst:\n",
    "\t\t\tif token in sentence_lst:\n",
    "\t\t\t\tmatch += 1\n",
    "\t\t\n",
    "\t\t# Apply Laplace smoothing\n",
    "\t\tnumerator = match + alpha\n",
    "\t\tdenominator = len(query_lst) + alpha\n",
    "\t\t\n",
    "\t\tp = numerator / denominator\n",
    "\t\treturn p\n",
    "\n",
    "\tdef train(self):\n",
    "\t\tself.vocab = self.get_vocab()\n",
    "\n",
    "\t\tfor question in self.questions:\n",
    "\t\t\tself.question_sets.append(set(question.split()))\n",
    "\n",
    "\tdef find_closest_answer(self, query, k):\n",
    "\t\t\n",
    "\t\tprobabilities_match = []\n",
    "\t\tfor i in range(len(self.questions)):\n",
    "\t\t\tprob = self.prob_query_given_sentence(query, self.question_sets[i])\n",
    "\t\t\tprobabilities_match.append((prob, self.questions[i], self.responses[i]))\n",
    "\n",
    "\t\tprobabilities_match.sort(reverse=True)\n",
    "\n",
    "\t\treturn probabilities_match[:k]\n",
    "\n",
    "# Constrain size of train data to 20000 cause of compute restriction\t\n",
    "training_questions = list(X_train['description'])[:20000]\n",
    "training_responses = list(y_train)[:20000]\n",
    "\n",
    "# Constrain size of train data to 20000 cause of compute restriction\t\n",
    "training_questions = list(X_train['description'])[:20000]\n",
    "training_responses = list(y_train)[:20000]\n",
    "\n",
    "model = ProbabilityBasedAgent(training_questions, training_responses)\n",
    "model.train()"
   ]
  },
  {
   "cell_type": "code",
   "execution_count": 182,
   "metadata": {},
   "outputs": [
    {
     "name": "stdout",
     "output_type": "stream",
     "text": [
      "The following are some of the closest responses we could find:\n",
      "Probability: 0.2222222222222222\n",
      "Question: x ray result back indicate\n",
      "Answer: hi showing loss of curvature and straightening of spine in elderly might be due to degenerative and osteo artheritis in spines but as you are young this might be due to faulty posture of sitting this can be due to long time sitting in front of computer or table work correct your posture sit straight and avoid bending from back while doing work go for back extension exercises daily ok and take care \n",
      "\n",
      "Probability: 0.2222222222222222\n",
      "Question: would painless lump back\n",
      "Answer: hi   good evening  i am dr shareef answering your query  although a personal physical examination of the lump would be helpful in reaching a nearby diagnosis  most probably with a history of trauma  it could be an organised hematoma on the left side of your back  to confirm the diagnosis  if i were your doctor  i would go for an fnac  fine needle aspiration cytology  followed possibly by an excision biopsy depending on the report of the fnac   considering the duration of more than 4 years  clinically it might be a benign lesion not to worry about  however  for cosmetic reasons it might be required to be taken out therefore  i would advise you to consult a general surgeon and get your self assessed for the same i hope this information would help you in discussing with your family physician treating doctor in further management of your problem  please do not hesitate to ask in case of any further doubts thanks for choosing health care magic to clear doubts on your health problems  wishing you an early recovery  dr shareef \n",
      "\n",
      "Probability: 0.2222222222222222\n",
      "Question: worried strong back pain falling back\n",
      "Answer: hi  thanks for using hcm in my opinion you should stop worrying  for immediate relief have some pain killer along with a muscle relaxant and have proper bed rest for few days  do not lie down on soft mattress use hard one instead  do not strain your self or over exert  u can also apply some good anti inflammatory pain killer gel on your back  if the pain increases do some hot fermentation locally\n",
      "\n"
     ]
    }
   ],
   "source": [
    "user_query = \"I have back pain, what should i do?\"\n",
    "responses = model.find_closest_answer(user_query, 3)\n",
    "\n",
    "print(\"The following are some of the closest responses we could find:\")\n",
    "\n",
    "for sim, q, a in responses:\n",
    "    \n",
    "\tprint(f\"Probability: {sim}\")\n",
    "\tprint(f\"Question: {q}\")\n",
    "\tprint(f\"Answer: {a}\")\n",
    "\tprint()"
   ]
  },
  {
   "cell_type": "code",
   "execution_count": null,
   "metadata": {},
   "outputs": [],
   "source": [
    "def eval_fn(preds, y):\n",
    "    def overlap(pred, answer):\n",
    "        pred_words = set(pred.lower().split())\n",
    "        answer_words = set(answer.lower().split())\n",
    "        overlap = pred_words.intersection(answer_words)\n",
    "        return len(overlap) / len(answer_words) if answer_words else 0\n",
    "\n",
    "    scores = [overlap(pred, answer) for pred, answer in zip(preds, y)]\n",
    "    scores.sort()\n",
    "    return scores[len(scores) // 2]"
   ]
  },
  {
   "cell_type": "markdown",
   "metadata": {},
   "source": [
    "##### Evaluation on the test set"
   ]
  },
  {
   "cell_type": "code",
   "execution_count": 183,
   "metadata": {},
   "outputs": [],
   "source": [
    "# Pick a subsample of 25 for testing due to compute constraints\n",
    "preds = []\n",
    "sample = 25\n",
    "for x in X_test['description'][:sample]:\n",
    "    sim, q, a = model.find_closest_answer(x, 1)[0]\n",
    "    preds.append(a)\n",
    "y = y_test[:sample]"
   ]
  },
  {
   "cell_type": "code",
   "execution_count": 184,
   "metadata": {},
   "outputs": [
    {
     "name": "stdout",
     "output_type": "stream",
     "text": [
      "0.22535211267605634\n"
     ]
    }
   ],
   "source": [
    "print(eval_fn(preds, y))"
   ]
  },
  {
   "cell_type": "markdown",
   "metadata": {},
   "source": [
    "##### Evaluation on the train set"
   ]
  },
  {
   "cell_type": "code",
   "execution_count": 186,
   "metadata": {},
   "outputs": [],
   "source": [
    "# Pick a subsample of 25 from training due to compute constraints\n",
    "preds = []\n",
    "sample = 25\n",
    "for x in X_train['description'][:sample]:\n",
    "    sim, q, a = model.find_closest_answer(x, 1)[0]\n",
    "    preds.append(a)\n",
    "y = y_train[:sample]"
   ]
  },
  {
   "cell_type": "code",
   "execution_count": 187,
   "metadata": {},
   "outputs": [
    {
     "name": "stdout",
     "output_type": "stream",
     "text": [
      "1.0\n"
     ]
    }
   ],
   "source": [
    "print(eval_fn(preds, y))"
   ]
  },
  {
   "cell_type": "markdown",
   "metadata": {},
   "source": [
    "#### Training Model Based On Cosine Similarity"
   ]
  },
  {
   "cell_type": "code",
   "execution_count": 140,
   "metadata": {},
   "outputs": [],
   "source": [
    "import math\n",
    "\n",
    "def cosine_similarity(user, ques):\n",
    "    dot_product = sum(x*y for x, y in zip(user, ques))\n",
    "    magnitude_user = sum(x*x for x in user)**0.5\n",
    "    magnitude_ques = sum(y*y for y in ques)**0.5\n",
    "    return dot_product / (magnitude_user * magnitude_ques)\n",
    "\n",
    "\n",
    "class SimilarityBasedAgent:\n",
    "    \n",
    "\tdef __init__(self, questions, responses):\n",
    "\t\tself.questions = questions\n",
    "\t\tself.responses = responses\n",
    "\t\tself.vocab = None\n",
    "\t\tself.questions_vectors = None\n",
    "\n",
    "\tdef get_vocab(self):\n",
    "\t\tvocab = set()\n",
    "\t\tfor question in self.questions:\n",
    "\t\t\tfor word in question.split():\n",
    "\t\t\t\tvocab.add(word)\n",
    "\t\treturn list(vocab)\n",
    "\t\n",
    "\tdef bag_of_words(self, question):\n",
    "\t\tvec = []\n",
    "\t\tfor token in self.vocab:\n",
    "\t\t\tvec.append(question.count(token))\n",
    "\t\treturn vec\n",
    "\n",
    "\tdef train(self):\n",
    "\t\tself.vocab = self.get_vocab()\n",
    "\t\tvectors = []\n",
    "\t\tfor question in self.questions:\n",
    "\t\t\tvectors.append(self.bag_of_words(question))\n",
    "\t\tself.questions_vectors = vectors\n",
    "\n",
    "\tdef find_closest_answer(self, query, k):\n",
    "\t\tuser_query_vector = self.bag_of_words(query)\n",
    "\t\t\n",
    "\t\tsimilarities = []\n",
    "\t\tfor i in range(len(self.questions)):\n",
    "\t\t\tsim = cosine_similarity(user_query_vector, self.questions_vectors[i])\n",
    "\t\t\tsimilarities.append((sim, self.questions[i], self.responses[i]))\n",
    "\n",
    "\t\tsimilarities.sort(reverse=True)\n",
    "\n",
    "\t\treturn similarities[:k]\n",
    "\n",
    "# Constrain size of train data to 20000 cause of compute restriction\t\n",
    "training_questions = list(X_train['description'])[:20000]\n",
    "training_responses = list(y_train)[:20000]\n",
    "\n",
    "model = SimilarityBasedAgent(training_questions, training_responses)\n",
    "model.train()"
   ]
  },
  {
   "cell_type": "code",
   "execution_count": null,
   "metadata": {},
   "outputs": [
    {
     "name": "stdout",
     "output_type": "stream",
     "text": [
      "The following are some of the closest responses we could find:\n",
      "Similarity: 0.7456785876210714\n",
      "Question: causes sharp pain shoulders back neck thighs\n",
      "Answer: hello and welcome to  ask a doctor  service i have reviewed your query and here is my advice in my opinion  the symptoms point towards disc prolapse which needs to be evaluated with x ray and mri  hope i have answered your query  let me know if i can assist you further regards  dr  fahim sheik\n",
      "\n",
      "Similarity: 0.7172191381865586\n",
      "Question: causes sharp shooting pain back head\n",
      "Answer: hi thanks for writing in to us there are many causes of a shooting pain in the back of the head  commonly a neuralgia of the trigeminal nerve can cause such a condition  it has branches which supplies the back of the head  this can trigger sharp pains to the area  however a clinical examination is required to confirm the condition other causes of such pains can be from nerve pinching in the cervical spine  the nerves leave the spinal cord through small foramina and if there is cervical spine disc disease then the nerves are under pressure and can cause a sensation of sharp pain in the back of the head and neck regions pain below the ear can also happen due to inflammation of blood vessels called arteritis  usually temporal arteritis is a common cause of pain on the side of head and around the ear  please consult a neurologist for confirmation  please do not worry \n",
      "\n",
      "Similarity: 0.7128451081042417\n",
      "Question: whats causing back pain stomach pain radiating buttocks thigh 2 years healed back injury\n",
      "Answer: hithank for asking to hcmi can understand your worry and i could say that this is not because of your injury but this could be dysmenorrhea  refer pain of this could be toward your buttock and thigh and this will go way with the help of any pain killer and the drug of choice would be   ibuprofen   you can try this  nothing to worry about this  this is not the big problem will go away soon  take care and have nice day \n",
      "\n"
     ]
    }
   ],
   "source": [
    "user_query = \"I have back pain, what should i do?\"\n",
    "responses = model.find_closest_answer(user_query, 3)\n",
    "\n",
    "print(\"The following are some of the closest responses we could find:\")\n",
    "\n",
    "for sim, q, a in responses:\n",
    "    \n",
    "\tprint(f\"Similarity: {sim}\")\n",
    "\tprint(f\"Question: {q}\")\n",
    "\tprint(f\"Answer: {a}\")\n",
    "\tprint()"
   ]
  },
  {
   "cell_type": "markdown",
   "metadata": {},
   "source": [
    "##### Evaluation on the test set"
   ]
  },
  {
   "cell_type": "code",
   "execution_count": 168,
   "metadata": {},
   "outputs": [],
   "source": [
    "# Pick a subsample of 25 for testing due to compute constraints\n",
    "preds = []\n",
    "sample = 25\n",
    "for x in X_test['description'][:sample]:\n",
    "    sim, q, a = model.find_closest_answer(x, 1)[0]\n",
    "    preds.append(a)\n",
    "y = y_test[:sample]"
   ]
  },
  {
   "cell_type": "code",
   "execution_count": 169,
   "metadata": {},
   "outputs": [
    {
     "data": {
      "text/plain": [
       "0.25"
      ]
     },
     "execution_count": 169,
     "metadata": {},
     "output_type": "execute_result"
    }
   ],
   "source": [
    "print(eval_fn(preds, y))"
   ]
  },
  {
   "cell_type": "markdown",
   "metadata": {},
   "source": [
    "##### Evaluation on the train set"
   ]
  },
  {
   "cell_type": "code",
   "execution_count": null,
   "metadata": {},
   "outputs": [],
   "source": [
    "# Pick a subsample of 25 from training due to compute constraints\n",
    "preds = []\n",
    "sample = 25\n",
    "for x in X_train['description'][:sample]:\n",
    "    sim, q, a = model.find_closest_answer(x, 1)[0]\n",
    "    preds.append(a)\n",
    "y = y_train[:sample]"
   ]
  },
  {
   "cell_type": "code",
   "execution_count": 173,
   "metadata": {},
   "outputs": [
    {
     "name": "stdout",
     "output_type": "stream",
     "text": [
      "1.0\n"
     ]
    }
   ],
   "source": [
    "y = y_train[:sample]\n",
    "\n",
    "print(eval_fn(preds, y))"
   ]
  }
 ],
 "metadata": {
  "kernelspec": {
   "display_name": "cse156",
   "language": "python",
   "name": "python3"
  },
  "language_info": {
   "codemirror_mode": {
    "name": "ipython",
    "version": 3
   },
   "file_extension": ".py",
   "mimetype": "text/x-python",
   "name": "python",
   "nbconvert_exporter": "python",
   "pygments_lexer": "ipython3",
   "version": "3.12.7"
  }
 },
 "nbformat": 4,
 "nbformat_minor": 2
}
