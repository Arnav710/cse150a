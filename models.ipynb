{
 "cells": [
  {
   "cell_type": "code",
   "execution_count": 6,
   "metadata": {},
   "outputs": [],
   "source": [
    "import pandas as pd\n",
    "\n",
    "SEED = 0\n",
    "pd.set_option('display.max_colwidth', None)"
   ]
  },
  {
   "cell_type": "code",
   "execution_count": 7,
   "metadata": {},
   "outputs": [],
   "source": [
    "# Load Data"
   ]
  },
  {
   "cell_type": "code",
   "execution_count": 8,
   "metadata": {},
   "outputs": [],
   "source": [
    "path = 'data/preprocessed-ai-medical-chatbot.csv'\n",
    "df = pd.read_csv(path)\n",
    "df = df.dropna()"
   ]
  },
  {
   "cell_type": "code",
   "execution_count": 13,
   "metadata": {},
   "outputs": [
    {
     "data": {
      "text/html": [
       "<div>\n",
       "<style scoped>\n",
       "    .dataframe tbody tr th:only-of-type {\n",
       "        vertical-align: middle;\n",
       "    }\n",
       "\n",
       "    .dataframe tbody tr th {\n",
       "        vertical-align: top;\n",
       "    }\n",
       "\n",
       "    .dataframe thead th {\n",
       "        text-align: right;\n",
       "    }\n",
       "</style>\n",
       "<table border=\"1\" class=\"dataframe\">\n",
       "  <thead>\n",
       "    <tr style=\"text-align: right;\">\n",
       "      <th></th>\n",
       "      <th>description</th>\n",
       "      <th>question</th>\n",
       "      <th>answer</th>\n",
       "    </tr>\n",
       "  </thead>\n",
       "  <tbody>\n",
       "    <tr>\n",
       "      <th>152573</th>\n",
       "      <td>caus red spot around eye child</td>\n",
       "      <td>hi 18month old suddenli becom faddi eat ok diet eat shreddi pot yogurt odd bit toast poorli around 15th april sick diarea week diet chang becam better develop littl red spot chin spread around face one disappear anoth appear somewher els prescrib caneston cream didnt realli anyth seem clear eat yogurt anyth moment manag get eat spot appear around eye could eat someth els</td>\n",
       "      <td>i donot think so its related to yogurt she is fond of eating as it does not spread and non itchy  do you have mosquito at home  apply some soothing cream  moisturizer and that s all needed to your baby now</td>\n",
       "    </tr>\n",
       "    <tr>\n",
       "      <th>247419</th>\n",
       "      <td>skin color itchi bump elbow lower back temporari relief hydro cortison cream allergi pill histori season allergi done</td>\n",
       "      <td>skin color itchi bump elbow lower back itch like crazi notic last spring took long time heal month got spring get season allergi start take allergi pill itch went away rash clear longer season allergi need take alleri pill loratadin 10 mg rash back start take allergi pill help littl itch still bump still itch time bump red scratch like crazi tri hydrocortison cream well help also tri skinceut hydra balm well help littl itch live new mexico dri use oil lotion daili skin dri bump smooth touch blister</td>\n",
       "      <td>hi   dear user    thanks for choosing hcm    u have seasonal allergy called     allergic dermatitis    so evaluate it   consult good dermatologist    thanq</td>\n",
       "    </tr>\n",
       "    <tr>\n",
       "      <th>71438</th>\n",
       "      <td>vomit one day pain appendix bladder</td>\n",
       "      <td>vomit sinc yesterday eat lunch mouth esophagu hurt stomach feel full addit sinc morn area appendix bladder hurt could strain muscl due vomit appendix</td>\n",
       "      <td>constipation  when was your last bowel movement   if you are clogged up it will have no where else to go but up  chances are the pain in your belly by your bladder is a strained muscle  so is your question about the strained muscle or the vomiting   chances are you have a 24 hour flu or you ate something bad for breakfast</td>\n",
       "    </tr>\n",
       "    <tr>\n",
       "      <th>201206</th>\n",
       "      <td>liver cirrhosi enlarg spleen vein treat</td>\n",
       "      <td>hi name tammi multipl gallston hep c chorrosi liver enlarg spleen enlarg vein one live want touch want send bigger town better dr also want liver doner list hare get</td>\n",
       "      <td>hi and welcome to healthcaremagic  thank you for your query  i am dr  rommstein  i understand your concerns and i will try to help you as much as i can this is serious disease and quitting alcohol is the most important thing that should be done  also  medications which are hematotoxic should be avoided  this is necessary to prevent disease progression  which is lethal in most cases  at early stages it can be treated with these measures but but in case of progression  only liver transplantation may help  diet should be balanced and healthy and get regular exercise  limit high carb foods such as bread  grits  rice  potatoes  and corn  and cut down on drinks with lots of sugar like sports drinks and juice  if there is viral hepatitis as udnelying cause then antiviral medications are required i hope i have answered you query  if you have any further questions you can contact us in every time kindly regards  wish you a good health</td>\n",
       "    </tr>\n",
       "    <tr>\n",
       "      <th>40162</th>\n",
       "      <td>unabl control agit hallucin restless remedi</td>\n",
       "      <td>51 yr old femal w glioblastoma end stage morphine30mg sq q 4hr atc w btd 15 mg q 1hr prn decadron 4mg sq bid haldol 5mg sq q4hr atc ativan 1 mg q 4 hr atc still unabl control agit hallucin restless suggest</td>\n",
       "      <td>hithanks for using healthcare magici think  she has hallucination due to metastasis  in that case  just carry on with haloperidol or you can try quetiapine or olanzapine  organic psychosis is very difficult to treat and some time does not get improved with medication  better to try any of these sedative antipsychotic  at least with it she would remain calm thanks</td>\n",
       "    </tr>\n",
       "  </tbody>\n",
       "</table>\n",
       "</div>"
      ],
      "text/plain": [
       "                                                                                                                  description  \\\n",
       "152573                                                                                         caus red spot around eye child   \n",
       "247419  skin color itchi bump elbow lower back temporari relief hydro cortison cream allergi pill histori season allergi done   \n",
       "71438                                                                                     vomit one day pain appendix bladder   \n",
       "201206                                                                                liver cirrhosi enlarg spleen vein treat   \n",
       "40162                                                                             unabl control agit hallucin restless remedi   \n",
       "\n",
       "                                                                                                                                                                                                                                                                                                                                                                                                                                                                                                                       question  \\\n",
       "152573                                                                                                                                    hi 18month old suddenli becom faddi eat ok diet eat shreddi pot yogurt odd bit toast poorli around 15th april sick diarea week diet chang becam better develop littl red spot chin spread around face one disappear anoth appear somewher els prescrib caneston cream didnt realli anyth seem clear eat yogurt anyth moment manag get eat spot appear around eye could eat someth els   \n",
       "247419  skin color itchi bump elbow lower back itch like crazi notic last spring took long time heal month got spring get season allergi start take allergi pill itch went away rash clear longer season allergi need take alleri pill loratadin 10 mg rash back start take allergi pill help littl itch still bump still itch time bump red scratch like crazi tri hydrocortison cream well help also tri skinceut hydra balm well help littl itch live new mexico dri use oil lotion daili skin dri bump smooth touch blister   \n",
       "71438                                                                                                                                                                                                                                                                                                                                                                     vomit sinc yesterday eat lunch mouth esophagu hurt stomach feel full addit sinc morn area appendix bladder hurt could strain muscl due vomit appendix   \n",
       "201206                                                                                                                                                                                                                                                                                                                                                    hi name tammi multipl gallston hep c chorrosi liver enlarg spleen enlarg vein one live want touch want send bigger town better dr also want liver doner list hare get   \n",
       "40162                                                                                                                                                                                                                                                                                                             51 yr old femal w glioblastoma end stage morphine30mg sq q 4hr atc w btd 15 mg q 1hr prn decadron 4mg sq bid haldol 5mg sq q4hr atc ativan 1 mg q 4 hr atc still unabl control agit hallucin restless suggest   \n",
       "\n",
       "                                                                                                                                                                                                                                                                                                                                                                                                                                                                                                                                                                                                                                                                                                                                                                                                                                                                                                                                                                              answer  \n",
       "152573                                                                                                                                                                                                                                                                                                                                                                                                                                                                                                                                                                                                                                                                                                                                                                i donot think so its related to yogurt she is fond of eating as it does not spread and non itchy  do you have mosquito at home  apply some soothing cream  moisturizer and that s all needed to your baby now   \n",
       "247419                                                                                                                                                                                                                                                                                                                                                                                                                                                                                                                                                                                                                                                                                                                                                                                                                   hi   dear user    thanks for choosing hcm    u have seasonal allergy called     allergic dermatitis    so evaluate it   consult good dermatologist    thanq  \n",
       "71438                                                                                                                                                                                                                                                                                                                                                                                                                                                                                                                                                                                                                                            constipation  when was your last bowel movement   if you are clogged up it will have no where else to go but up  chances are the pain in your belly by your bladder is a strained muscle  so is your question about the strained muscle or the vomiting   chances are you have a 24 hour flu or you ate something bad for breakfast  \n",
       "201206  hi and welcome to healthcaremagic  thank you for your query  i am dr  rommstein  i understand your concerns and i will try to help you as much as i can this is serious disease and quitting alcohol is the most important thing that should be done  also  medications which are hematotoxic should be avoided  this is necessary to prevent disease progression  which is lethal in most cases  at early stages it can be treated with these measures but but in case of progression  only liver transplantation may help  diet should be balanced and healthy and get regular exercise  limit high carb foods such as bread  grits  rice  potatoes  and corn  and cut down on drinks with lots of sugar like sports drinks and juice  if there is viral hepatitis as udnelying cause then antiviral medications are required i hope i have answered you query  if you have any further questions you can contact us in every time kindly regards  wish you a good health   \n",
       "40162                                                                                                                                                                                                                                                                                                                                                                                                                                                                                                                                                                                                  hithanks for using healthcare magici think  she has hallucination due to metastasis  in that case  just carry on with haloperidol or you can try quetiapine or olanzapine  organic psychosis is very difficult to treat and some time does not get improved with medication  better to try any of these sedative antipsychotic  at least with it she would remain calm thanks  "
      ]
     },
     "execution_count": 13,
     "metadata": {},
     "output_type": "execute_result"
    }
   ],
   "source": [
    "df.sample(5, random_state=SEED)"
   ]
  },
  {
   "cell_type": "code",
   "execution_count": 10,
   "metadata": {},
   "outputs": [
    {
     "data": {
      "text/html": [
       "<div>\n",
       "<style scoped>\n",
       "    .dataframe tbody tr th:only-of-type {\n",
       "        vertical-align: middle;\n",
       "    }\n",
       "\n",
       "    .dataframe tbody tr th {\n",
       "        vertical-align: top;\n",
       "    }\n",
       "\n",
       "    .dataframe thead th {\n",
       "        text-align: right;\n",
       "    }\n",
       "</style>\n",
       "<table border=\"1\" class=\"dataframe\">\n",
       "  <thead>\n",
       "    <tr style=\"text-align: right;\">\n",
       "      <th></th>\n",
       "      <th>description</th>\n",
       "      <th>question</th>\n",
       "      <th>answer</th>\n",
       "    </tr>\n",
       "  </thead>\n",
       "  <tbody>\n",
       "    <tr>\n",
       "      <th>152573</th>\n",
       "      <td>caus red spot around eye child</td>\n",
       "      <td>hi 18month old suddenli becom faddi eat ok diet eat shreddi pot yogurt odd bit toast poorli around 15th april sick diarea week diet chang becam better develop littl red spot chin spread around face one disappear anoth appear somewher els prescrib caneston cream didnt realli anyth seem clear eat yogurt anyth moment manag get eat spot appear around eye could eat someth els</td>\n",
       "      <td>i donot think so its related to yogurt she is fond of eating as it does not spread and non itchy  do you have mosquito at home  apply some soothing cream  moisturizer and that s all needed to your baby now</td>\n",
       "    </tr>\n",
       "    <tr>\n",
       "      <th>247419</th>\n",
       "      <td>skin color itchi bump elbow lower back temporari relief hydro cortison cream allergi pill histori season allergi done</td>\n",
       "      <td>skin color itchi bump elbow lower back itch like crazi notic last spring took long time heal month got spring get season allergi start take allergi pill itch went away rash clear longer season allergi need take alleri pill loratadin 10 mg rash back start take allergi pill help littl itch still bump still itch time bump red scratch like crazi tri hydrocortison cream well help also tri skinceut hydra balm well help littl itch live new mexico dri use oil lotion daili skin dri bump smooth touch blister</td>\n",
       "      <td>hi   dear user    thanks for choosing hcm    u have seasonal allergy called     allergic dermatitis    so evaluate it   consult good dermatologist    thanq</td>\n",
       "    </tr>\n",
       "    <tr>\n",
       "      <th>71438</th>\n",
       "      <td>vomit one day pain appendix bladder</td>\n",
       "      <td>vomit sinc yesterday eat lunch mouth esophagu hurt stomach feel full addit sinc morn area appendix bladder hurt could strain muscl due vomit appendix</td>\n",
       "      <td>constipation  when was your last bowel movement   if you are clogged up it will have no where else to go but up  chances are the pain in your belly by your bladder is a strained muscle  so is your question about the strained muscle or the vomiting   chances are you have a 24 hour flu or you ate something bad for breakfast</td>\n",
       "    </tr>\n",
       "    <tr>\n",
       "      <th>201206</th>\n",
       "      <td>liver cirrhosi enlarg spleen vein treat</td>\n",
       "      <td>hi name tammi multipl gallston hep c chorrosi liver enlarg spleen enlarg vein one live want touch want send bigger town better dr also want liver doner list hare get</td>\n",
       "      <td>hi and welcome to healthcaremagic  thank you for your query  i am dr  rommstein  i understand your concerns and i will try to help you as much as i can this is serious disease and quitting alcohol is the most important thing that should be done  also  medications which are hematotoxic should be avoided  this is necessary to prevent disease progression  which is lethal in most cases  at early stages it can be treated with these measures but but in case of progression  only liver transplantation may help  diet should be balanced and healthy and get regular exercise  limit high carb foods such as bread  grits  rice  potatoes  and corn  and cut down on drinks with lots of sugar like sports drinks and juice  if there is viral hepatitis as udnelying cause then antiviral medications are required i hope i have answered you query  if you have any further questions you can contact us in every time kindly regards  wish you a good health</td>\n",
       "    </tr>\n",
       "    <tr>\n",
       "      <th>40162</th>\n",
       "      <td>unabl control agit hallucin restless remedi</td>\n",
       "      <td>51 yr old femal w glioblastoma end stage morphine30mg sq q 4hr atc w btd 15 mg q 1hr prn decadron 4mg sq bid haldol 5mg sq q4hr atc ativan 1 mg q 4 hr atc still unabl control agit hallucin restless suggest</td>\n",
       "      <td>hithanks for using healthcare magici think  she has hallucination due to metastasis  in that case  just carry on with haloperidol or you can try quetiapine or olanzapine  organic psychosis is very difficult to treat and some time does not get improved with medication  better to try any of these sedative antipsychotic  at least with it she would remain calm thanks</td>\n",
       "    </tr>\n",
       "  </tbody>\n",
       "</table>\n",
       "</div>"
      ],
      "text/plain": [
       "                                                                                                                  description  \\\n",
       "152573                                                                                         caus red spot around eye child   \n",
       "247419  skin color itchi bump elbow lower back temporari relief hydro cortison cream allergi pill histori season allergi done   \n",
       "71438                                                                                     vomit one day pain appendix bladder   \n",
       "201206                                                                                liver cirrhosi enlarg spleen vein treat   \n",
       "40162                                                                             unabl control agit hallucin restless remedi   \n",
       "\n",
       "                                                                                                                                                                                                                                                                                                                                                                                                                                                                                                                       question  \\\n",
       "152573                                                                                                                                    hi 18month old suddenli becom faddi eat ok diet eat shreddi pot yogurt odd bit toast poorli around 15th april sick diarea week diet chang becam better develop littl red spot chin spread around face one disappear anoth appear somewher els prescrib caneston cream didnt realli anyth seem clear eat yogurt anyth moment manag get eat spot appear around eye could eat someth els   \n",
       "247419  skin color itchi bump elbow lower back itch like crazi notic last spring took long time heal month got spring get season allergi start take allergi pill itch went away rash clear longer season allergi need take alleri pill loratadin 10 mg rash back start take allergi pill help littl itch still bump still itch time bump red scratch like crazi tri hydrocortison cream well help also tri skinceut hydra balm well help littl itch live new mexico dri use oil lotion daili skin dri bump smooth touch blister   \n",
       "71438                                                                                                                                                                                                                                                                                                                                                                     vomit sinc yesterday eat lunch mouth esophagu hurt stomach feel full addit sinc morn area appendix bladder hurt could strain muscl due vomit appendix   \n",
       "201206                                                                                                                                                                                                                                                                                                                                                    hi name tammi multipl gallston hep c chorrosi liver enlarg spleen enlarg vein one live want touch want send bigger town better dr also want liver doner list hare get   \n",
       "40162                                                                                                                                                                                                                                                                                                             51 yr old femal w glioblastoma end stage morphine30mg sq q 4hr atc w btd 15 mg q 1hr prn decadron 4mg sq bid haldol 5mg sq q4hr atc ativan 1 mg q 4 hr atc still unabl control agit hallucin restless suggest   \n",
       "\n",
       "                                                                                                                                                                                                                                                                                                                                                                                                                                                                                                                                                                                                                                                                                                                                                                                                                                                                                                                                                                              answer  \n",
       "152573                                                                                                                                                                                                                                                                                                                                                                                                                                                                                                                                                                                                                                                                                                                                                                i donot think so its related to yogurt she is fond of eating as it does not spread and non itchy  do you have mosquito at home  apply some soothing cream  moisturizer and that s all needed to your baby now   \n",
       "247419                                                                                                                                                                                                                                                                                                                                                                                                                                                                                                                                                                                                                                                                                                                                                                                                                   hi   dear user    thanks for choosing hcm    u have seasonal allergy called     allergic dermatitis    so evaluate it   consult good dermatologist    thanq  \n",
       "71438                                                                                                                                                                                                                                                                                                                                                                                                                                                                                                                                                                                                                                            constipation  when was your last bowel movement   if you are clogged up it will have no where else to go but up  chances are the pain in your belly by your bladder is a strained muscle  so is your question about the strained muscle or the vomiting   chances are you have a 24 hour flu or you ate something bad for breakfast  \n",
       "201206  hi and welcome to healthcaremagic  thank you for your query  i am dr  rommstein  i understand your concerns and i will try to help you as much as i can this is serious disease and quitting alcohol is the most important thing that should be done  also  medications which are hematotoxic should be avoided  this is necessary to prevent disease progression  which is lethal in most cases  at early stages it can be treated with these measures but but in case of progression  only liver transplantation may help  diet should be balanced and healthy and get regular exercise  limit high carb foods such as bread  grits  rice  potatoes  and corn  and cut down on drinks with lots of sugar like sports drinks and juice  if there is viral hepatitis as udnelying cause then antiviral medications are required i hope i have answered you query  if you have any further questions you can contact us in every time kindly regards  wish you a good health   \n",
       "40162                                                                                                                                                                                                                                                                                                                                                                                                                                                                                                                                                                                                  hithanks for using healthcare magici think  she has hallucination due to metastasis  in that case  just carry on with haloperidol or you can try quetiapine or olanzapine  organic psychosis is very difficult to treat and some time does not get improved with medication  better to try any of these sedative antipsychotic  at least with it she would remain calm thanks  "
      ]
     },
     "execution_count": 10,
     "metadata": {},
     "output_type": "execute_result"
    }
   ],
   "source": [
    "df.sample(5, random_state=SEED)"
   ]
  },
  {
   "cell_type": "markdown",
   "metadata": {},
   "source": [
    "# Building and training model"
   ]
  },
  {
   "cell_type": "markdown",
   "metadata": {},
   "source": [
    "#### Split the data into train, test, and validation"
   ]
  },
  {
   "cell_type": "code",
   "execution_count": 20,
   "metadata": {},
   "outputs": [],
   "source": [
    "from sklearn.model_selection import train_test_split\n",
    "\n",
    "X = df[['description', 'question']]\n",
    "y = df['answer']\n",
    "\n",
    "X_train, X_test, y_train, y_test = train_test_split(X, y, test_size=0.1, random_state=42)"
   ]
  },
  {
   "cell_type": "code",
   "execution_count": 21,
   "metadata": {},
   "outputs": [
    {
     "name": "stdout",
     "output_type": "stream",
     "text": [
      "Number of samples in train set: 231219\n",
      "Number of samples in test set: 25691\n"
     ]
    }
   ],
   "source": [
    "print(f\"Number of samples in train set: {X_train.shape[0]}\")\n",
    "print(f\"Number of samples in test set: {X_test.shape[0]}\")"
   ]
  },
  {
   "cell_type": "markdown",
   "metadata": {},
   "source": [
    "#### Define the evalutaion function"
   ]
  },
  {
   "cell_type": "code",
   "execution_count": 90,
   "metadata": {},
   "outputs": [],
   "source": [
    "from sentence_transformers import SentenceTransformer\n",
    "from sklearn.metrics.pairwise import cosine_similarity\n",
    "import numpy as np\n",
    "\n",
    "def eval_fn(preds, y):\n",
    "    model = SentenceTransformer('all-MiniLM-L6-v2')\n",
    "    pred_embeddings = model.encode(preds)\n",
    "    y_embeddings = model.encode(y)\n",
    "    \n",
    "    similarities = []\n",
    "    for pred, ans in zip(pred_embeddings, y_embeddings):\n",
    "        similarities.append(cosine_similarity([pred], [ans])[0][0])\n",
    "    return sum(similarities) / len(similarities)"
   ]
  },
  {
   "cell_type": "markdown",
   "metadata": {},
   "source": [
    "### Random Guessing Model"
   ]
  },
  {
   "cell_type": "code",
   "execution_count": 64,
   "metadata": {},
   "outputs": [],
   "source": [
    "# Pick a subsample of 25 for testing due to compute constraints\n",
    "import random\n",
    "random.seed(SEED)\n",
    "preds = []\n",
    "sample = 25\n",
    "response_lst = list(y_train)\n",
    "for x in X_test['description'][:sample]:\n",
    "    random_answer = random.choice(response_lst)\n",
    "    preds.append(random_answer)\n",
    "y = list(y_test[:sample])"
   ]
  },
  {
   "cell_type": "code",
   "execution_count": 65,
   "metadata": {},
   "outputs": [
    {
     "name": "stdout",
     "output_type": "stream",
     "text": [
      "0.18797363623976707\n"
     ]
    }
   ],
   "source": [
    "print(eval_fn(preds, y))"
   ]
  },
  {
   "cell_type": "markdown",
   "metadata": {},
   "source": [
    "#### Training model based on Probability"
   ]
  },
  {
   "cell_type": "code",
   "execution_count": 66,
   "metadata": {},
   "outputs": [],
   "source": [
    "import math\n",
    "\n",
    "class ProbabilityBasedAgent:\n",
    "    \n",
    "\tdef __init__(self, questions, responses):\n",
    "\t\tself.questions = questions\n",
    "\t\tself.responses = responses\n",
    "\t\tself.question_sets = []\n",
    "\t\tself.vocab = None\n",
    "\n",
    "\tdef get_vocab(self):\n",
    "\t\tvocab = set()\n",
    "\t\tfor question in self.questions:\n",
    "\t\t\tfor word in question.split():\n",
    "\t\t\t\tvocab.add(word)\n",
    "\t\treturn list(vocab)\n",
    "\n",
    "\tdef prob_query_given_sentence(self, query, sentence_lst, alpha=1):\n",
    "\t\tquery_lst = query.split()\n",
    "\t\tmatch = 0\n",
    "\t\t\n",
    "\t\tfor token in query_lst:\n",
    "\t\t\tif token in sentence_lst:\n",
    "\t\t\t\tmatch += 1\n",
    "\t\t\n",
    "\t\t# Apply Laplace smoothing\n",
    "\t\tnumerator = match + alpha\n",
    "\t\tdenominator = len(query_lst) + alpha\n",
    "\t\t\n",
    "\t\tp = numerator / denominator\n",
    "\t\treturn p\n",
    "\n",
    "\tdef train(self):\n",
    "\t\tself.vocab = self.get_vocab()\n",
    "\n",
    "\t\tfor question in self.questions:\n",
    "\t\t\tself.question_sets.append(set(question.split()))\n",
    "\n",
    "\tdef find_closest_answer(self, query, k):\n",
    "\t\t\n",
    "\t\tprobabilities_match = []\n",
    "\t\tfor i in range(len(self.questions)):\n",
    "\t\t\tprob = self.prob_query_given_sentence(query, self.question_sets[i])\n",
    "\t\t\tprobabilities_match.append((prob, self.questions[i], self.responses[i]))\n",
    "\n",
    "\t\tprobabilities_match.sort(reverse=True)\n",
    "\n",
    "\t\treturn probabilities_match[:k]\n",
    "\n",
    "# Constrain size of train data to 20000 cause of compute restriction\t\n",
    "training_questions = list(X_train['description'])[:20000]\n",
    "training_responses = list(y_train)[:20000]\n",
    "\n",
    "# Constrain size of train data to 20000 cause of compute restriction\t\n",
    "training_questions = list(X_train['description'])[:20000]\n",
    "training_responses = list(y_train)[:20000]\n",
    "\n",
    "model = ProbabilityBasedAgent(training_questions, training_responses)\n",
    "model.train()"
   ]
  },
  {
   "cell_type": "code",
   "execution_count": 67,
   "metadata": {},
   "outputs": [
    {
     "name": "stdout",
     "output_type": "stream",
     "text": [
      "The following are some of the closest responses we could find:\n",
      "Probability: 0.2222222222222222\n",
      "Question: zit lower back pain pop stringi blood boxer caus\n",
      "Answer: hello the blood was from the boil boil zit  is highly vascular due to the presence of inflammation \n",
      "\n",
      "Probability: 0.2222222222222222\n",
      "Question: wysolon 20 intak back pain caus side effect\n",
      "Answer: wysolone  prednisone  is a common short term treatment for inflammatory conditions such as a pinched nerve  if your father is otherwise healthy then this should be no problem  there can be an elevation in blood sugar while on the medication  but since it is only a few days  it is usually safe in otherwise relatively healthy people  if it helps  but then wears off fully  then a lumbar epidural steroid nerve block injection may well help \n",
      "\n",
      "Probability: 0.2222222222222222\n",
      "Question: would painless lump back\n",
      "Answer: hi   good evening  i am dr shareef answering your query  although a personal physical examination of the lump would be helpful in reaching a nearby diagnosis  most probably with a history of trauma  it could be an organised hematoma on the left side of your back  to confirm the diagnosis  if i were your doctor  i would go for an fnac  fine needle aspiration cytology  followed possibly by an excision biopsy depending on the report of the fnac   considering the duration of more than 4 years  clinically it might be a benign lesion not to worry about  however  for cosmetic reasons it might be required to be taken out therefore  i would advise you to consult a general surgeon and get your self assessed for the same i hope this information would help you in discussing with your family physician treating doctor in further management of your problem  please do not hesitate to ask in case of any further doubts thanks for choosing health care magic to clear doubts on your health problems  wishing you an early recovery  dr shareef \n",
      "\n"
     ]
    }
   ],
   "source": [
    "user_query = \"I have back pain, what should i do?\"\n",
    "responses = model.find_closest_answer(user_query, 3)\n",
    "\n",
    "print(\"The following are some of the closest responses we could find:\")\n",
    "\n",
    "for sim, q, a in responses:\n",
    "    \n",
    "\tprint(f\"Probability: {sim}\")\n",
    "\tprint(f\"Question: {q}\")\n",
    "\tprint(f\"Answer: {a}\")\n",
    "\tprint()"
   ]
  },
  {
   "cell_type": "markdown",
   "metadata": {},
   "source": [
    "##### Evaluation on the test set"
   ]
  },
  {
   "cell_type": "code",
   "execution_count": 70,
   "metadata": {},
   "outputs": [],
   "source": [
    "# Pick a subsample of 25 for testing due to compute constraints\n",
    "preds = []\n",
    "sample = 25\n",
    "for x in X_test['description'][:sample]:\n",
    "    sim, q, a = model.find_closest_answer(x, 1)[0]\n",
    "    preds.append(a)\n",
    "y = list(y_test[:sample])"
   ]
  },
  {
   "cell_type": "code",
   "execution_count": 71,
   "metadata": {},
   "outputs": [
    {
     "name": "stdout",
     "output_type": "stream",
     "text": [
      "0.3824522036314011\n"
     ]
    }
   ],
   "source": [
    "print(eval_fn(preds, y))"
   ]
  },
  {
   "cell_type": "markdown",
   "metadata": {},
   "source": [
    "##### Evaluation on the train set"
   ]
  },
  {
   "cell_type": "code",
   "execution_count": 74,
   "metadata": {},
   "outputs": [],
   "source": [
    "# Pick a subsample of 25 from training due to compute constraints\n",
    "preds = []\n",
    "sample = 25\n",
    "for x in X_train['description'][:sample]:\n",
    "    sim, q, a = model.find_closest_answer(x, 1)[0]\n",
    "    preds.append(a)\n",
    "y = list(y_train[:sample])"
   ]
  },
  {
   "cell_type": "code",
   "execution_count": 75,
   "metadata": {},
   "outputs": [
    {
     "name": "stdout",
     "output_type": "stream",
     "text": [
      "0.9646251106262207\n"
     ]
    }
   ],
   "source": [
    "print(eval_fn(preds, y))"
   ]
  },
  {
   "cell_type": "markdown",
   "metadata": {},
   "source": [
    "#### Training Model Based On Cosine Similarity"
   ]
  },
  {
   "cell_type": "code",
   "execution_count": 93,
   "metadata": {},
   "outputs": [],
   "source": [
    "import math\n",
    "\n",
    "def cosine_similarity(user, ques):\n",
    "    dot_product = sum(x*y for x, y in zip(user, ques))\n",
    "    magnitude_user = sum(x*x for x in user)**0.5\n",
    "    magnitude_ques = sum(y*y for y in ques)**0.5\n",
    "    return dot_product / (magnitude_user * magnitude_ques)\n",
    "\n",
    "\n",
    "class SimilarityBasedAgent:\n",
    "    \n",
    "\tdef __init__(self, questions, responses):\n",
    "\t\tself.questions = questions\n",
    "\t\tself.responses = responses\n",
    "\t\tself.vocab = None\n",
    "\t\tself.questions_vectors = None\n",
    "\n",
    "\tdef get_vocab(self):\n",
    "\t\tvocab = set()\n",
    "\t\tfor question in self.questions:\n",
    "\t\t\tfor word in question.split():\n",
    "\t\t\t\tvocab.add(word)\n",
    "\t\treturn list(vocab)\n",
    "\t\n",
    "\tdef bag_of_words(self, question):\n",
    "\t\tvec = []\n",
    "\t\tfor token in self.vocab:\n",
    "\t\t\tvec.append(question.count(token))\n",
    "\t\treturn vec\n",
    "\n",
    "\tdef train(self):\n",
    "\t\tself.vocab = self.get_vocab()\n",
    "\t\tvectors = []\n",
    "\t\tfor question in self.questions:\n",
    "\t\t\tvectors.append(self.bag_of_words(question))\n",
    "\t\tself.questions_vectors = vectors\n",
    "\n",
    "\tdef find_closest_answer(self, query, k):\n",
    "\t\tuser_query_vector = self.bag_of_words(query)\n",
    "\t\t\n",
    "\t\tsimilarities = []\n",
    "\t\tfor i in range(len(self.questions)):\n",
    "\t\t\tsim = cosine_similarity(user_query_vector, self.questions_vectors[i])\n",
    "\t\t\tsimilarities.append((sim, self.questions[i], self.responses[i]))\n",
    "\n",
    "\t\tsimilarities.sort(reverse=True)\n",
    "\n",
    "\t\treturn similarities[:k]\n",
    "\n",
    "# Constrain size of train data to 20000 cause of compute restriction\t\n",
    "training_questions = list(X_train['description'])[:20000]\n",
    "training_responses = list(y_train)[:20000]\n",
    "\n",
    "model = SimilarityBasedAgent(training_questions, training_responses)\n",
    "model.train()"
   ]
  },
  {
   "cell_type": "code",
   "execution_count": 94,
   "metadata": {},
   "outputs": [
    {
     "name": "stdout",
     "output_type": "stream",
     "text": [
      "The following are some of the closest responses we could find:\n",
      "Similarity: 0.7211102550927979\n",
      "Question: back pain heal\n",
      "Answer: hi and thanks for the query there are numerous causes of back pain  the treatment depends on the cause  trauma  infection   inflammation and tumors  arthrosis could also cause pain  the treatment could be simple pain killers  anti inflammatory drugs   steroids and at times surgery  i suggest you get a proper review from your doctor for proper blood work up and x rays to detect the exact cause and extent of the illness  kind regards\n",
      "\n",
      "Similarity: 0.7139306476801298\n",
      "Question: tight chest back neck shoulder pain indic\n",
      "Answer: hello thanks for writing to us  i have studied your case with diligence as per your history there is possibility of rib contusion or costochondritis rib contusion is visible on x ray   i will advise to consult to orthopaedic surgeon medication like muscle relaxant and analgesic will reduce pain along with it use rib support belt you may consult physiotherapist for pain management  he may start tens  or ultrasound which is helpful in your case there can be associated inflammatory disease which lead to multi system problem hope this answers your query  if you have additional questions or follow up queries then please do not hesitate in writing to us  i will be happy to answer your queries  if you find this answer helpful do not forget to give rating at end of discussion wishing you good health take care\n",
      "\n",
      "Similarity: 0.7075942729929445\n",
      "Question: caus sharp pain back behind right shoulder blade\n",
      "Answer: hi you have sharp pain in your back starting while you were ironing your hair  in my opinion it is a sudden muscle spasm   maybe triggered by some movement of neck  i suggest you take pain killers   muscle relaxants and hot fomentation   if there is no improvement in 5 days   get x rays of neck \n",
      "\n"
     ]
    }
   ],
   "source": [
    "user_query = \"I have back pain, what should i do?\"\n",
    "responses = model.find_closest_answer(user_query, 3)\n",
    "\n",
    "print(\"The following are some of the closest responses we could find:\")\n",
    "\n",
    "for sim, q, a in responses:\n",
    "    \n",
    "\tprint(f\"Similarity: {sim}\")\n",
    "\tprint(f\"Question: {q}\")\n",
    "\tprint(f\"Answer: {a}\")\n",
    "\tprint()"
   ]
  },
  {
   "cell_type": "markdown",
   "metadata": {},
   "source": [
    "##### Evaluation on the test set"
   ]
  },
  {
   "cell_type": "code",
   "execution_count": 95,
   "metadata": {},
   "outputs": [],
   "source": [
    "# Pick a subsample of 25 for testing due to compute constraints\n",
    "preds = []\n",
    "sample = 25\n",
    "for x in X_test['description'][:sample]:\n",
    "    sim, q, a = model.find_closest_answer(x, 1)[0]\n",
    "    preds.append(a)\n",
    "y = list(y_test[:sample])"
   ]
  },
  {
   "cell_type": "code",
   "execution_count": 106,
   "metadata": {},
   "outputs": [],
   "source": [
    "from sentence_transformers import SentenceTransformer\n",
    "from sklearn.metrics.pairwise import cosine_similarity\n",
    "import numpy as np\n",
    "\n",
    "def eval_fn(preds, y):\n",
    "    model = SentenceTransformer('all-MiniLM-L6-v2')\n",
    "    pred_embeddings = model.encode(preds)\n",
    "    y_embeddings = model.encode(y)\n",
    "    \n",
    "    similarities = []\n",
    "    for pred, ans in zip(pred_embeddings, y_embeddings):\n",
    "        similarities.append(cosine_similarity([pred], [ans])[0][0])\n",
    "    return sum(similarities) / len(similarities)"
   ]
  },
  {
   "cell_type": "code",
   "execution_count": 107,
   "metadata": {},
   "outputs": [
    {
     "name": "stdout",
     "output_type": "stream",
     "text": [
      "0.35789135545492173\n"
     ]
    }
   ],
   "source": [
    "print(eval_fn(preds, y))"
   ]
  },
  {
   "cell_type": "markdown",
   "metadata": {},
   "source": [
    "##### Evaluation on the train set"
   ]
  },
  {
   "cell_type": "code",
   "execution_count": null,
   "metadata": {},
   "outputs": [
    {
     "name": "stdout",
     "output_type": "stream",
     "text": [
      "caus feel full chest throat breath difficulti\n"
     ]
    },
    {
     "ename": "ValueError",
     "evalue": "Expected 2D array, got 1D array instead:\narray=[0. 0. 0. ... 0. 0. 0.].\nReshape your data either using array.reshape(-1, 1) if your data has a single feature or array.reshape(1, -1) if it contains a single sample.",
     "output_type": "error",
     "traceback": [
      "\u001b[0;31m---------------------------------------------------------------------------\u001b[0m",
      "\u001b[0;31mValueError\u001b[0m                                Traceback (most recent call last)",
      "Cell \u001b[0;32mIn[113], line 6\u001b[0m\n\u001b[1;32m      4\u001b[0m \u001b[38;5;28;01mfor\u001b[39;00m x \u001b[38;5;129;01min\u001b[39;00m X_train[\u001b[38;5;124m'\u001b[39m\u001b[38;5;124mdescription\u001b[39m\u001b[38;5;124m'\u001b[39m][:sample]:\n\u001b[1;32m      5\u001b[0m     \u001b[38;5;28mprint\u001b[39m(x)\n\u001b[0;32m----> 6\u001b[0m     \u001b[38;5;28mprint\u001b[39m(\u001b[43mmodel\u001b[49m\u001b[38;5;241;43m.\u001b[39;49m\u001b[43mfind_closest_answer\u001b[49m\u001b[43m(\u001b[49m\u001b[43mx\u001b[49m\u001b[43m,\u001b[49m\u001b[43m \u001b[49m\u001b[38;5;241;43m1\u001b[39;49m\u001b[43m)\u001b[49m[\u001b[38;5;241m0\u001b[39m])\n\u001b[1;32m      7\u001b[0m     sim, q, a \u001b[38;5;241m=\u001b[39m model\u001b[38;5;241m.\u001b[39mfind_closest_answer(x, \u001b[38;5;241m1\u001b[39m)[\u001b[38;5;241m0\u001b[39m]\n\u001b[1;32m      8\u001b[0m     preds\u001b[38;5;241m.\u001b[39mappend(a)\n",
      "Cell \u001b[0;32mIn[93], line 43\u001b[0m, in \u001b[0;36mSimilarityBasedAgent.find_closest_answer\u001b[0;34m(self, query, k)\u001b[0m\n\u001b[1;32m     41\u001b[0m similarities \u001b[38;5;241m=\u001b[39m []\n\u001b[1;32m     42\u001b[0m \u001b[38;5;28;01mfor\u001b[39;00m i \u001b[38;5;129;01min\u001b[39;00m \u001b[38;5;28mrange\u001b[39m(\u001b[38;5;28mlen\u001b[39m(\u001b[38;5;28mself\u001b[39m\u001b[38;5;241m.\u001b[39mquestions)):\n\u001b[0;32m---> 43\u001b[0m \tsim \u001b[38;5;241m=\u001b[39m \u001b[43mcosine_similarity\u001b[49m\u001b[43m(\u001b[49m\u001b[43muser_query_vector\u001b[49m\u001b[43m,\u001b[49m\u001b[43m \u001b[49m\u001b[38;5;28;43mself\u001b[39;49m\u001b[38;5;241;43m.\u001b[39;49m\u001b[43mquestions_vectors\u001b[49m\u001b[43m[\u001b[49m\u001b[43mi\u001b[49m\u001b[43m]\u001b[49m\u001b[43m)\u001b[49m\n\u001b[1;32m     44\u001b[0m \tsimilarities\u001b[38;5;241m.\u001b[39mappend((sim, \u001b[38;5;28mself\u001b[39m\u001b[38;5;241m.\u001b[39mquestions[i], \u001b[38;5;28mself\u001b[39m\u001b[38;5;241m.\u001b[39mresponses[i]))\n\u001b[1;32m     46\u001b[0m similarities\u001b[38;5;241m.\u001b[39msort(reverse\u001b[38;5;241m=\u001b[39m\u001b[38;5;28;01mTrue\u001b[39;00m)\n",
      "File \u001b[0;32m~/anaconda3/envs/cse156/lib/python3.12/site-packages/sklearn/utils/_param_validation.py:213\u001b[0m, in \u001b[0;36mvalidate_params.<locals>.decorator.<locals>.wrapper\u001b[0;34m(*args, **kwargs)\u001b[0m\n\u001b[1;32m    207\u001b[0m \u001b[38;5;28;01mtry\u001b[39;00m:\n\u001b[1;32m    208\u001b[0m     \u001b[38;5;28;01mwith\u001b[39;00m config_context(\n\u001b[1;32m    209\u001b[0m         skip_parameter_validation\u001b[38;5;241m=\u001b[39m(\n\u001b[1;32m    210\u001b[0m             prefer_skip_nested_validation \u001b[38;5;129;01mor\u001b[39;00m global_skip_validation\n\u001b[1;32m    211\u001b[0m         )\n\u001b[1;32m    212\u001b[0m     ):\n\u001b[0;32m--> 213\u001b[0m         \u001b[38;5;28;01mreturn\u001b[39;00m \u001b[43mfunc\u001b[49m\u001b[43m(\u001b[49m\u001b[38;5;241;43m*\u001b[39;49m\u001b[43margs\u001b[49m\u001b[43m,\u001b[49m\u001b[43m \u001b[49m\u001b[38;5;241;43m*\u001b[39;49m\u001b[38;5;241;43m*\u001b[39;49m\u001b[43mkwargs\u001b[49m\u001b[43m)\u001b[49m\n\u001b[1;32m    214\u001b[0m \u001b[38;5;28;01mexcept\u001b[39;00m InvalidParameterError \u001b[38;5;28;01mas\u001b[39;00m e:\n\u001b[1;32m    215\u001b[0m     \u001b[38;5;66;03m# When the function is just a wrapper around an estimator, we allow\u001b[39;00m\n\u001b[1;32m    216\u001b[0m     \u001b[38;5;66;03m# the function to delegate validation to the estimator, but we replace\u001b[39;00m\n\u001b[1;32m    217\u001b[0m     \u001b[38;5;66;03m# the name of the estimator by the name of the function in the error\u001b[39;00m\n\u001b[1;32m    218\u001b[0m     \u001b[38;5;66;03m# message to avoid confusion.\u001b[39;00m\n\u001b[1;32m    219\u001b[0m     msg \u001b[38;5;241m=\u001b[39m re\u001b[38;5;241m.\u001b[39msub(\n\u001b[1;32m    220\u001b[0m         \u001b[38;5;124mr\u001b[39m\u001b[38;5;124m\"\u001b[39m\u001b[38;5;124mparameter of \u001b[39m\u001b[38;5;124m\\\u001b[39m\u001b[38;5;124mw+ must be\u001b[39m\u001b[38;5;124m\"\u001b[39m,\n\u001b[1;32m    221\u001b[0m         \u001b[38;5;124mf\u001b[39m\u001b[38;5;124m\"\u001b[39m\u001b[38;5;124mparameter of \u001b[39m\u001b[38;5;132;01m{\u001b[39;00mfunc\u001b[38;5;241m.\u001b[39m\u001b[38;5;18m__qualname__\u001b[39m\u001b[38;5;132;01m}\u001b[39;00m\u001b[38;5;124m must be\u001b[39m\u001b[38;5;124m\"\u001b[39m,\n\u001b[1;32m    222\u001b[0m         \u001b[38;5;28mstr\u001b[39m(e),\n\u001b[1;32m    223\u001b[0m     )\n",
      "File \u001b[0;32m~/anaconda3/envs/cse156/lib/python3.12/site-packages/sklearn/metrics/pairwise.py:1679\u001b[0m, in \u001b[0;36mcosine_similarity\u001b[0;34m(X, Y, dense_output)\u001b[0m\n\u001b[1;32m   1635\u001b[0m \u001b[38;5;250m\u001b[39m\u001b[38;5;124;03m\"\"\"Compute cosine similarity between samples in X and Y.\u001b[39;00m\n\u001b[1;32m   1636\u001b[0m \n\u001b[1;32m   1637\u001b[0m \u001b[38;5;124;03mCosine similarity, or the cosine kernel, computes similarity as the\u001b[39;00m\n\u001b[0;32m   (...)\u001b[0m\n\u001b[1;32m   1675\u001b[0m \u001b[38;5;124;03m       [0.57..., 0.81...]])\u001b[39;00m\n\u001b[1;32m   1676\u001b[0m \u001b[38;5;124;03m\"\"\"\u001b[39;00m\n\u001b[1;32m   1677\u001b[0m \u001b[38;5;66;03m# to avoid recursive import\u001b[39;00m\n\u001b[0;32m-> 1679\u001b[0m X, Y \u001b[38;5;241m=\u001b[39m \u001b[43mcheck_pairwise_arrays\u001b[49m\u001b[43m(\u001b[49m\u001b[43mX\u001b[49m\u001b[43m,\u001b[49m\u001b[43m \u001b[49m\u001b[43mY\u001b[49m\u001b[43m)\u001b[49m\n\u001b[1;32m   1681\u001b[0m X_normalized \u001b[38;5;241m=\u001b[39m normalize(X, copy\u001b[38;5;241m=\u001b[39m\u001b[38;5;28;01mTrue\u001b[39;00m)\n\u001b[1;32m   1682\u001b[0m \u001b[38;5;28;01mif\u001b[39;00m X \u001b[38;5;129;01mis\u001b[39;00m Y:\n",
      "File \u001b[0;32m~/anaconda3/envs/cse156/lib/python3.12/site-packages/sklearn/metrics/pairwise.py:185\u001b[0m, in \u001b[0;36mcheck_pairwise_arrays\u001b[0;34m(X, Y, precomputed, dtype, accept_sparse, force_all_finite, ensure_2d, copy)\u001b[0m\n\u001b[1;32m    175\u001b[0m     X \u001b[38;5;241m=\u001b[39m Y \u001b[38;5;241m=\u001b[39m check_array(\n\u001b[1;32m    176\u001b[0m         X,\n\u001b[1;32m    177\u001b[0m         accept_sparse\u001b[38;5;241m=\u001b[39maccept_sparse,\n\u001b[0;32m   (...)\u001b[0m\n\u001b[1;32m    182\u001b[0m         ensure_2d\u001b[38;5;241m=\u001b[39mensure_2d,\n\u001b[1;32m    183\u001b[0m     )\n\u001b[1;32m    184\u001b[0m \u001b[38;5;28;01melse\u001b[39;00m:\n\u001b[0;32m--> 185\u001b[0m     X \u001b[38;5;241m=\u001b[39m \u001b[43mcheck_array\u001b[49m\u001b[43m(\u001b[49m\n\u001b[1;32m    186\u001b[0m \u001b[43m        \u001b[49m\u001b[43mX\u001b[49m\u001b[43m,\u001b[49m\n\u001b[1;32m    187\u001b[0m \u001b[43m        \u001b[49m\u001b[43maccept_sparse\u001b[49m\u001b[38;5;241;43m=\u001b[39;49m\u001b[43maccept_sparse\u001b[49m\u001b[43m,\u001b[49m\n\u001b[1;32m    188\u001b[0m \u001b[43m        \u001b[49m\u001b[43mdtype\u001b[49m\u001b[38;5;241;43m=\u001b[39;49m\u001b[43mdtype\u001b[49m\u001b[43m,\u001b[49m\n\u001b[1;32m    189\u001b[0m \u001b[43m        \u001b[49m\u001b[43mcopy\u001b[49m\u001b[38;5;241;43m=\u001b[39;49m\u001b[43mcopy\u001b[49m\u001b[43m,\u001b[49m\n\u001b[1;32m    190\u001b[0m \u001b[43m        \u001b[49m\u001b[43mforce_all_finite\u001b[49m\u001b[38;5;241;43m=\u001b[39;49m\u001b[43mforce_all_finite\u001b[49m\u001b[43m,\u001b[49m\n\u001b[1;32m    191\u001b[0m \u001b[43m        \u001b[49m\u001b[43mestimator\u001b[49m\u001b[38;5;241;43m=\u001b[39;49m\u001b[43mestimator\u001b[49m\u001b[43m,\u001b[49m\n\u001b[1;32m    192\u001b[0m \u001b[43m        \u001b[49m\u001b[43mensure_2d\u001b[49m\u001b[38;5;241;43m=\u001b[39;49m\u001b[43mensure_2d\u001b[49m\u001b[43m,\u001b[49m\n\u001b[1;32m    193\u001b[0m \u001b[43m    \u001b[49m\u001b[43m)\u001b[49m\n\u001b[1;32m    194\u001b[0m     Y \u001b[38;5;241m=\u001b[39m check_array(\n\u001b[1;32m    195\u001b[0m         Y,\n\u001b[1;32m    196\u001b[0m         accept_sparse\u001b[38;5;241m=\u001b[39maccept_sparse,\n\u001b[0;32m   (...)\u001b[0m\n\u001b[1;32m    201\u001b[0m         ensure_2d\u001b[38;5;241m=\u001b[39mensure_2d,\n\u001b[1;32m    202\u001b[0m     )\n\u001b[1;32m    204\u001b[0m \u001b[38;5;28;01mif\u001b[39;00m precomputed:\n",
      "File \u001b[0;32m~/anaconda3/envs/cse156/lib/python3.12/site-packages/sklearn/utils/validation.py:1050\u001b[0m, in \u001b[0;36mcheck_array\u001b[0;34m(array, accept_sparse, accept_large_sparse, dtype, order, copy, force_writeable, force_all_finite, ensure_2d, allow_nd, ensure_min_samples, ensure_min_features, estimator, input_name)\u001b[0m\n\u001b[1;32m   1043\u001b[0m         \u001b[38;5;28;01melse\u001b[39;00m:\n\u001b[1;32m   1044\u001b[0m             msg \u001b[38;5;241m=\u001b[39m (\n\u001b[1;32m   1045\u001b[0m                 \u001b[38;5;124mf\u001b[39m\u001b[38;5;124m\"\u001b[39m\u001b[38;5;124mExpected 2D array, got 1D array instead:\u001b[39m\u001b[38;5;130;01m\\n\u001b[39;00m\u001b[38;5;124marray=\u001b[39m\u001b[38;5;132;01m{\u001b[39;00marray\u001b[38;5;132;01m}\u001b[39;00m\u001b[38;5;124m.\u001b[39m\u001b[38;5;130;01m\\n\u001b[39;00m\u001b[38;5;124m\"\u001b[39m\n\u001b[1;32m   1046\u001b[0m                 \u001b[38;5;124m\"\u001b[39m\u001b[38;5;124mReshape your data either using array.reshape(-1, 1) if \u001b[39m\u001b[38;5;124m\"\u001b[39m\n\u001b[1;32m   1047\u001b[0m                 \u001b[38;5;124m\"\u001b[39m\u001b[38;5;124myour data has a single feature or array.reshape(1, -1) \u001b[39m\u001b[38;5;124m\"\u001b[39m\n\u001b[1;32m   1048\u001b[0m                 \u001b[38;5;124m\"\u001b[39m\u001b[38;5;124mif it contains a single sample.\u001b[39m\u001b[38;5;124m\"\u001b[39m\n\u001b[1;32m   1049\u001b[0m             )\n\u001b[0;32m-> 1050\u001b[0m         \u001b[38;5;28;01mraise\u001b[39;00m \u001b[38;5;167;01mValueError\u001b[39;00m(msg)\n\u001b[1;32m   1052\u001b[0m \u001b[38;5;28;01mif\u001b[39;00m dtype_numeric \u001b[38;5;129;01mand\u001b[39;00m \u001b[38;5;28mhasattr\u001b[39m(array\u001b[38;5;241m.\u001b[39mdtype, \u001b[38;5;124m\"\u001b[39m\u001b[38;5;124mkind\u001b[39m\u001b[38;5;124m\"\u001b[39m) \u001b[38;5;129;01mand\u001b[39;00m array\u001b[38;5;241m.\u001b[39mdtype\u001b[38;5;241m.\u001b[39mkind \u001b[38;5;129;01min\u001b[39;00m \u001b[38;5;124m\"\u001b[39m\u001b[38;5;124mUSV\u001b[39m\u001b[38;5;124m\"\u001b[39m:\n\u001b[1;32m   1053\u001b[0m     \u001b[38;5;28;01mraise\u001b[39;00m \u001b[38;5;167;01mValueError\u001b[39;00m(\n\u001b[1;32m   1054\u001b[0m         \u001b[38;5;124m\"\u001b[39m\u001b[38;5;124mdtype=\u001b[39m\u001b[38;5;124m'\u001b[39m\u001b[38;5;124mnumeric\u001b[39m\u001b[38;5;124m'\u001b[39m\u001b[38;5;124m is not compatible with arrays of bytes/strings.\u001b[39m\u001b[38;5;124m\"\u001b[39m\n\u001b[1;32m   1055\u001b[0m         \u001b[38;5;124m\"\u001b[39m\u001b[38;5;124mConvert your data to numeric values explicitly instead.\u001b[39m\u001b[38;5;124m\"\u001b[39m\n\u001b[1;32m   1056\u001b[0m     )\n",
      "\u001b[0;31mValueError\u001b[0m: Expected 2D array, got 1D array instead:\narray=[0. 0. 0. ... 0. 0. 0.].\nReshape your data either using array.reshape(-1, 1) if your data has a single feature or array.reshape(1, -1) if it contains a single sample."
     ]
    }
   ],
   "source": [
    "# Pick a subsample of 25 from training due to compute constraints\n",
    "preds = []\n",
    "sample = 25\n",
    "for x in X_train['description'][:sample]:\n",
    "    print(x)\n",
    "    print(model.find_closest_answer([x,], 1)[0])\n",
    "    sim, q, a = model.find_closest_answer(x, 1)[0]\n",
    "    preds.append(a)\n",
    "y = list(y_train[:sample])"
   ]
  },
  {
   "cell_type": "code",
   "execution_count": null,
   "metadata": {},
   "outputs": [
    {
     "name": "stdout",
     "output_type": "stream",
     "text": [
      "1.0\n"
     ]
    }
   ],
   "source": [
    "y = y_train[:sample]\n",
    "\n",
    "print(eval_fn(preds, y))"
   ]
  },
  {
   "cell_type": "markdown",
   "metadata": {},
   "source": [
    "### Training model based on Naive Bayes"
   ]
  },
  {
   "cell_type": "code",
   "execution_count": null,
   "metadata": {},
   "outputs": [],
   "source": []
  },
  {
   "cell_type": "code",
   "execution_count": null,
   "metadata": {},
   "outputs": [],
   "source": []
  }
 ],
 "metadata": {
  "kernelspec": {
   "display_name": "cse156",
   "language": "python",
   "name": "python3"
  },
  "language_info": {
   "codemirror_mode": {
    "name": "ipython",
    "version": 3
   },
   "file_extension": ".py",
   "mimetype": "text/x-python",
   "name": "python",
   "nbconvert_exporter": "python",
   "pygments_lexer": "ipython3",
   "version": "3.12.7"
  }
 },
 "nbformat": 4,
 "nbformat_minor": 2
}
