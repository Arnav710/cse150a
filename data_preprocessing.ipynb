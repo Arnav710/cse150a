{
 "cells": [
  {
   "cell_type": "code",
   "execution_count": 2,
   "metadata": {},
   "outputs": [],
   "source": [
    "import pandas as pd\n",
    "\n",
    "import nltk\n",
    "from nltk.corpus import stopwords\n",
    "from nltk.tokenize import word_tokenize\n",
    "\n",
    "SEED = 0\n",
    "pd.set_option('display.max_colwidth', None)\n",
    "#nltk.download('wordnet')"
   ]
  },
  {
   "cell_type": "markdown",
   "metadata": {},
   "source": [
    "## Load and view data"
   ]
  },
  {
   "cell_type": "code",
   "execution_count": 5,
   "metadata": {},
   "outputs": [],
   "source": [
    "path = 'ai-medical-chatbot.csv'\n",
    "df = pd.read_csv(path)"
   ]
  },
  {
   "cell_type": "code",
   "execution_count": 6,
   "metadata": {},
   "outputs": [
    {
     "data": {
      "text/html": [
       "<div>\n",
       "<style scoped>\n",
       "    .dataframe tbody tr th:only-of-type {\n",
       "        vertical-align: middle;\n",
       "    }\n",
       "\n",
       "    .dataframe tbody tr th {\n",
       "        vertical-align: top;\n",
       "    }\n",
       "\n",
       "    .dataframe thead th {\n",
       "        text-align: right;\n",
       "    }\n",
       "</style>\n",
       "<table border=\"1\" class=\"dataframe\">\n",
       "  <thead>\n",
       "    <tr style=\"text-align: right;\">\n",
       "      <th></th>\n",
       "      <th>Description</th>\n",
       "      <th>Patient</th>\n",
       "      <th>Doctor</th>\n",
       "    </tr>\n",
       "  </thead>\n",
       "  <tbody>\n",
       "    <tr>\n",
       "      <th>231878</th>\n",
       "      <td>Suggest treatment for chest infection</td>\n",
       "      <td>Yes, I have had a sinus infection for 2 weeks. My GP prescribed an antibiotic (Azithromycin) and Prednisone. I have finished both but my symptoms have changed and gotten worse. My chest is congested and I am coughing more with greenish mucus. What should I take now?</td>\n",
       "      <td>Thanks for your question on HCM.I can understand your situation and problem.In my opinion you should consult pulmonologist and get done1. Repeat chest x ray2. Sputum culture and sensitivity.You have taken treatment (antibiotics) and still not improving, rather worsening, so we need to rule out worsening of infection by chest x ray.And in pneumonia, we should first identify the causative organism and than guide antibiotic therapy according to sensitivity report. So sputum culture and sensitivity report is needed to titrate antibiotics.Haphazard use of antibiotics should be avoided in pneumonia as it will increase drug resistance and delay the recovery.So consult pulmonologist and start appropriate antibiotics according to sensitivity report.</td>\n",
       "    </tr>\n",
       "    <tr>\n",
       "      <th>63852</th>\n",
       "      <td>What causes pain in groin?</td>\n",
       "      <td>Hello, My husband was complaining earlier of a painful boil in the groin, also he had pain higher up in the groin, away from the boil. He s gone to bed, and was only there 10 mins when he said he felt hot, but was shivering visibly. The feeling of unwell has come on him so quickly, and that s my concern.Can you help?</td>\n",
       "      <td>Hi,It seems that there might be having ingrown hair follicle infection giving rise enalrged inguinal lymph node in the groin.Due to bacterial infection he got shivering, feeling hot and unwell.Go for one antibiotic medicine like Amoxicilin for 3-5 days.Give analgesic like Ibuprofen as needed.Within 2-3 days he will be alright.Ok and take care.</td>\n",
       "    </tr>\n",
       "    <tr>\n",
       "      <th>45614</th>\n",
       "      <td>What causes pain in legs and abdomen?</td>\n",
       "      <td>I just had a baby a month and week ago and I have been having pain in my legs and abdomen. I also have had very thick brown and bloody discharge and when I pull it off I can feel it come out of me it is so thick. And also a increase in headaches. What is wrong with me?</td>\n",
       "      <td>cannot say in your particular case, but generally, continuing pain and discharge a month later is a serious emergency requiring immediate attention.</td>\n",
       "    </tr>\n",
       "    <tr>\n",
       "      <th>157278</th>\n",
       "      <td>What makes an infant to puke after eating and pass fish odor stools?</td>\n",
       "      <td>Hi my son is 14 months and every time he eats food he poops it out within 5-10 mins and his stool has a fishy odor to it. The texture of his stool is liquid and you can still see the food as if it was not digested at all. The color is a grey cloudy color. Is this normal?</td>\n",
       "      <td>Many thanks for consultation.It is not worrisome if he is active and alert.It could be due to tooth eruption and pain.they can get loose stool,vomits and fever due to this.please check for tooth eruption and if new tooth is coming up then buy some custom made toys for teeth eruption.paracetamol syrup for pain and irritation.Lastly if problem persist then visit to your local pediatric physician.</td>\n",
       "    </tr>\n",
       "    <tr>\n",
       "      <th>244134</th>\n",
       "      <td>Suggest treatment for chronic itching with rashes</td>\n",
       "      <td>I am a 66 year old female suffering from a chronic itching with a rash. I have had this condition for approx. 8 weeks. I have tried many OTC remedies including calamine lotion, allegra, etc. I have also tried a 10 day dosage of Predasone 5mg without any relief. I have changed my laundry detergent and also discontinued certain prescription drugs temporarily. Nothing helps.</td>\n",
       "      <td>Hi, It may be lichen simplex chronicus most probably. Consult the dermatologist for the perfect diagnosis and proper treatment. If it is same as I said, I would recommend you to apply steroid cream like Clobetasole Propionate cream. And you should take steroid tablet in a tapering dose. If needed, an intradermal steroid injection may be taken. Take antihistaminics like Desloratadine. Avoid soap bath. Avoid dietary stuff like cows milk, fish, prawns, chicken, eggs, fermented food, nuts, soy products etc. Hope I have answered your query. Let me know if I can assist you further. Take care. Regards, Dr Ilyas Patel, Dermatologist</td>\n",
       "    </tr>\n",
       "  </tbody>\n",
       "</table>\n",
       "</div>"
      ],
      "text/plain": [
       "                                                                 Description  \\\n",
       "231878                                 Suggest treatment for chest infection   \n",
       "63852                                             What causes pain in groin?   \n",
       "45614                                  What causes pain in legs and abdomen?   \n",
       "157278  What makes an infant to puke after eating and pass fish odor stools?   \n",
       "244134                     Suggest treatment for chronic itching with rashes   \n",
       "\n",
       "                                                                                                                                                                                                                                                                                                                                                                                       Patient  \\\n",
       "231878                                                                                                              Yes, I have had a sinus infection for 2 weeks. My GP prescribed an antibiotic (Azithromycin) and Prednisone. I have finished both but my symptoms have changed and gotten worse. My chest is congested and I am coughing more with greenish mucus. What should I take now?   \n",
       "63852                                                           Hello, My husband was complaining earlier of a painful boil in the groin, also he had pain higher up in the groin, away from the boil. He s gone to bed, and was only there 10 mins when he said he felt hot, but was shivering visibly. The feeling of unwell has come on him so quickly, and that s my concern.Can you help?   \n",
       "45614                                                                                                            I just had a baby a month and week ago and I have been having pain in my legs and abdomen. I also have had very thick brown and bloody discharge and when I pull it off I can feel it come out of me it is so thick. And also a increase in headaches. What is wrong with me?   \n",
       "157278                                                                                                         Hi my son is 14 months and every time he eats food he poops it out within 5-10 mins and his stool has a fishy odor to it. The texture of his stool is liquid and you can still see the food as if it was not digested at all. The color is a grey cloudy color. Is this normal?   \n",
       "244134  I am a 66 year old female suffering from a chronic itching with a rash. I have had this condition for approx. 8 weeks. I have tried many OTC remedies including calamine lotion, allegra, etc. I have also tried a 10 day dosage of Predasone 5mg without any relief. I have changed my laundry detergent and also discontinued certain prescription drugs temporarily. Nothing helps.   \n",
       "\n",
       "                                                                                                                                                                                                                                                                                                                                                                                                                                                                                                                                                                                                                                                                                                                                                                                Doctor  \n",
       "231878  Thanks for your question on HCM.I can understand your situation and problem.In my opinion you should consult pulmonologist and get done1. Repeat chest x ray2. Sputum culture and sensitivity.You have taken treatment (antibiotics) and still not improving, rather worsening, so we need to rule out worsening of infection by chest x ray.And in pneumonia, we should first identify the causative organism and than guide antibiotic therapy according to sensitivity report. So sputum culture and sensitivity report is needed to titrate antibiotics.Haphazard use of antibiotics should be avoided in pneumonia as it will increase drug resistance and delay the recovery.So consult pulmonologist and start appropriate antibiotics according to sensitivity report.  \n",
       "63852                                                                                                                                                                                                                                                                                                                                                                                                                        Hi,It seems that there might be having ingrown hair follicle infection giving rise enalrged inguinal lymph node in the groin.Due to bacterial infection he got shivering, feeling hot and unwell.Go for one antibiotic medicine like Amoxicilin for 3-5 days.Give analgesic like Ibuprofen as needed.Within 2-3 days he will be alright.Ok and take care.  \n",
       "45614                                                                                                                                                                                                                                                                                                                                                                                                                                                                                                                                                                                                                             cannot say in your particular case, but generally, continuing pain and discharge a month later is a serious emergency requiring immediate attention.  \n",
       "157278                                                                                                                                                                                                                                                                                                                                                                   Many thanks for consultation.It is not worrisome if he is active and alert.It could be due to tooth eruption and pain.they can get loose stool,vomits and fever due to this.please check for tooth eruption and if new tooth is coming up then buy some custom made toys for teeth eruption.paracetamol syrup for pain and irritation.Lastly if problem persist then visit to your local pediatric physician.  \n",
       "244134                                                                                                                        Hi, It may be lichen simplex chronicus most probably. Consult the dermatologist for the perfect diagnosis and proper treatment. If it is same as I said, I would recommend you to apply steroid cream like Clobetasole Propionate cream. And you should take steroid tablet in a tapering dose. If needed, an intradermal steroid injection may be taken. Take antihistaminics like Desloratadine. Avoid soap bath. Avoid dietary stuff like cows milk, fish, prawns, chicken, eggs, fermented food, nuts, soy products etc. Hope I have answered your query. Let me know if I can assist you further. Take care. Regards, Dr Ilyas Patel, Dermatologist  "
      ]
     },
     "execution_count": 6,
     "metadata": {},
     "output_type": "execute_result"
    }
   ],
   "source": [
    "df.sample(5, random_state=SEED)"
   ]
  },
  {
   "cell_type": "markdown",
   "metadata": {},
   "source": [
    "# Preprocessing"
   ]
  },
  {
   "cell_type": "markdown",
   "metadata": {},
   "source": [
    "#### Renaming columns"
   ]
  },
  {
   "cell_type": "code",
   "execution_count": 7,
   "metadata": {},
   "outputs": [],
   "source": [
    "df = df.rename(columns={'Description': 'description',\n",
    "                        'Patient': 'question',\n",
    "                        'Doctor': 'answer'})"
   ]
  },
  {
   "cell_type": "code",
   "execution_count": 8,
   "metadata": {},
   "outputs": [
    {
     "data": {
      "text/html": [
       "<div>\n",
       "<style scoped>\n",
       "    .dataframe tbody tr th:only-of-type {\n",
       "        vertical-align: middle;\n",
       "    }\n",
       "\n",
       "    .dataframe tbody tr th {\n",
       "        vertical-align: top;\n",
       "    }\n",
       "\n",
       "    .dataframe thead th {\n",
       "        text-align: right;\n",
       "    }\n",
       "</style>\n",
       "<table border=\"1\" class=\"dataframe\">\n",
       "  <thead>\n",
       "    <tr style=\"text-align: right;\">\n",
       "      <th></th>\n",
       "      <th>description</th>\n",
       "      <th>question</th>\n",
       "      <th>answer</th>\n",
       "    </tr>\n",
       "  </thead>\n",
       "  <tbody>\n",
       "    <tr>\n",
       "      <th>231878</th>\n",
       "      <td>Suggest treatment for chest infection</td>\n",
       "      <td>Yes, I have had a sinus infection for 2 weeks. My GP prescribed an antibiotic (Azithromycin) and Prednisone. I have finished both but my symptoms have changed and gotten worse. My chest is congested and I am coughing more with greenish mucus. What should I take now?</td>\n",
       "      <td>Thanks for your question on HCM.I can understand your situation and problem.In my opinion you should consult pulmonologist and get done1. Repeat chest x ray2. Sputum culture and sensitivity.You have taken treatment (antibiotics) and still not improving, rather worsening, so we need to rule out worsening of infection by chest x ray.And in pneumonia, we should first identify the causative organism and than guide antibiotic therapy according to sensitivity report. So sputum culture and sensitivity report is needed to titrate antibiotics.Haphazard use of antibiotics should be avoided in pneumonia as it will increase drug resistance and delay the recovery.So consult pulmonologist and start appropriate antibiotics according to sensitivity report.</td>\n",
       "    </tr>\n",
       "    <tr>\n",
       "      <th>63852</th>\n",
       "      <td>What causes pain in groin?</td>\n",
       "      <td>Hello, My husband was complaining earlier of a painful boil in the groin, also he had pain higher up in the groin, away from the boil. He s gone to bed, and was only there 10 mins when he said he felt hot, but was shivering visibly. The feeling of unwell has come on him so quickly, and that s my concern.Can you help?</td>\n",
       "      <td>Hi,It seems that there might be having ingrown hair follicle infection giving rise enalrged inguinal lymph node in the groin.Due to bacterial infection he got shivering, feeling hot and unwell.Go for one antibiotic medicine like Amoxicilin for 3-5 days.Give analgesic like Ibuprofen as needed.Within 2-3 days he will be alright.Ok and take care.</td>\n",
       "    </tr>\n",
       "    <tr>\n",
       "      <th>45614</th>\n",
       "      <td>What causes pain in legs and abdomen?</td>\n",
       "      <td>I just had a baby a month and week ago and I have been having pain in my legs and abdomen. I also have had very thick brown and bloody discharge and when I pull it off I can feel it come out of me it is so thick. And also a increase in headaches. What is wrong with me?</td>\n",
       "      <td>cannot say in your particular case, but generally, continuing pain and discharge a month later is a serious emergency requiring immediate attention.</td>\n",
       "    </tr>\n",
       "    <tr>\n",
       "      <th>157278</th>\n",
       "      <td>What makes an infant to puke after eating and pass fish odor stools?</td>\n",
       "      <td>Hi my son is 14 months and every time he eats food he poops it out within 5-10 mins and his stool has a fishy odor to it. The texture of his stool is liquid and you can still see the food as if it was not digested at all. The color is a grey cloudy color. Is this normal?</td>\n",
       "      <td>Many thanks for consultation.It is not worrisome if he is active and alert.It could be due to tooth eruption and pain.they can get loose stool,vomits and fever due to this.please check for tooth eruption and if new tooth is coming up then buy some custom made toys for teeth eruption.paracetamol syrup for pain and irritation.Lastly if problem persist then visit to your local pediatric physician.</td>\n",
       "    </tr>\n",
       "    <tr>\n",
       "      <th>244134</th>\n",
       "      <td>Suggest treatment for chronic itching with rashes</td>\n",
       "      <td>I am a 66 year old female suffering from a chronic itching with a rash. I have had this condition for approx. 8 weeks. I have tried many OTC remedies including calamine lotion, allegra, etc. I have also tried a 10 day dosage of Predasone 5mg without any relief. I have changed my laundry detergent and also discontinued certain prescription drugs temporarily. Nothing helps.</td>\n",
       "      <td>Hi, It may be lichen simplex chronicus most probably. Consult the dermatologist for the perfect diagnosis and proper treatment. If it is same as I said, I would recommend you to apply steroid cream like Clobetasole Propionate cream. And you should take steroid tablet in a tapering dose. If needed, an intradermal steroid injection may be taken. Take antihistaminics like Desloratadine. Avoid soap bath. Avoid dietary stuff like cows milk, fish, prawns, chicken, eggs, fermented food, nuts, soy products etc. Hope I have answered your query. Let me know if I can assist you further. Take care. Regards, Dr Ilyas Patel, Dermatologist</td>\n",
       "    </tr>\n",
       "  </tbody>\n",
       "</table>\n",
       "</div>"
      ],
      "text/plain": [
       "                                                                 description  \\\n",
       "231878                                 Suggest treatment for chest infection   \n",
       "63852                                             What causes pain in groin?   \n",
       "45614                                  What causes pain in legs and abdomen?   \n",
       "157278  What makes an infant to puke after eating and pass fish odor stools?   \n",
       "244134                     Suggest treatment for chronic itching with rashes   \n",
       "\n",
       "                                                                                                                                                                                                                                                                                                                                                                                      question  \\\n",
       "231878                                                                                                              Yes, I have had a sinus infection for 2 weeks. My GP prescribed an antibiotic (Azithromycin) and Prednisone. I have finished both but my symptoms have changed and gotten worse. My chest is congested and I am coughing more with greenish mucus. What should I take now?   \n",
       "63852                                                           Hello, My husband was complaining earlier of a painful boil in the groin, also he had pain higher up in the groin, away from the boil. He s gone to bed, and was only there 10 mins when he said he felt hot, but was shivering visibly. The feeling of unwell has come on him so quickly, and that s my concern.Can you help?   \n",
       "45614                                                                                                            I just had a baby a month and week ago and I have been having pain in my legs and abdomen. I also have had very thick brown and bloody discharge and when I pull it off I can feel it come out of me it is so thick. And also a increase in headaches. What is wrong with me?   \n",
       "157278                                                                                                         Hi my son is 14 months and every time he eats food he poops it out within 5-10 mins and his stool has a fishy odor to it. The texture of his stool is liquid and you can still see the food as if it was not digested at all. The color is a grey cloudy color. Is this normal?   \n",
       "244134  I am a 66 year old female suffering from a chronic itching with a rash. I have had this condition for approx. 8 weeks. I have tried many OTC remedies including calamine lotion, allegra, etc. I have also tried a 10 day dosage of Predasone 5mg without any relief. I have changed my laundry detergent and also discontinued certain prescription drugs temporarily. Nothing helps.   \n",
       "\n",
       "                                                                                                                                                                                                                                                                                                                                                                                                                                                                                                                                                                                                                                                                                                                                                                                answer  \n",
       "231878  Thanks for your question on HCM.I can understand your situation and problem.In my opinion you should consult pulmonologist and get done1. Repeat chest x ray2. Sputum culture and sensitivity.You have taken treatment (antibiotics) and still not improving, rather worsening, so we need to rule out worsening of infection by chest x ray.And in pneumonia, we should first identify the causative organism and than guide antibiotic therapy according to sensitivity report. So sputum culture and sensitivity report is needed to titrate antibiotics.Haphazard use of antibiotics should be avoided in pneumonia as it will increase drug resistance and delay the recovery.So consult pulmonologist and start appropriate antibiotics according to sensitivity report.  \n",
       "63852                                                                                                                                                                                                                                                                                                                                                                                                                        Hi,It seems that there might be having ingrown hair follicle infection giving rise enalrged inguinal lymph node in the groin.Due to bacterial infection he got shivering, feeling hot and unwell.Go for one antibiotic medicine like Amoxicilin for 3-5 days.Give analgesic like Ibuprofen as needed.Within 2-3 days he will be alright.Ok and take care.  \n",
       "45614                                                                                                                                                                                                                                                                                                                                                                                                                                                                                                                                                                                                                             cannot say in your particular case, but generally, continuing pain and discharge a month later is a serious emergency requiring immediate attention.  \n",
       "157278                                                                                                                                                                                                                                                                                                                                                                   Many thanks for consultation.It is not worrisome if he is active and alert.It could be due to tooth eruption and pain.they can get loose stool,vomits and fever due to this.please check for tooth eruption and if new tooth is coming up then buy some custom made toys for teeth eruption.paracetamol syrup for pain and irritation.Lastly if problem persist then visit to your local pediatric physician.  \n",
       "244134                                                                                                                        Hi, It may be lichen simplex chronicus most probably. Consult the dermatologist for the perfect diagnosis and proper treatment. If it is same as I said, I would recommend you to apply steroid cream like Clobetasole Propionate cream. And you should take steroid tablet in a tapering dose. If needed, an intradermal steroid injection may be taken. Take antihistaminics like Desloratadine. Avoid soap bath. Avoid dietary stuff like cows milk, fish, prawns, chicken, eggs, fermented food, nuts, soy products etc. Hope I have answered your query. Let me know if I can assist you further. Take care. Regards, Dr Ilyas Patel, Dermatologist  "
      ]
     },
     "execution_count": 8,
     "metadata": {},
     "output_type": "execute_result"
    }
   ],
   "source": [
    "df.sample(5, random_state=SEED)"
   ]
  },
  {
   "cell_type": "markdown",
   "metadata": {},
   "source": [
    "#### Converting the Descriptions, Questions, and Answers to lowercase"
   ]
  },
  {
   "cell_type": "code",
   "execution_count": 9,
   "metadata": {},
   "outputs": [],
   "source": [
    "def to_lowercase(df: pd.DataFrame, cols) -> pd.DataFrame:\n",
    "    for col in cols:\n",
    "        df[col] = df[col].str.lower()\n",
    "    return df\n",
    "    \n",
    "df = to_lowercase(df, df.columns)"
   ]
  },
  {
   "cell_type": "code",
   "execution_count": 10,
   "metadata": {},
   "outputs": [
    {
     "data": {
      "text/html": [
       "<div>\n",
       "<style scoped>\n",
       "    .dataframe tbody tr th:only-of-type {\n",
       "        vertical-align: middle;\n",
       "    }\n",
       "\n",
       "    .dataframe tbody tr th {\n",
       "        vertical-align: top;\n",
       "    }\n",
       "\n",
       "    .dataframe thead th {\n",
       "        text-align: right;\n",
       "    }\n",
       "</style>\n",
       "<table border=\"1\" class=\"dataframe\">\n",
       "  <thead>\n",
       "    <tr style=\"text-align: right;\">\n",
       "      <th></th>\n",
       "      <th>description</th>\n",
       "      <th>question</th>\n",
       "      <th>answer</th>\n",
       "    </tr>\n",
       "  </thead>\n",
       "  <tbody>\n",
       "    <tr>\n",
       "      <th>231878</th>\n",
       "      <td>suggest treatment for chest infection</td>\n",
       "      <td>yes, i have had a sinus infection for 2 weeks. my gp prescribed an antibiotic (azithromycin) and prednisone. i have finished both but my symptoms have changed and gotten worse. my chest is congested and i am coughing more with greenish mucus. what should i take now?</td>\n",
       "      <td>thanks for your question on hcm.i can understand your situation and problem.in my opinion you should consult pulmonologist and get done1. repeat chest x ray2. sputum culture and sensitivity.you have taken treatment (antibiotics) and still not improving, rather worsening, so we need to rule out worsening of infection by chest x ray.and in pneumonia, we should first identify the causative organism and than guide antibiotic therapy according to sensitivity report. so sputum culture and sensitivity report is needed to titrate antibiotics.haphazard use of antibiotics should be avoided in pneumonia as it will increase drug resistance and delay the recovery.so consult pulmonologist and start appropriate antibiotics according to sensitivity report.</td>\n",
       "    </tr>\n",
       "    <tr>\n",
       "      <th>63852</th>\n",
       "      <td>what causes pain in groin?</td>\n",
       "      <td>hello, my husband was complaining earlier of a painful boil in the groin, also he had pain higher up in the groin, away from the boil. he s gone to bed, and was only there 10 mins when he said he felt hot, but was shivering visibly. the feeling of unwell has come on him so quickly, and that s my concern.can you help?</td>\n",
       "      <td>hi,it seems that there might be having ingrown hair follicle infection giving rise enalrged inguinal lymph node in the groin.due to bacterial infection he got shivering, feeling hot and unwell.go for one antibiotic medicine like amoxicilin for 3-5 days.give analgesic like ibuprofen as needed.within 2-3 days he will be alright.ok and take care.</td>\n",
       "    </tr>\n",
       "    <tr>\n",
       "      <th>45614</th>\n",
       "      <td>what causes pain in legs and abdomen?</td>\n",
       "      <td>i just had a baby a month and week ago and i have been having pain in my legs and abdomen. i also have had very thick brown and bloody discharge and when i pull it off i can feel it come out of me it is so thick. and also a increase in headaches. what is wrong with me?</td>\n",
       "      <td>cannot say in your particular case, but generally, continuing pain and discharge a month later is a serious emergency requiring immediate attention.</td>\n",
       "    </tr>\n",
       "    <tr>\n",
       "      <th>157278</th>\n",
       "      <td>what makes an infant to puke after eating and pass fish odor stools?</td>\n",
       "      <td>hi my son is 14 months and every time he eats food he poops it out within 5-10 mins and his stool has a fishy odor to it. the texture of his stool is liquid and you can still see the food as if it was not digested at all. the color is a grey cloudy color. is this normal?</td>\n",
       "      <td>many thanks for consultation.it is not worrisome if he is active and alert.it could be due to tooth eruption and pain.they can get loose stool,vomits and fever due to this.please check for tooth eruption and if new tooth is coming up then buy some custom made toys for teeth eruption.paracetamol syrup for pain and irritation.lastly if problem persist then visit to your local pediatric physician.</td>\n",
       "    </tr>\n",
       "    <tr>\n",
       "      <th>244134</th>\n",
       "      <td>suggest treatment for chronic itching with rashes</td>\n",
       "      <td>i am a 66 year old female suffering from a chronic itching with a rash. i have had this condition for approx. 8 weeks. i have tried many otc remedies including calamine lotion, allegra, etc. i have also tried a 10 day dosage of predasone 5mg without any relief. i have changed my laundry detergent and also discontinued certain prescription drugs temporarily. nothing helps.</td>\n",
       "      <td>hi, it may be lichen simplex chronicus most probably. consult the dermatologist for the perfect diagnosis and proper treatment. if it is same as i said, i would recommend you to apply steroid cream like clobetasole propionate cream. and you should take steroid tablet in a tapering dose. if needed, an intradermal steroid injection may be taken. take antihistaminics like desloratadine. avoid soap bath. avoid dietary stuff like cows milk, fish, prawns, chicken, eggs, fermented food, nuts, soy products etc. hope i have answered your query. let me know if i can assist you further. take care. regards, dr ilyas patel, dermatologist</td>\n",
       "    </tr>\n",
       "  </tbody>\n",
       "</table>\n",
       "</div>"
      ],
      "text/plain": [
       "                                                                 description  \\\n",
       "231878                                 suggest treatment for chest infection   \n",
       "63852                                             what causes pain in groin?   \n",
       "45614                                  what causes pain in legs and abdomen?   \n",
       "157278  what makes an infant to puke after eating and pass fish odor stools?   \n",
       "244134                     suggest treatment for chronic itching with rashes   \n",
       "\n",
       "                                                                                                                                                                                                                                                                                                                                                                                      question  \\\n",
       "231878                                                                                                              yes, i have had a sinus infection for 2 weeks. my gp prescribed an antibiotic (azithromycin) and prednisone. i have finished both but my symptoms have changed and gotten worse. my chest is congested and i am coughing more with greenish mucus. what should i take now?   \n",
       "63852                                                           hello, my husband was complaining earlier of a painful boil in the groin, also he had pain higher up in the groin, away from the boil. he s gone to bed, and was only there 10 mins when he said he felt hot, but was shivering visibly. the feeling of unwell has come on him so quickly, and that s my concern.can you help?   \n",
       "45614                                                                                                            i just had a baby a month and week ago and i have been having pain in my legs and abdomen. i also have had very thick brown and bloody discharge and when i pull it off i can feel it come out of me it is so thick. and also a increase in headaches. what is wrong with me?   \n",
       "157278                                                                                                         hi my son is 14 months and every time he eats food he poops it out within 5-10 mins and his stool has a fishy odor to it. the texture of his stool is liquid and you can still see the food as if it was not digested at all. the color is a grey cloudy color. is this normal?   \n",
       "244134  i am a 66 year old female suffering from a chronic itching with a rash. i have had this condition for approx. 8 weeks. i have tried many otc remedies including calamine lotion, allegra, etc. i have also tried a 10 day dosage of predasone 5mg without any relief. i have changed my laundry detergent and also discontinued certain prescription drugs temporarily. nothing helps.   \n",
       "\n",
       "                                                                                                                                                                                                                                                                                                                                                                                                                                                                                                                                                                                                                                                                                                                                                                                answer  \n",
       "231878  thanks for your question on hcm.i can understand your situation and problem.in my opinion you should consult pulmonologist and get done1. repeat chest x ray2. sputum culture and sensitivity.you have taken treatment (antibiotics) and still not improving, rather worsening, so we need to rule out worsening of infection by chest x ray.and in pneumonia, we should first identify the causative organism and than guide antibiotic therapy according to sensitivity report. so sputum culture and sensitivity report is needed to titrate antibiotics.haphazard use of antibiotics should be avoided in pneumonia as it will increase drug resistance and delay the recovery.so consult pulmonologist and start appropriate antibiotics according to sensitivity report.  \n",
       "63852                                                                                                                                                                                                                                                                                                                                                                                                                        hi,it seems that there might be having ingrown hair follicle infection giving rise enalrged inguinal lymph node in the groin.due to bacterial infection he got shivering, feeling hot and unwell.go for one antibiotic medicine like amoxicilin for 3-5 days.give analgesic like ibuprofen as needed.within 2-3 days he will be alright.ok and take care.  \n",
       "45614                                                                                                                                                                                                                                                                                                                                                                                                                                                                                                                                                                                                                             cannot say in your particular case, but generally, continuing pain and discharge a month later is a serious emergency requiring immediate attention.  \n",
       "157278                                                                                                                                                                                                                                                                                                                                                                   many thanks for consultation.it is not worrisome if he is active and alert.it could be due to tooth eruption and pain.they can get loose stool,vomits and fever due to this.please check for tooth eruption and if new tooth is coming up then buy some custom made toys for teeth eruption.paracetamol syrup for pain and irritation.lastly if problem persist then visit to your local pediatric physician.  \n",
       "244134                                                                                                                        hi, it may be lichen simplex chronicus most probably. consult the dermatologist for the perfect diagnosis and proper treatment. if it is same as i said, i would recommend you to apply steroid cream like clobetasole propionate cream. and you should take steroid tablet in a tapering dose. if needed, an intradermal steroid injection may be taken. take antihistaminics like desloratadine. avoid soap bath. avoid dietary stuff like cows milk, fish, prawns, chicken, eggs, fermented food, nuts, soy products etc. hope i have answered your query. let me know if i can assist you further. take care. regards, dr ilyas patel, dermatologist  "
      ]
     },
     "execution_count": 10,
     "metadata": {},
     "output_type": "execute_result"
    }
   ],
   "source": [
    "df.sample(5, random_state=SEED)"
   ]
  },
  {
   "cell_type": "markdown",
   "metadata": {},
   "source": [
    "#### Remove symbols and special characters from text"
   ]
  },
  {
   "cell_type": "code",
   "execution_count": 11,
   "metadata": {},
   "outputs": [],
   "source": [
    "import re\n",
    "def remove_non_alphanumeric(df: pd.DataFrame, cols) -> pd.DataFrame:\n",
    "    \n",
    "\tfor index, row in df.iterrows():\n",
    "\t\tfor col in cols:\n",
    "\t\t\tdf.at[index, col] = re.sub(r'[^\\w]', ' ', df.at[index, col])\n",
    "\n",
    "\treturn df\n",
    "    \n",
    "df = remove_non_alphanumeric(df, df.columns)"
   ]
  },
  {
   "cell_type": "code",
   "execution_count": 12,
   "metadata": {},
   "outputs": [
    {
     "data": {
      "text/html": [
       "<div>\n",
       "<style scoped>\n",
       "    .dataframe tbody tr th:only-of-type {\n",
       "        vertical-align: middle;\n",
       "    }\n",
       "\n",
       "    .dataframe tbody tr th {\n",
       "        vertical-align: top;\n",
       "    }\n",
       "\n",
       "    .dataframe thead th {\n",
       "        text-align: right;\n",
       "    }\n",
       "</style>\n",
       "<table border=\"1\" class=\"dataframe\">\n",
       "  <thead>\n",
       "    <tr style=\"text-align: right;\">\n",
       "      <th></th>\n",
       "      <th>description</th>\n",
       "      <th>question</th>\n",
       "      <th>answer</th>\n",
       "    </tr>\n",
       "  </thead>\n",
       "  <tbody>\n",
       "    <tr>\n",
       "      <th>231878</th>\n",
       "      <td>suggest treatment for chest infection</td>\n",
       "      <td>yes  i have had a sinus infection for 2 weeks  my gp prescribed an antibiotic  azithromycin  and prednisone  i have finished both but my symptoms have changed and gotten worse  my chest is congested and i am coughing more with greenish mucus  what should i take now</td>\n",
       "      <td>thanks for your question on hcm i can understand your situation and problem in my opinion you should consult pulmonologist and get done1  repeat chest x ray2  sputum culture and sensitivity you have taken treatment  antibiotics  and still not improving  rather worsening  so we need to rule out worsening of infection by chest x ray and in pneumonia  we should first identify the causative organism and than guide antibiotic therapy according to sensitivity report  so sputum culture and sensitivity report is needed to titrate antibiotics haphazard use of antibiotics should be avoided in pneumonia as it will increase drug resistance and delay the recovery so consult pulmonologist and start appropriate antibiotics according to sensitivity report</td>\n",
       "    </tr>\n",
       "    <tr>\n",
       "      <th>63852</th>\n",
       "      <td>what causes pain in groin</td>\n",
       "      <td>hello  my husband was complaining earlier of a painful boil in the groin  also he had pain higher up in the groin  away from the boil  he s gone to bed  and was only there 10 mins when he said he felt hot  but was shivering visibly  the feeling of unwell has come on him so quickly  and that s my concern can you help</td>\n",
       "      <td>hi it seems that there might be having ingrown hair follicle infection giving rise enalrged inguinal lymph node in the groin due to bacterial infection he got shivering  feeling hot and unwell go for one antibiotic medicine like amoxicilin for 3 5 days give analgesic like ibuprofen as needed within 2 3 days he will be alright ok and take care</td>\n",
       "    </tr>\n",
       "    <tr>\n",
       "      <th>45614</th>\n",
       "      <td>what causes pain in legs and abdomen</td>\n",
       "      <td>i just had a baby a month and week ago and i have been having pain in my legs and abdomen  i also have had very thick brown and bloody discharge and when i pull it off i can feel it come out of me it is so thick  and also a increase in headaches  what is wrong with me</td>\n",
       "      <td>cannot say in your particular case  but generally  continuing pain and discharge a month later is a serious emergency requiring immediate attention</td>\n",
       "    </tr>\n",
       "    <tr>\n",
       "      <th>157278</th>\n",
       "      <td>what makes an infant to puke after eating and pass fish odor stools</td>\n",
       "      <td>hi my son is 14 months and every time he eats food he poops it out within 5 10 mins and his stool has a fishy odor to it  the texture of his stool is liquid and you can still see the food as if it was not digested at all  the color is a grey cloudy color  is this normal</td>\n",
       "      <td>many thanks for consultation it is not worrisome if he is active and alert it could be due to tooth eruption and pain they can get loose stool vomits and fever due to this please check for tooth eruption and if new tooth is coming up then buy some custom made toys for teeth eruption paracetamol syrup for pain and irritation lastly if problem persist then visit to your local pediatric physician</td>\n",
       "    </tr>\n",
       "    <tr>\n",
       "      <th>244134</th>\n",
       "      <td>suggest treatment for chronic itching with rashes</td>\n",
       "      <td>i am a 66 year old female suffering from a chronic itching with a rash  i have had this condition for approx  8 weeks  i have tried many otc remedies including calamine lotion  allegra  etc  i have also tried a 10 day dosage of predasone 5mg without any relief  i have changed my laundry detergent and also discontinued certain prescription drugs temporarily  nothing helps</td>\n",
       "      <td>hi  it may be lichen simplex chronicus most probably  consult the dermatologist for the perfect diagnosis and proper treatment  if it is same as i said  i would recommend you to apply steroid cream like clobetasole propionate cream  and you should take steroid tablet in a tapering dose  if needed  an intradermal steroid injection may be taken  take antihistaminics like desloratadine  avoid soap bath  avoid dietary stuff like cows milk  fish  prawns  chicken  eggs  fermented food  nuts  soy products etc  hope i have answered your query  let me know if i can assist you further  take care  regards  dr ilyas patel  dermatologist</td>\n",
       "    </tr>\n",
       "  </tbody>\n",
       "</table>\n",
       "</div>"
      ],
      "text/plain": [
       "                                                                 description  \\\n",
       "231878                                 suggest treatment for chest infection   \n",
       "63852                                             what causes pain in groin    \n",
       "45614                                  what causes pain in legs and abdomen    \n",
       "157278  what makes an infant to puke after eating and pass fish odor stools    \n",
       "244134                     suggest treatment for chronic itching with rashes   \n",
       "\n",
       "                                                                                                                                                                                                                                                                                                                                                                                      question  \\\n",
       "231878                                                                                                              yes  i have had a sinus infection for 2 weeks  my gp prescribed an antibiotic  azithromycin  and prednisone  i have finished both but my symptoms have changed and gotten worse  my chest is congested and i am coughing more with greenish mucus  what should i take now    \n",
       "63852                                                           hello  my husband was complaining earlier of a painful boil in the groin  also he had pain higher up in the groin  away from the boil  he s gone to bed  and was only there 10 mins when he said he felt hot  but was shivering visibly  the feeling of unwell has come on him so quickly  and that s my concern can you help    \n",
       "45614                                                                                                            i just had a baby a month and week ago and i have been having pain in my legs and abdomen  i also have had very thick brown and bloody discharge and when i pull it off i can feel it come out of me it is so thick  and also a increase in headaches  what is wrong with me    \n",
       "157278                                                                                                         hi my son is 14 months and every time he eats food he poops it out within 5 10 mins and his stool has a fishy odor to it  the texture of his stool is liquid and you can still see the food as if it was not digested at all  the color is a grey cloudy color  is this normal    \n",
       "244134  i am a 66 year old female suffering from a chronic itching with a rash  i have had this condition for approx  8 weeks  i have tried many otc remedies including calamine lotion  allegra  etc  i have also tried a 10 day dosage of predasone 5mg without any relief  i have changed my laundry detergent and also discontinued certain prescription drugs temporarily  nothing helps    \n",
       "\n",
       "                                                                                                                                                                                                                                                                                                                                                                                                                                                                                                                                                                                                                                                                                                                                                                                answer  \n",
       "231878  thanks for your question on hcm i can understand your situation and problem in my opinion you should consult pulmonologist and get done1  repeat chest x ray2  sputum culture and sensitivity you have taken treatment  antibiotics  and still not improving  rather worsening  so we need to rule out worsening of infection by chest x ray and in pneumonia  we should first identify the causative organism and than guide antibiotic therapy according to sensitivity report  so sputum culture and sensitivity report is needed to titrate antibiotics haphazard use of antibiotics should be avoided in pneumonia as it will increase drug resistance and delay the recovery so consult pulmonologist and start appropriate antibiotics according to sensitivity report   \n",
       "63852                                                                                                                                                                                                                                                                                                                                                                                                                        hi it seems that there might be having ingrown hair follicle infection giving rise enalrged inguinal lymph node in the groin due to bacterial infection he got shivering  feeling hot and unwell go for one antibiotic medicine like amoxicilin for 3 5 days give analgesic like ibuprofen as needed within 2 3 days he will be alright ok and take care   \n",
       "45614                                                                                                                                                                                                                                                                                                                                                                                                                                                                                                                                                                                                                             cannot say in your particular case  but generally  continuing pain and discharge a month later is a serious emergency requiring immediate attention   \n",
       "157278                                                                                                                                                                                                                                                                                                                                                                   many thanks for consultation it is not worrisome if he is active and alert it could be due to tooth eruption and pain they can get loose stool vomits and fever due to this please check for tooth eruption and if new tooth is coming up then buy some custom made toys for teeth eruption paracetamol syrup for pain and irritation lastly if problem persist then visit to your local pediatric physician   \n",
       "244134                                                                                                                        hi  it may be lichen simplex chronicus most probably  consult the dermatologist for the perfect diagnosis and proper treatment  if it is same as i said  i would recommend you to apply steroid cream like clobetasole propionate cream  and you should take steroid tablet in a tapering dose  if needed  an intradermal steroid injection may be taken  take antihistaminics like desloratadine  avoid soap bath  avoid dietary stuff like cows milk  fish  prawns  chicken  eggs  fermented food  nuts  soy products etc  hope i have answered your query  let me know if i can assist you further  take care  regards  dr ilyas patel  dermatologist  "
      ]
     },
     "execution_count": 12,
     "metadata": {},
     "output_type": "execute_result"
    }
   ],
   "source": [
    "df.sample(5, random_state=SEED)"
   ]
  },
  {
   "cell_type": "markdown",
   "metadata": {},
   "source": [
    "#### Removing stopwords"
   ]
  },
  {
   "cell_type": "code",
   "execution_count": 16,
   "metadata": {},
   "outputs": [
    {
     "ename": "LookupError",
     "evalue": "\n**********************************************************************\n  Resource \u001b[93mstopwords\u001b[0m not found.\n  Please use the NLTK Downloader to obtain the resource:\n\n  \u001b[31m>>> import nltk\n  >>> nltk.download('stopwords')\n  \u001b[0m\n  For more information see: https://www.nltk.org/data.html\n\n  Attempted to load \u001b[93mcorpora/stopwords\u001b[0m\n\n  Searched in:\n    - 'C:\\\\Users\\\\jgu04/nltk_data'\n    - 'c:\\\\Users\\\\jgu04\\\\anaconda3\\\\nltk_data'\n    - 'c:\\\\Users\\\\jgu04\\\\anaconda3\\\\share\\\\nltk_data'\n    - 'c:\\\\Users\\\\jgu04\\\\anaconda3\\\\lib\\\\nltk_data'\n    - 'C:\\\\Users\\\\jgu04\\\\AppData\\\\Roaming\\\\nltk_data'\n    - 'C:\\\\nltk_data'\n    - 'D:\\\\nltk_data'\n    - 'E:\\\\nltk_data'\n**********************************************************************\n",
     "output_type": "error",
     "traceback": [
      "\u001b[1;31m---------------------------------------------------------------------------\u001b[0m",
      "\u001b[1;31mLookupError\u001b[0m                               Traceback (most recent call last)",
      "File \u001b[1;32mc:\\Users\\jgu04\\anaconda3\\Lib\\site-packages\\nltk\\corpus\\util.py:84\u001b[0m, in \u001b[0;36mLazyCorpusLoader.__load\u001b[1;34m(self)\u001b[0m\n\u001b[0;32m     83\u001b[0m \u001b[38;5;28;01mtry\u001b[39;00m:\n\u001b[1;32m---> 84\u001b[0m     root \u001b[38;5;241m=\u001b[39m nltk\u001b[38;5;241m.\u001b[39mdata\u001b[38;5;241m.\u001b[39mfind(\u001b[38;5;124mf\u001b[39m\u001b[38;5;124m\"\u001b[39m\u001b[38;5;132;01m{\u001b[39;00m\u001b[38;5;28mself\u001b[39m\u001b[38;5;241m.\u001b[39msubdir\u001b[38;5;132;01m}\u001b[39;00m\u001b[38;5;124m/\u001b[39m\u001b[38;5;132;01m{\u001b[39;00mzip_name\u001b[38;5;132;01m}\u001b[39;00m\u001b[38;5;124m\"\u001b[39m)\n\u001b[0;32m     85\u001b[0m \u001b[38;5;28;01mexcept\u001b[39;00m \u001b[38;5;167;01mLookupError\u001b[39;00m:\n",
      "File \u001b[1;32mc:\\Users\\jgu04\\anaconda3\\Lib\\site-packages\\nltk\\data.py:583\u001b[0m, in \u001b[0;36mfind\u001b[1;34m(resource_name, paths)\u001b[0m\n\u001b[0;32m    582\u001b[0m resource_not_found \u001b[38;5;241m=\u001b[39m \u001b[38;5;124mf\u001b[39m\u001b[38;5;124m\"\u001b[39m\u001b[38;5;130;01m\\n\u001b[39;00m\u001b[38;5;132;01m{\u001b[39;00msep\u001b[38;5;132;01m}\u001b[39;00m\u001b[38;5;130;01m\\n\u001b[39;00m\u001b[38;5;132;01m{\u001b[39;00mmsg\u001b[38;5;132;01m}\u001b[39;00m\u001b[38;5;130;01m\\n\u001b[39;00m\u001b[38;5;132;01m{\u001b[39;00msep\u001b[38;5;132;01m}\u001b[39;00m\u001b[38;5;130;01m\\n\u001b[39;00m\u001b[38;5;124m\"\u001b[39m\n\u001b[1;32m--> 583\u001b[0m \u001b[38;5;28;01mraise\u001b[39;00m \u001b[38;5;167;01mLookupError\u001b[39;00m(resource_not_found)\n",
      "\u001b[1;31mLookupError\u001b[0m: \n**********************************************************************\n  Resource \u001b[93mstopwords\u001b[0m not found.\n  Please use the NLTK Downloader to obtain the resource:\n\n  \u001b[31m>>> import nltk\n  >>> nltk.download('stopwords')\n  \u001b[0m\n  For more information see: https://www.nltk.org/data.html\n\n  Attempted to load \u001b[93mcorpora/stopwords.zip/stopwords/\u001b[0m\n\n  Searched in:\n    - 'C:\\\\Users\\\\jgu04/nltk_data'\n    - 'c:\\\\Users\\\\jgu04\\\\anaconda3\\\\nltk_data'\n    - 'c:\\\\Users\\\\jgu04\\\\anaconda3\\\\share\\\\nltk_data'\n    - 'c:\\\\Users\\\\jgu04\\\\anaconda3\\\\lib\\\\nltk_data'\n    - 'C:\\\\Users\\\\jgu04\\\\AppData\\\\Roaming\\\\nltk_data'\n    - 'C:\\\\nltk_data'\n    - 'D:\\\\nltk_data'\n    - 'E:\\\\nltk_data'\n**********************************************************************\n",
      "\nDuring handling of the above exception, another exception occurred:\n",
      "\u001b[1;31mLookupError\u001b[0m                               Traceback (most recent call last)",
      "Cell \u001b[1;32mIn[16], line 1\u001b[0m\n\u001b[1;32m----> 1\u001b[0m stop_words \u001b[38;5;241m=\u001b[39m \u001b[38;5;28mset\u001b[39m(stopwords\u001b[38;5;241m.\u001b[39mwords(\u001b[38;5;124m'\u001b[39m\u001b[38;5;124menglish\u001b[39m\u001b[38;5;124m'\u001b[39m))\n\u001b[0;32m      3\u001b[0m \u001b[38;5;66;03m# View some samples of stopwords to see what they look like\u001b[39;00m\n\u001b[0;32m      4\u001b[0m \u001b[38;5;28mprint\u001b[39m(\u001b[38;5;28mlist\u001b[39m(stop_words)[::\u001b[38;5;241m12\u001b[39m])\n",
      "File \u001b[1;32mc:\\Users\\jgu04\\anaconda3\\Lib\\site-packages\\nltk\\corpus\\util.py:121\u001b[0m, in \u001b[0;36mLazyCorpusLoader.__getattr__\u001b[1;34m(self, attr)\u001b[0m\n\u001b[0;32m    118\u001b[0m \u001b[38;5;28;01mif\u001b[39;00m attr \u001b[38;5;241m==\u001b[39m \u001b[38;5;124m\"\u001b[39m\u001b[38;5;124m__bases__\u001b[39m\u001b[38;5;124m\"\u001b[39m:\n\u001b[0;32m    119\u001b[0m     \u001b[38;5;28;01mraise\u001b[39;00m \u001b[38;5;167;01mAttributeError\u001b[39;00m(\u001b[38;5;124m\"\u001b[39m\u001b[38;5;124mLazyCorpusLoader object has no attribute \u001b[39m\u001b[38;5;124m'\u001b[39m\u001b[38;5;124m__bases__\u001b[39m\u001b[38;5;124m'\u001b[39m\u001b[38;5;124m\"\u001b[39m)\n\u001b[1;32m--> 121\u001b[0m \u001b[38;5;28mself\u001b[39m\u001b[38;5;241m.\u001b[39m__load()\n\u001b[0;32m    122\u001b[0m \u001b[38;5;66;03m# This looks circular, but its not, since __load() changes our\u001b[39;00m\n\u001b[0;32m    123\u001b[0m \u001b[38;5;66;03m# __class__ to something new:\u001b[39;00m\n\u001b[0;32m    124\u001b[0m \u001b[38;5;28;01mreturn\u001b[39;00m \u001b[38;5;28mgetattr\u001b[39m(\u001b[38;5;28mself\u001b[39m, attr)\n",
      "File \u001b[1;32mc:\\Users\\jgu04\\anaconda3\\Lib\\site-packages\\nltk\\corpus\\util.py:86\u001b[0m, in \u001b[0;36mLazyCorpusLoader.__load\u001b[1;34m(self)\u001b[0m\n\u001b[0;32m     84\u001b[0m             root \u001b[38;5;241m=\u001b[39m nltk\u001b[38;5;241m.\u001b[39mdata\u001b[38;5;241m.\u001b[39mfind(\u001b[38;5;124mf\u001b[39m\u001b[38;5;124m\"\u001b[39m\u001b[38;5;132;01m{\u001b[39;00m\u001b[38;5;28mself\u001b[39m\u001b[38;5;241m.\u001b[39msubdir\u001b[38;5;132;01m}\u001b[39;00m\u001b[38;5;124m/\u001b[39m\u001b[38;5;132;01m{\u001b[39;00mzip_name\u001b[38;5;132;01m}\u001b[39;00m\u001b[38;5;124m\"\u001b[39m)\n\u001b[0;32m     85\u001b[0m         \u001b[38;5;28;01mexcept\u001b[39;00m \u001b[38;5;167;01mLookupError\u001b[39;00m:\n\u001b[1;32m---> 86\u001b[0m             \u001b[38;5;28;01mraise\u001b[39;00m e\n\u001b[0;32m     88\u001b[0m \u001b[38;5;66;03m# Load the corpus.\u001b[39;00m\n\u001b[0;32m     89\u001b[0m corpus \u001b[38;5;241m=\u001b[39m \u001b[38;5;28mself\u001b[39m\u001b[38;5;241m.\u001b[39m__reader_cls(root, \u001b[38;5;241m*\u001b[39m\u001b[38;5;28mself\u001b[39m\u001b[38;5;241m.\u001b[39m__args, \u001b[38;5;241m*\u001b[39m\u001b[38;5;241m*\u001b[39m\u001b[38;5;28mself\u001b[39m\u001b[38;5;241m.\u001b[39m__kwargs)\n",
      "File \u001b[1;32mc:\\Users\\jgu04\\anaconda3\\Lib\\site-packages\\nltk\\corpus\\util.py:81\u001b[0m, in \u001b[0;36mLazyCorpusLoader.__load\u001b[1;34m(self)\u001b[0m\n\u001b[0;32m     79\u001b[0m \u001b[38;5;28;01melse\u001b[39;00m:\n\u001b[0;32m     80\u001b[0m     \u001b[38;5;28;01mtry\u001b[39;00m:\n\u001b[1;32m---> 81\u001b[0m         root \u001b[38;5;241m=\u001b[39m nltk\u001b[38;5;241m.\u001b[39mdata\u001b[38;5;241m.\u001b[39mfind(\u001b[38;5;124mf\u001b[39m\u001b[38;5;124m\"\u001b[39m\u001b[38;5;132;01m{\u001b[39;00m\u001b[38;5;28mself\u001b[39m\u001b[38;5;241m.\u001b[39msubdir\u001b[38;5;132;01m}\u001b[39;00m\u001b[38;5;124m/\u001b[39m\u001b[38;5;132;01m{\u001b[39;00m\u001b[38;5;28mself\u001b[39m\u001b[38;5;241m.\u001b[39m__name\u001b[38;5;132;01m}\u001b[39;00m\u001b[38;5;124m\"\u001b[39m)\n\u001b[0;32m     82\u001b[0m     \u001b[38;5;28;01mexcept\u001b[39;00m \u001b[38;5;167;01mLookupError\u001b[39;00m \u001b[38;5;28;01mas\u001b[39;00m e:\n\u001b[0;32m     83\u001b[0m         \u001b[38;5;28;01mtry\u001b[39;00m:\n",
      "File \u001b[1;32mc:\\Users\\jgu04\\anaconda3\\Lib\\site-packages\\nltk\\data.py:583\u001b[0m, in \u001b[0;36mfind\u001b[1;34m(resource_name, paths)\u001b[0m\n\u001b[0;32m    581\u001b[0m sep \u001b[38;5;241m=\u001b[39m \u001b[38;5;124m\"\u001b[39m\u001b[38;5;124m*\u001b[39m\u001b[38;5;124m\"\u001b[39m \u001b[38;5;241m*\u001b[39m \u001b[38;5;241m70\u001b[39m\n\u001b[0;32m    582\u001b[0m resource_not_found \u001b[38;5;241m=\u001b[39m \u001b[38;5;124mf\u001b[39m\u001b[38;5;124m\"\u001b[39m\u001b[38;5;130;01m\\n\u001b[39;00m\u001b[38;5;132;01m{\u001b[39;00msep\u001b[38;5;132;01m}\u001b[39;00m\u001b[38;5;130;01m\\n\u001b[39;00m\u001b[38;5;132;01m{\u001b[39;00mmsg\u001b[38;5;132;01m}\u001b[39;00m\u001b[38;5;130;01m\\n\u001b[39;00m\u001b[38;5;132;01m{\u001b[39;00msep\u001b[38;5;132;01m}\u001b[39;00m\u001b[38;5;130;01m\\n\u001b[39;00m\u001b[38;5;124m\"\u001b[39m\n\u001b[1;32m--> 583\u001b[0m \u001b[38;5;28;01mraise\u001b[39;00m \u001b[38;5;167;01mLookupError\u001b[39;00m(resource_not_found)\n",
      "\u001b[1;31mLookupError\u001b[0m: \n**********************************************************************\n  Resource \u001b[93mstopwords\u001b[0m not found.\n  Please use the NLTK Downloader to obtain the resource:\n\n  \u001b[31m>>> import nltk\n  >>> nltk.download('stopwords')\n  \u001b[0m\n  For more information see: https://www.nltk.org/data.html\n\n  Attempted to load \u001b[93mcorpora/stopwords\u001b[0m\n\n  Searched in:\n    - 'C:\\\\Users\\\\jgu04/nltk_data'\n    - 'c:\\\\Users\\\\jgu04\\\\anaconda3\\\\nltk_data'\n    - 'c:\\\\Users\\\\jgu04\\\\anaconda3\\\\share\\\\nltk_data'\n    - 'c:\\\\Users\\\\jgu04\\\\anaconda3\\\\lib\\\\nltk_data'\n    - 'C:\\\\Users\\\\jgu04\\\\AppData\\\\Roaming\\\\nltk_data'\n    - 'C:\\\\nltk_data'\n    - 'D:\\\\nltk_data'\n    - 'E:\\\\nltk_data'\n**********************************************************************\n"
     ]
    }
   ],
   "source": [
    "stop_words = set(stopwords.words('english'))\n",
    "\n",
    "# View some samples of stopwords to see what they look like\n",
    "print(list(stop_words)[::12])"
   ]
  },
  {
   "cell_type": "code",
   "execution_count": 15,
   "metadata": {},
   "outputs": [
    {
     "ename": "LookupError",
     "evalue": "\n**********************************************************************\n  Resource \u001b[93mstopwords\u001b[0m not found.\n  Please use the NLTK Downloader to obtain the resource:\n\n  \u001b[31m>>> import nltk\n  >>> nltk.download('stopwords')\n  \u001b[0m\n  For more information see: https://www.nltk.org/data.html\n\n  Attempted to load \u001b[93mcorpora/stopwords\u001b[0m\n\n  Searched in:\n    - 'C:\\\\Users\\\\jgu04/nltk_data'\n    - 'c:\\\\Users\\\\jgu04\\\\anaconda3\\\\nltk_data'\n    - 'c:\\\\Users\\\\jgu04\\\\anaconda3\\\\share\\\\nltk_data'\n    - 'c:\\\\Users\\\\jgu04\\\\anaconda3\\\\lib\\\\nltk_data'\n    - 'C:\\\\Users\\\\jgu04\\\\AppData\\\\Roaming\\\\nltk_data'\n    - 'C:\\\\nltk_data'\n    - 'D:\\\\nltk_data'\n    - 'E:\\\\nltk_data'\n**********************************************************************\n",
     "output_type": "error",
     "traceback": [
      "\u001b[1;31m---------------------------------------------------------------------------\u001b[0m",
      "\u001b[1;31mLookupError\u001b[0m                               Traceback (most recent call last)",
      "File \u001b[1;32mc:\\Users\\jgu04\\anaconda3\\Lib\\site-packages\\nltk\\corpus\\util.py:84\u001b[0m, in \u001b[0;36mLazyCorpusLoader.__load\u001b[1;34m(self)\u001b[0m\n\u001b[0;32m     83\u001b[0m \u001b[38;5;28;01mtry\u001b[39;00m:\n\u001b[1;32m---> 84\u001b[0m     root \u001b[38;5;241m=\u001b[39m nltk\u001b[38;5;241m.\u001b[39mdata\u001b[38;5;241m.\u001b[39mfind(\u001b[38;5;124mf\u001b[39m\u001b[38;5;124m\"\u001b[39m\u001b[38;5;132;01m{\u001b[39;00m\u001b[38;5;28mself\u001b[39m\u001b[38;5;241m.\u001b[39msubdir\u001b[38;5;132;01m}\u001b[39;00m\u001b[38;5;124m/\u001b[39m\u001b[38;5;132;01m{\u001b[39;00mzip_name\u001b[38;5;132;01m}\u001b[39;00m\u001b[38;5;124m\"\u001b[39m)\n\u001b[0;32m     85\u001b[0m \u001b[38;5;28;01mexcept\u001b[39;00m \u001b[38;5;167;01mLookupError\u001b[39;00m:\n",
      "File \u001b[1;32mc:\\Users\\jgu04\\anaconda3\\Lib\\site-packages\\nltk\\data.py:583\u001b[0m, in \u001b[0;36mfind\u001b[1;34m(resource_name, paths)\u001b[0m\n\u001b[0;32m    582\u001b[0m resource_not_found \u001b[38;5;241m=\u001b[39m \u001b[38;5;124mf\u001b[39m\u001b[38;5;124m\"\u001b[39m\u001b[38;5;130;01m\\n\u001b[39;00m\u001b[38;5;132;01m{\u001b[39;00msep\u001b[38;5;132;01m}\u001b[39;00m\u001b[38;5;130;01m\\n\u001b[39;00m\u001b[38;5;132;01m{\u001b[39;00mmsg\u001b[38;5;132;01m}\u001b[39;00m\u001b[38;5;130;01m\\n\u001b[39;00m\u001b[38;5;132;01m{\u001b[39;00msep\u001b[38;5;132;01m}\u001b[39;00m\u001b[38;5;130;01m\\n\u001b[39;00m\u001b[38;5;124m\"\u001b[39m\n\u001b[1;32m--> 583\u001b[0m \u001b[38;5;28;01mraise\u001b[39;00m \u001b[38;5;167;01mLookupError\u001b[39;00m(resource_not_found)\n",
      "\u001b[1;31mLookupError\u001b[0m: \n**********************************************************************\n  Resource \u001b[93mstopwords\u001b[0m not found.\n  Please use the NLTK Downloader to obtain the resource:\n\n  \u001b[31m>>> import nltk\n  >>> nltk.download('stopwords')\n  \u001b[0m\n  For more information see: https://www.nltk.org/data.html\n\n  Attempted to load \u001b[93mcorpora/stopwords.zip/stopwords/\u001b[0m\n\n  Searched in:\n    - 'C:\\\\Users\\\\jgu04/nltk_data'\n    - 'c:\\\\Users\\\\jgu04\\\\anaconda3\\\\nltk_data'\n    - 'c:\\\\Users\\\\jgu04\\\\anaconda3\\\\share\\\\nltk_data'\n    - 'c:\\\\Users\\\\jgu04\\\\anaconda3\\\\lib\\\\nltk_data'\n    - 'C:\\\\Users\\\\jgu04\\\\AppData\\\\Roaming\\\\nltk_data'\n    - 'C:\\\\nltk_data'\n    - 'D:\\\\nltk_data'\n    - 'E:\\\\nltk_data'\n**********************************************************************\n",
      "\nDuring handling of the above exception, another exception occurred:\n",
      "\u001b[1;31mLookupError\u001b[0m                               Traceback (most recent call last)",
      "Cell \u001b[1;32mIn[15], line 27\u001b[0m\n\u001b[0;32m     23\u001b[0m \t\u001b[38;5;28mprint\u001b[39m(\u001b[38;5;124mf\u001b[39m\u001b[38;5;124m\"\u001b[39m\u001b[38;5;124mRemoved \u001b[39m\u001b[38;5;132;01m{\u001b[39;00mcount_removed\u001b[38;5;132;01m}\u001b[39;00m\u001b[38;5;124m stopwords from the dataset\u001b[39m\u001b[38;5;124m\"\u001b[39m)\n\u001b[0;32m     25\u001b[0m \t\u001b[38;5;28;01mreturn\u001b[39;00m df\n\u001b[1;32m---> 27\u001b[0m df \u001b[38;5;241m=\u001b[39m remove_stopwords(df, [\u001b[38;5;124m'\u001b[39m\u001b[38;5;124mdescription\u001b[39m\u001b[38;5;124m'\u001b[39m, \u001b[38;5;124m'\u001b[39m\u001b[38;5;124mquestion\u001b[39m\u001b[38;5;124m'\u001b[39m])\n",
      "Cell \u001b[1;32mIn[15], line 5\u001b[0m, in \u001b[0;36mremove_stopwords\u001b[1;34m(df, cols)\u001b[0m\n\u001b[0;32m      1\u001b[0m \u001b[38;5;28;01mdef\u001b[39;00m \u001b[38;5;21mremove_stopwords\u001b[39m(df: pd\u001b[38;5;241m.\u001b[39mDataFrame, cols) \u001b[38;5;241m-\u001b[39m\u001b[38;5;241m>\u001b[39m pd\u001b[38;5;241m.\u001b[39mDataFrame:\n\u001b[0;32m      3\u001b[0m \tcount_removed \u001b[38;5;241m=\u001b[39m \u001b[38;5;241m0\u001b[39m\n\u001b[1;32m----> 5\u001b[0m \tstop_words \u001b[38;5;241m=\u001b[39m \u001b[38;5;28mset\u001b[39m(stopwords\u001b[38;5;241m.\u001b[39mwords(\u001b[38;5;124m'\u001b[39m\u001b[38;5;124menglish\u001b[39m\u001b[38;5;124m'\u001b[39m))\n\u001b[0;32m      7\u001b[0m \t\u001b[38;5;28;01mfor\u001b[39;00m i, row \u001b[38;5;129;01min\u001b[39;00m df\u001b[38;5;241m.\u001b[39miterrows():\n\u001b[0;32m      8\u001b[0m \t\t\u001b[38;5;28;01mfor\u001b[39;00m col \u001b[38;5;129;01min\u001b[39;00m cols:\n\u001b[0;32m      9\u001b[0m \n\u001b[0;32m     10\u001b[0m \t\t\t\u001b[38;5;66;03m# Get list of tokens in sentence\u001b[39;00m\n",
      "File \u001b[1;32mc:\\Users\\jgu04\\anaconda3\\Lib\\site-packages\\nltk\\corpus\\util.py:121\u001b[0m, in \u001b[0;36mLazyCorpusLoader.__getattr__\u001b[1;34m(self, attr)\u001b[0m\n\u001b[0;32m    118\u001b[0m \u001b[38;5;28;01mif\u001b[39;00m attr \u001b[38;5;241m==\u001b[39m \u001b[38;5;124m\"\u001b[39m\u001b[38;5;124m__bases__\u001b[39m\u001b[38;5;124m\"\u001b[39m:\n\u001b[0;32m    119\u001b[0m     \u001b[38;5;28;01mraise\u001b[39;00m \u001b[38;5;167;01mAttributeError\u001b[39;00m(\u001b[38;5;124m\"\u001b[39m\u001b[38;5;124mLazyCorpusLoader object has no attribute \u001b[39m\u001b[38;5;124m'\u001b[39m\u001b[38;5;124m__bases__\u001b[39m\u001b[38;5;124m'\u001b[39m\u001b[38;5;124m\"\u001b[39m)\n\u001b[1;32m--> 121\u001b[0m \u001b[38;5;28mself\u001b[39m\u001b[38;5;241m.\u001b[39m__load()\n\u001b[0;32m    122\u001b[0m \u001b[38;5;66;03m# This looks circular, but its not, since __load() changes our\u001b[39;00m\n\u001b[0;32m    123\u001b[0m \u001b[38;5;66;03m# __class__ to something new:\u001b[39;00m\n\u001b[0;32m    124\u001b[0m \u001b[38;5;28;01mreturn\u001b[39;00m \u001b[38;5;28mgetattr\u001b[39m(\u001b[38;5;28mself\u001b[39m, attr)\n",
      "File \u001b[1;32mc:\\Users\\jgu04\\anaconda3\\Lib\\site-packages\\nltk\\corpus\\util.py:86\u001b[0m, in \u001b[0;36mLazyCorpusLoader.__load\u001b[1;34m(self)\u001b[0m\n\u001b[0;32m     84\u001b[0m             root \u001b[38;5;241m=\u001b[39m nltk\u001b[38;5;241m.\u001b[39mdata\u001b[38;5;241m.\u001b[39mfind(\u001b[38;5;124mf\u001b[39m\u001b[38;5;124m\"\u001b[39m\u001b[38;5;132;01m{\u001b[39;00m\u001b[38;5;28mself\u001b[39m\u001b[38;5;241m.\u001b[39msubdir\u001b[38;5;132;01m}\u001b[39;00m\u001b[38;5;124m/\u001b[39m\u001b[38;5;132;01m{\u001b[39;00mzip_name\u001b[38;5;132;01m}\u001b[39;00m\u001b[38;5;124m\"\u001b[39m)\n\u001b[0;32m     85\u001b[0m         \u001b[38;5;28;01mexcept\u001b[39;00m \u001b[38;5;167;01mLookupError\u001b[39;00m:\n\u001b[1;32m---> 86\u001b[0m             \u001b[38;5;28;01mraise\u001b[39;00m e\n\u001b[0;32m     88\u001b[0m \u001b[38;5;66;03m# Load the corpus.\u001b[39;00m\n\u001b[0;32m     89\u001b[0m corpus \u001b[38;5;241m=\u001b[39m \u001b[38;5;28mself\u001b[39m\u001b[38;5;241m.\u001b[39m__reader_cls(root, \u001b[38;5;241m*\u001b[39m\u001b[38;5;28mself\u001b[39m\u001b[38;5;241m.\u001b[39m__args, \u001b[38;5;241m*\u001b[39m\u001b[38;5;241m*\u001b[39m\u001b[38;5;28mself\u001b[39m\u001b[38;5;241m.\u001b[39m__kwargs)\n",
      "File \u001b[1;32mc:\\Users\\jgu04\\anaconda3\\Lib\\site-packages\\nltk\\corpus\\util.py:81\u001b[0m, in \u001b[0;36mLazyCorpusLoader.__load\u001b[1;34m(self)\u001b[0m\n\u001b[0;32m     79\u001b[0m \u001b[38;5;28;01melse\u001b[39;00m:\n\u001b[0;32m     80\u001b[0m     \u001b[38;5;28;01mtry\u001b[39;00m:\n\u001b[1;32m---> 81\u001b[0m         root \u001b[38;5;241m=\u001b[39m nltk\u001b[38;5;241m.\u001b[39mdata\u001b[38;5;241m.\u001b[39mfind(\u001b[38;5;124mf\u001b[39m\u001b[38;5;124m\"\u001b[39m\u001b[38;5;132;01m{\u001b[39;00m\u001b[38;5;28mself\u001b[39m\u001b[38;5;241m.\u001b[39msubdir\u001b[38;5;132;01m}\u001b[39;00m\u001b[38;5;124m/\u001b[39m\u001b[38;5;132;01m{\u001b[39;00m\u001b[38;5;28mself\u001b[39m\u001b[38;5;241m.\u001b[39m__name\u001b[38;5;132;01m}\u001b[39;00m\u001b[38;5;124m\"\u001b[39m)\n\u001b[0;32m     82\u001b[0m     \u001b[38;5;28;01mexcept\u001b[39;00m \u001b[38;5;167;01mLookupError\u001b[39;00m \u001b[38;5;28;01mas\u001b[39;00m e:\n\u001b[0;32m     83\u001b[0m         \u001b[38;5;28;01mtry\u001b[39;00m:\n",
      "File \u001b[1;32mc:\\Users\\jgu04\\anaconda3\\Lib\\site-packages\\nltk\\data.py:583\u001b[0m, in \u001b[0;36mfind\u001b[1;34m(resource_name, paths)\u001b[0m\n\u001b[0;32m    581\u001b[0m sep \u001b[38;5;241m=\u001b[39m \u001b[38;5;124m\"\u001b[39m\u001b[38;5;124m*\u001b[39m\u001b[38;5;124m\"\u001b[39m \u001b[38;5;241m*\u001b[39m \u001b[38;5;241m70\u001b[39m\n\u001b[0;32m    582\u001b[0m resource_not_found \u001b[38;5;241m=\u001b[39m \u001b[38;5;124mf\u001b[39m\u001b[38;5;124m\"\u001b[39m\u001b[38;5;130;01m\\n\u001b[39;00m\u001b[38;5;132;01m{\u001b[39;00msep\u001b[38;5;132;01m}\u001b[39;00m\u001b[38;5;130;01m\\n\u001b[39;00m\u001b[38;5;132;01m{\u001b[39;00mmsg\u001b[38;5;132;01m}\u001b[39;00m\u001b[38;5;130;01m\\n\u001b[39;00m\u001b[38;5;132;01m{\u001b[39;00msep\u001b[38;5;132;01m}\u001b[39;00m\u001b[38;5;130;01m\\n\u001b[39;00m\u001b[38;5;124m\"\u001b[39m\n\u001b[1;32m--> 583\u001b[0m \u001b[38;5;28;01mraise\u001b[39;00m \u001b[38;5;167;01mLookupError\u001b[39;00m(resource_not_found)\n",
      "\u001b[1;31mLookupError\u001b[0m: \n**********************************************************************\n  Resource \u001b[93mstopwords\u001b[0m not found.\n  Please use the NLTK Downloader to obtain the resource:\n\n  \u001b[31m>>> import nltk\n  >>> nltk.download('stopwords')\n  \u001b[0m\n  For more information see: https://www.nltk.org/data.html\n\n  Attempted to load \u001b[93mcorpora/stopwords\u001b[0m\n\n  Searched in:\n    - 'C:\\\\Users\\\\jgu04/nltk_data'\n    - 'c:\\\\Users\\\\jgu04\\\\anaconda3\\\\nltk_data'\n    - 'c:\\\\Users\\\\jgu04\\\\anaconda3\\\\share\\\\nltk_data'\n    - 'c:\\\\Users\\\\jgu04\\\\anaconda3\\\\lib\\\\nltk_data'\n    - 'C:\\\\Users\\\\jgu04\\\\AppData\\\\Roaming\\\\nltk_data'\n    - 'C:\\\\nltk_data'\n    - 'D:\\\\nltk_data'\n    - 'E:\\\\nltk_data'\n**********************************************************************\n"
     ]
    }
   ],
   "source": [
    "def remove_stopwords(df: pd.DataFrame, cols) -> pd.DataFrame:\n",
    "    \n",
    "\tcount_removed = 0\n",
    "\n",
    "\tstop_words = set(stopwords.words('english'))\n",
    "\n",
    "\tfor i, row in df.iterrows():\n",
    "\t\tfor col in cols:\n",
    "\n",
    "\t\t\t# Get list of tokens in sentence\n",
    "\t\t\tsentence_tokens = word_tokenize(df.at[i, col])\n",
    "\n",
    "\t\t\tsentence_tokens_without_stopwords = []\n",
    "\t\t\tfor token in sentence_tokens:\n",
    "\t\t\t\tif token not in stop_words:\n",
    "\t\t\t\t\tsentence_tokens_without_stopwords.append(token)\n",
    "\t\t\t\telse:\n",
    "\t\t\t\t\tcount_removed += 1\n",
    "\n",
    "\t\t\t# Join list using spaces\n",
    "\t\t\tdf.at[i, col] = \" \".join(sentence_tokens_without_stopwords)\n",
    "\n",
    "\tprint(f\"Removed {count_removed} stopwords from the dataset\")\n",
    "\n",
    "\treturn df\n",
    "\n",
    "df = remove_stopwords(df, ['description', 'question'])"
   ]
  },
  {
   "cell_type": "code",
   "execution_count": 17,
   "metadata": {},
   "outputs": [
    {
     "data": {
      "text/html": [
       "<div>\n",
       "<style scoped>\n",
       "    .dataframe tbody tr th:only-of-type {\n",
       "        vertical-align: middle;\n",
       "    }\n",
       "\n",
       "    .dataframe tbody tr th {\n",
       "        vertical-align: top;\n",
       "    }\n",
       "\n",
       "    .dataframe thead th {\n",
       "        text-align: right;\n",
       "    }\n",
       "</style>\n",
       "<table border=\"1\" class=\"dataframe\">\n",
       "  <thead>\n",
       "    <tr style=\"text-align: right;\">\n",
       "      <th></th>\n",
       "      <th>description</th>\n",
       "      <th>question</th>\n",
       "      <th>answer</th>\n",
       "    </tr>\n",
       "  </thead>\n",
       "  <tbody>\n",
       "    <tr>\n",
       "      <th>231878</th>\n",
       "      <td>suggest treatment for chest infection</td>\n",
       "      <td>yes  i have had a sinus infection for 2 weeks  my gp prescribed an antibiotic  azithromycin  and prednisone  i have finished both but my symptoms have changed and gotten worse  my chest is congested and i am coughing more with greenish mucus  what should i take now</td>\n",
       "      <td>thanks for your question on hcm i can understand your situation and problem in my opinion you should consult pulmonologist and get done1  repeat chest x ray2  sputum culture and sensitivity you have taken treatment  antibiotics  and still not improving  rather worsening  so we need to rule out worsening of infection by chest x ray and in pneumonia  we should first identify the causative organism and than guide antibiotic therapy according to sensitivity report  so sputum culture and sensitivity report is needed to titrate antibiotics haphazard use of antibiotics should be avoided in pneumonia as it will increase drug resistance and delay the recovery so consult pulmonologist and start appropriate antibiotics according to sensitivity report</td>\n",
       "    </tr>\n",
       "    <tr>\n",
       "      <th>63852</th>\n",
       "      <td>what causes pain in groin</td>\n",
       "      <td>hello  my husband was complaining earlier of a painful boil in the groin  also he had pain higher up in the groin  away from the boil  he s gone to bed  and was only there 10 mins when he said he felt hot  but was shivering visibly  the feeling of unwell has come on him so quickly  and that s my concern can you help</td>\n",
       "      <td>hi it seems that there might be having ingrown hair follicle infection giving rise enalrged inguinal lymph node in the groin due to bacterial infection he got shivering  feeling hot and unwell go for one antibiotic medicine like amoxicilin for 3 5 days give analgesic like ibuprofen as needed within 2 3 days he will be alright ok and take care</td>\n",
       "    </tr>\n",
       "    <tr>\n",
       "      <th>45614</th>\n",
       "      <td>what causes pain in legs and abdomen</td>\n",
       "      <td>i just had a baby a month and week ago and i have been having pain in my legs and abdomen  i also have had very thick brown and bloody discharge and when i pull it off i can feel it come out of me it is so thick  and also a increase in headaches  what is wrong with me</td>\n",
       "      <td>cannot say in your particular case  but generally  continuing pain and discharge a month later is a serious emergency requiring immediate attention</td>\n",
       "    </tr>\n",
       "    <tr>\n",
       "      <th>157278</th>\n",
       "      <td>what makes an infant to puke after eating and pass fish odor stools</td>\n",
       "      <td>hi my son is 14 months and every time he eats food he poops it out within 5 10 mins and his stool has a fishy odor to it  the texture of his stool is liquid and you can still see the food as if it was not digested at all  the color is a grey cloudy color  is this normal</td>\n",
       "      <td>many thanks for consultation it is not worrisome if he is active and alert it could be due to tooth eruption and pain they can get loose stool vomits and fever due to this please check for tooth eruption and if new tooth is coming up then buy some custom made toys for teeth eruption paracetamol syrup for pain and irritation lastly if problem persist then visit to your local pediatric physician</td>\n",
       "    </tr>\n",
       "    <tr>\n",
       "      <th>244134</th>\n",
       "      <td>suggest treatment for chronic itching with rashes</td>\n",
       "      <td>i am a 66 year old female suffering from a chronic itching with a rash  i have had this condition for approx  8 weeks  i have tried many otc remedies including calamine lotion  allegra  etc  i have also tried a 10 day dosage of predasone 5mg without any relief  i have changed my laundry detergent and also discontinued certain prescription drugs temporarily  nothing helps</td>\n",
       "      <td>hi  it may be lichen simplex chronicus most probably  consult the dermatologist for the perfect diagnosis and proper treatment  if it is same as i said  i would recommend you to apply steroid cream like clobetasole propionate cream  and you should take steroid tablet in a tapering dose  if needed  an intradermal steroid injection may be taken  take antihistaminics like desloratadine  avoid soap bath  avoid dietary stuff like cows milk  fish  prawns  chicken  eggs  fermented food  nuts  soy products etc  hope i have answered your query  let me know if i can assist you further  take care  regards  dr ilyas patel  dermatologist</td>\n",
       "    </tr>\n",
       "  </tbody>\n",
       "</table>\n",
       "</div>"
      ],
      "text/plain": [
       "                                                                 description  \\\n",
       "231878                                 suggest treatment for chest infection   \n",
       "63852                                             what causes pain in groin    \n",
       "45614                                  what causes pain in legs and abdomen    \n",
       "157278  what makes an infant to puke after eating and pass fish odor stools    \n",
       "244134                     suggest treatment for chronic itching with rashes   \n",
       "\n",
       "                                                                                                                                                                                                                                                                                                                                                                                      question  \\\n",
       "231878                                                                                                              yes  i have had a sinus infection for 2 weeks  my gp prescribed an antibiotic  azithromycin  and prednisone  i have finished both but my symptoms have changed and gotten worse  my chest is congested and i am coughing more with greenish mucus  what should i take now    \n",
       "63852                                                           hello  my husband was complaining earlier of a painful boil in the groin  also he had pain higher up in the groin  away from the boil  he s gone to bed  and was only there 10 mins when he said he felt hot  but was shivering visibly  the feeling of unwell has come on him so quickly  and that s my concern can you help    \n",
       "45614                                                                                                            i just had a baby a month and week ago and i have been having pain in my legs and abdomen  i also have had very thick brown and bloody discharge and when i pull it off i can feel it come out of me it is so thick  and also a increase in headaches  what is wrong with me    \n",
       "157278                                                                                                         hi my son is 14 months and every time he eats food he poops it out within 5 10 mins and his stool has a fishy odor to it  the texture of his stool is liquid and you can still see the food as if it was not digested at all  the color is a grey cloudy color  is this normal    \n",
       "244134  i am a 66 year old female suffering from a chronic itching with a rash  i have had this condition for approx  8 weeks  i have tried many otc remedies including calamine lotion  allegra  etc  i have also tried a 10 day dosage of predasone 5mg without any relief  i have changed my laundry detergent and also discontinued certain prescription drugs temporarily  nothing helps    \n",
       "\n",
       "                                                                                                                                                                                                                                                                                                                                                                                                                                                                                                                                                                                                                                                                                                                                                                                answer  \n",
       "231878  thanks for your question on hcm i can understand your situation and problem in my opinion you should consult pulmonologist and get done1  repeat chest x ray2  sputum culture and sensitivity you have taken treatment  antibiotics  and still not improving  rather worsening  so we need to rule out worsening of infection by chest x ray and in pneumonia  we should first identify the causative organism and than guide antibiotic therapy according to sensitivity report  so sputum culture and sensitivity report is needed to titrate antibiotics haphazard use of antibiotics should be avoided in pneumonia as it will increase drug resistance and delay the recovery so consult pulmonologist and start appropriate antibiotics according to sensitivity report   \n",
       "63852                                                                                                                                                                                                                                                                                                                                                                                                                        hi it seems that there might be having ingrown hair follicle infection giving rise enalrged inguinal lymph node in the groin due to bacterial infection he got shivering  feeling hot and unwell go for one antibiotic medicine like amoxicilin for 3 5 days give analgesic like ibuprofen as needed within 2 3 days he will be alright ok and take care   \n",
       "45614                                                                                                                                                                                                                                                                                                                                                                                                                                                                                                                                                                                                                             cannot say in your particular case  but generally  continuing pain and discharge a month later is a serious emergency requiring immediate attention   \n",
       "157278                                                                                                                                                                                                                                                                                                                                                                   many thanks for consultation it is not worrisome if he is active and alert it could be due to tooth eruption and pain they can get loose stool vomits and fever due to this please check for tooth eruption and if new tooth is coming up then buy some custom made toys for teeth eruption paracetamol syrup for pain and irritation lastly if problem persist then visit to your local pediatric physician   \n",
       "244134                                                                                                                        hi  it may be lichen simplex chronicus most probably  consult the dermatologist for the perfect diagnosis and proper treatment  if it is same as i said  i would recommend you to apply steroid cream like clobetasole propionate cream  and you should take steroid tablet in a tapering dose  if needed  an intradermal steroid injection may be taken  take antihistaminics like desloratadine  avoid soap bath  avoid dietary stuff like cows milk  fish  prawns  chicken  eggs  fermented food  nuts  soy products etc  hope i have answered your query  let me know if i can assist you further  take care  regards  dr ilyas patel  dermatologist  "
      ]
     },
     "execution_count": 17,
     "metadata": {},
     "output_type": "execute_result"
    }
   ],
   "source": [
    "df.sample(5, random_state=SEED)"
   ]
  },
  {
   "cell_type": "markdown",
   "metadata": {},
   "source": [
    "#### Stemming"
   ]
  },
  {
   "cell_type": "code",
   "execution_count": 18,
   "metadata": {},
   "outputs": [
    {
     "ename": "LookupError",
     "evalue": "\n**********************************************************************\n  Resource \u001b[93mpunkt\u001b[0m not found.\n  Please use the NLTK Downloader to obtain the resource:\n\n  \u001b[31m>>> import nltk\n  >>> nltk.download('punkt')\n  \u001b[0m\n  For more information see: https://www.nltk.org/data.html\n\n  Attempted to load \u001b[93mtokenizers/punkt/english.pickle\u001b[0m\n\n  Searched in:\n    - 'C:\\\\Users\\\\jgu04/nltk_data'\n    - 'c:\\\\Users\\\\jgu04\\\\anaconda3\\\\nltk_data'\n    - 'c:\\\\Users\\\\jgu04\\\\anaconda3\\\\share\\\\nltk_data'\n    - 'c:\\\\Users\\\\jgu04\\\\anaconda3\\\\lib\\\\nltk_data'\n    - 'C:\\\\Users\\\\jgu04\\\\AppData\\\\Roaming\\\\nltk_data'\n    - 'C:\\\\nltk_data'\n    - 'D:\\\\nltk_data'\n    - 'E:\\\\nltk_data'\n    - ''\n**********************************************************************\n",
     "output_type": "error",
     "traceback": [
      "\u001b[1;31m---------------------------------------------------------------------------\u001b[0m",
      "\u001b[1;31mLookupError\u001b[0m                               Traceback (most recent call last)",
      "Cell \u001b[1;32mIn[18], line 22\u001b[0m\n\u001b[0;32m     18\u001b[0m \t\t\tdf\u001b[38;5;241m.\u001b[39mat[i, col] \u001b[38;5;241m=\u001b[39m \u001b[38;5;124m\"\u001b[39m\u001b[38;5;124m \u001b[39m\u001b[38;5;124m\"\u001b[39m\u001b[38;5;241m.\u001b[39mjoin(stemmed_tokens)\n\u001b[0;32m     20\u001b[0m \t\u001b[38;5;28;01mreturn\u001b[39;00m df\n\u001b[1;32m---> 22\u001b[0m df \u001b[38;5;241m=\u001b[39m get_root_word(df, [\u001b[38;5;124m'\u001b[39m\u001b[38;5;124mdescription\u001b[39m\u001b[38;5;124m'\u001b[39m, \u001b[38;5;124m'\u001b[39m\u001b[38;5;124mquestion\u001b[39m\u001b[38;5;124m'\u001b[39m])\n",
      "Cell \u001b[1;32mIn[18], line 11\u001b[0m, in \u001b[0;36mget_root_word\u001b[1;34m(df, cols)\u001b[0m\n\u001b[0;32m      7\u001b[0m \u001b[38;5;28;01mfor\u001b[39;00m i, row \u001b[38;5;129;01min\u001b[39;00m df\u001b[38;5;241m.\u001b[39miterrows():\n\u001b[0;32m      8\u001b[0m \t\u001b[38;5;28;01mfor\u001b[39;00m col \u001b[38;5;129;01min\u001b[39;00m cols:\n\u001b[0;32m      9\u001b[0m \n\u001b[0;32m     10\u001b[0m \t\t\u001b[38;5;66;03m# Get list of tokens in sentence\u001b[39;00m\n\u001b[1;32m---> 11\u001b[0m \t\tsentence_tokens \u001b[38;5;241m=\u001b[39m word_tokenize(df\u001b[38;5;241m.\u001b[39mat[i, col])\n\u001b[0;32m     13\u001b[0m \t\tstemmed_tokens \u001b[38;5;241m=\u001b[39m []\n\u001b[0;32m     14\u001b[0m \t\t\u001b[38;5;28;01mfor\u001b[39;00m token \u001b[38;5;129;01min\u001b[39;00m sentence_tokens:\n",
      "File \u001b[1;32mc:\\Users\\jgu04\\anaconda3\\Lib\\site-packages\\nltk\\tokenize\\__init__.py:129\u001b[0m, in \u001b[0;36mword_tokenize\u001b[1;34m(text, language, preserve_line)\u001b[0m\n\u001b[0;32m    114\u001b[0m \u001b[38;5;28;01mdef\u001b[39;00m \u001b[38;5;21mword_tokenize\u001b[39m(text, language\u001b[38;5;241m=\u001b[39m\u001b[38;5;124m\"\u001b[39m\u001b[38;5;124menglish\u001b[39m\u001b[38;5;124m\"\u001b[39m, preserve_line\u001b[38;5;241m=\u001b[39m\u001b[38;5;28;01mFalse\u001b[39;00m):\n\u001b[0;32m    115\u001b[0m \u001b[38;5;250m    \u001b[39m\u001b[38;5;124;03m\"\"\"\u001b[39;00m\n\u001b[0;32m    116\u001b[0m \u001b[38;5;124;03m    Return a tokenized copy of *text*,\u001b[39;00m\n\u001b[0;32m    117\u001b[0m \u001b[38;5;124;03m    using NLTK's recommended word tokenizer\u001b[39;00m\n\u001b[1;32m   (...)\u001b[0m\n\u001b[0;32m    127\u001b[0m \u001b[38;5;124;03m    :type preserve_line: bool\u001b[39;00m\n\u001b[0;32m    128\u001b[0m \u001b[38;5;124;03m    \"\"\"\u001b[39;00m\n\u001b[1;32m--> 129\u001b[0m     sentences \u001b[38;5;241m=\u001b[39m [text] \u001b[38;5;28;01mif\u001b[39;00m preserve_line \u001b[38;5;28;01melse\u001b[39;00m sent_tokenize(text, language)\n\u001b[0;32m    130\u001b[0m     \u001b[38;5;28;01mreturn\u001b[39;00m [\n\u001b[0;32m    131\u001b[0m         token \u001b[38;5;28;01mfor\u001b[39;00m sent \u001b[38;5;129;01min\u001b[39;00m sentences \u001b[38;5;28;01mfor\u001b[39;00m token \u001b[38;5;129;01min\u001b[39;00m _treebank_word_tokenizer\u001b[38;5;241m.\u001b[39mtokenize(sent)\n\u001b[0;32m    132\u001b[0m     ]\n",
      "File \u001b[1;32mc:\\Users\\jgu04\\anaconda3\\Lib\\site-packages\\nltk\\tokenize\\__init__.py:106\u001b[0m, in \u001b[0;36msent_tokenize\u001b[1;34m(text, language)\u001b[0m\n\u001b[0;32m     96\u001b[0m \u001b[38;5;28;01mdef\u001b[39;00m \u001b[38;5;21msent_tokenize\u001b[39m(text, language\u001b[38;5;241m=\u001b[39m\u001b[38;5;124m\"\u001b[39m\u001b[38;5;124menglish\u001b[39m\u001b[38;5;124m\"\u001b[39m):\n\u001b[0;32m     97\u001b[0m \u001b[38;5;250m    \u001b[39m\u001b[38;5;124;03m\"\"\"\u001b[39;00m\n\u001b[0;32m     98\u001b[0m \u001b[38;5;124;03m    Return a sentence-tokenized copy of *text*,\u001b[39;00m\n\u001b[0;32m     99\u001b[0m \u001b[38;5;124;03m    using NLTK's recommended sentence tokenizer\u001b[39;00m\n\u001b[1;32m   (...)\u001b[0m\n\u001b[0;32m    104\u001b[0m \u001b[38;5;124;03m    :param language: the model name in the Punkt corpus\u001b[39;00m\n\u001b[0;32m    105\u001b[0m \u001b[38;5;124;03m    \"\"\"\u001b[39;00m\n\u001b[1;32m--> 106\u001b[0m     tokenizer \u001b[38;5;241m=\u001b[39m load(\u001b[38;5;124mf\u001b[39m\u001b[38;5;124m\"\u001b[39m\u001b[38;5;124mtokenizers/punkt/\u001b[39m\u001b[38;5;132;01m{\u001b[39;00mlanguage\u001b[38;5;132;01m}\u001b[39;00m\u001b[38;5;124m.pickle\u001b[39m\u001b[38;5;124m\"\u001b[39m)\n\u001b[0;32m    107\u001b[0m     \u001b[38;5;28;01mreturn\u001b[39;00m tokenizer\u001b[38;5;241m.\u001b[39mtokenize(text)\n",
      "File \u001b[1;32mc:\\Users\\jgu04\\anaconda3\\Lib\\site-packages\\nltk\\data.py:750\u001b[0m, in \u001b[0;36mload\u001b[1;34m(resource_url, format, cache, verbose, logic_parser, fstruct_reader, encoding)\u001b[0m\n\u001b[0;32m    747\u001b[0m     \u001b[38;5;28mprint\u001b[39m(\u001b[38;5;124mf\u001b[39m\u001b[38;5;124m\"\u001b[39m\u001b[38;5;124m<<Loading \u001b[39m\u001b[38;5;132;01m{\u001b[39;00mresource_url\u001b[38;5;132;01m}\u001b[39;00m\u001b[38;5;124m>>\u001b[39m\u001b[38;5;124m\"\u001b[39m)\n\u001b[0;32m    749\u001b[0m \u001b[38;5;66;03m# Load the resource.\u001b[39;00m\n\u001b[1;32m--> 750\u001b[0m opened_resource \u001b[38;5;241m=\u001b[39m _open(resource_url)\n\u001b[0;32m    752\u001b[0m \u001b[38;5;28;01mif\u001b[39;00m \u001b[38;5;28mformat\u001b[39m \u001b[38;5;241m==\u001b[39m \u001b[38;5;124m\"\u001b[39m\u001b[38;5;124mraw\u001b[39m\u001b[38;5;124m\"\u001b[39m:\n\u001b[0;32m    753\u001b[0m     resource_val \u001b[38;5;241m=\u001b[39m opened_resource\u001b[38;5;241m.\u001b[39mread()\n",
      "File \u001b[1;32mc:\\Users\\jgu04\\anaconda3\\Lib\\site-packages\\nltk\\data.py:876\u001b[0m, in \u001b[0;36m_open\u001b[1;34m(resource_url)\u001b[0m\n\u001b[0;32m    873\u001b[0m protocol, path_ \u001b[38;5;241m=\u001b[39m split_resource_url(resource_url)\n\u001b[0;32m    875\u001b[0m \u001b[38;5;28;01mif\u001b[39;00m protocol \u001b[38;5;129;01mis\u001b[39;00m \u001b[38;5;28;01mNone\u001b[39;00m \u001b[38;5;129;01mor\u001b[39;00m protocol\u001b[38;5;241m.\u001b[39mlower() \u001b[38;5;241m==\u001b[39m \u001b[38;5;124m\"\u001b[39m\u001b[38;5;124mnltk\u001b[39m\u001b[38;5;124m\"\u001b[39m:\n\u001b[1;32m--> 876\u001b[0m     \u001b[38;5;28;01mreturn\u001b[39;00m find(path_, path \u001b[38;5;241m+\u001b[39m [\u001b[38;5;124m\"\u001b[39m\u001b[38;5;124m\"\u001b[39m])\u001b[38;5;241m.\u001b[39mopen()\n\u001b[0;32m    877\u001b[0m \u001b[38;5;28;01melif\u001b[39;00m protocol\u001b[38;5;241m.\u001b[39mlower() \u001b[38;5;241m==\u001b[39m \u001b[38;5;124m\"\u001b[39m\u001b[38;5;124mfile\u001b[39m\u001b[38;5;124m\"\u001b[39m:\n\u001b[0;32m    878\u001b[0m     \u001b[38;5;66;03m# urllib might not use mode='rb', so handle this one ourselves:\u001b[39;00m\n\u001b[0;32m    879\u001b[0m     \u001b[38;5;28;01mreturn\u001b[39;00m find(path_, [\u001b[38;5;124m\"\u001b[39m\u001b[38;5;124m\"\u001b[39m])\u001b[38;5;241m.\u001b[39mopen()\n",
      "File \u001b[1;32mc:\\Users\\jgu04\\anaconda3\\Lib\\site-packages\\nltk\\data.py:583\u001b[0m, in \u001b[0;36mfind\u001b[1;34m(resource_name, paths)\u001b[0m\n\u001b[0;32m    581\u001b[0m sep \u001b[38;5;241m=\u001b[39m \u001b[38;5;124m\"\u001b[39m\u001b[38;5;124m*\u001b[39m\u001b[38;5;124m\"\u001b[39m \u001b[38;5;241m*\u001b[39m \u001b[38;5;241m70\u001b[39m\n\u001b[0;32m    582\u001b[0m resource_not_found \u001b[38;5;241m=\u001b[39m \u001b[38;5;124mf\u001b[39m\u001b[38;5;124m\"\u001b[39m\u001b[38;5;130;01m\\n\u001b[39;00m\u001b[38;5;132;01m{\u001b[39;00msep\u001b[38;5;132;01m}\u001b[39;00m\u001b[38;5;130;01m\\n\u001b[39;00m\u001b[38;5;132;01m{\u001b[39;00mmsg\u001b[38;5;132;01m}\u001b[39;00m\u001b[38;5;130;01m\\n\u001b[39;00m\u001b[38;5;132;01m{\u001b[39;00msep\u001b[38;5;132;01m}\u001b[39;00m\u001b[38;5;130;01m\\n\u001b[39;00m\u001b[38;5;124m\"\u001b[39m\n\u001b[1;32m--> 583\u001b[0m \u001b[38;5;28;01mraise\u001b[39;00m \u001b[38;5;167;01mLookupError\u001b[39;00m(resource_not_found)\n",
      "\u001b[1;31mLookupError\u001b[0m: \n**********************************************************************\n  Resource \u001b[93mpunkt\u001b[0m not found.\n  Please use the NLTK Downloader to obtain the resource:\n\n  \u001b[31m>>> import nltk\n  >>> nltk.download('punkt')\n  \u001b[0m\n  For more information see: https://www.nltk.org/data.html\n\n  Attempted to load \u001b[93mtokenizers/punkt/english.pickle\u001b[0m\n\n  Searched in:\n    - 'C:\\\\Users\\\\jgu04/nltk_data'\n    - 'c:\\\\Users\\\\jgu04\\\\anaconda3\\\\nltk_data'\n    - 'c:\\\\Users\\\\jgu04\\\\anaconda3\\\\share\\\\nltk_data'\n    - 'c:\\\\Users\\\\jgu04\\\\anaconda3\\\\lib\\\\nltk_data'\n    - 'C:\\\\Users\\\\jgu04\\\\AppData\\\\Roaming\\\\nltk_data'\n    - 'C:\\\\nltk_data'\n    - 'D:\\\\nltk_data'\n    - 'E:\\\\nltk_data'\n    - ''\n**********************************************************************\n"
     ]
    }
   ],
   "source": [
    "from nltk.stem import PorterStemmer\n",
    "\n",
    "stemmer = PorterStemmer()\n",
    "\n",
    "def get_root_word(df: pd.DataFrame, cols) -> pd.DataFrame:\n",
    "    \n",
    "\tfor i, row in df.iterrows():\n",
    "\t\tfor col in cols:\n",
    "\n",
    "\t\t\t# Get list of tokens in sentence\n",
    "\t\t\tsentence_tokens = word_tokenize(df.at[i, col])\n",
    "\n",
    "\t\t\tstemmed_tokens = []\n",
    "\t\t\tfor token in sentence_tokens:\n",
    "\t\t\t\tstemmed_tokens.append(stemmer.stem(token))\n",
    "\n",
    "\t\t\t# Join list using spaces\n",
    "\t\t\tdf.at[i, col] = \" \".join(stemmed_tokens)\n",
    "\n",
    "\treturn df\n",
    "\n",
    "df = get_root_word(df, ['description', 'question'])\n"
   ]
  },
  {
   "cell_type": "code",
   "execution_count": 19,
   "metadata": {},
   "outputs": [
    {
     "data": {
      "text/html": [
       "<div>\n",
       "<style scoped>\n",
       "    .dataframe tbody tr th:only-of-type {\n",
       "        vertical-align: middle;\n",
       "    }\n",
       "\n",
       "    .dataframe tbody tr th {\n",
       "        vertical-align: top;\n",
       "    }\n",
       "\n",
       "    .dataframe thead th {\n",
       "        text-align: right;\n",
       "    }\n",
       "</style>\n",
       "<table border=\"1\" class=\"dataframe\">\n",
       "  <thead>\n",
       "    <tr style=\"text-align: right;\">\n",
       "      <th></th>\n",
       "      <th>description</th>\n",
       "      <th>question</th>\n",
       "      <th>answer</th>\n",
       "    </tr>\n",
       "  </thead>\n",
       "  <tbody>\n",
       "    <tr>\n",
       "      <th>231878</th>\n",
       "      <td>suggest treatment for chest infection</td>\n",
       "      <td>yes  i have had a sinus infection for 2 weeks  my gp prescribed an antibiotic  azithromycin  and prednisone  i have finished both but my symptoms have changed and gotten worse  my chest is congested and i am coughing more with greenish mucus  what should i take now</td>\n",
       "      <td>thanks for your question on hcm i can understand your situation and problem in my opinion you should consult pulmonologist and get done1  repeat chest x ray2  sputum culture and sensitivity you have taken treatment  antibiotics  and still not improving  rather worsening  so we need to rule out worsening of infection by chest x ray and in pneumonia  we should first identify the causative organism and than guide antibiotic therapy according to sensitivity report  so sputum culture and sensitivity report is needed to titrate antibiotics haphazard use of antibiotics should be avoided in pneumonia as it will increase drug resistance and delay the recovery so consult pulmonologist and start appropriate antibiotics according to sensitivity report</td>\n",
       "    </tr>\n",
       "    <tr>\n",
       "      <th>63852</th>\n",
       "      <td>what causes pain in groin</td>\n",
       "      <td>hello  my husband was complaining earlier of a painful boil in the groin  also he had pain higher up in the groin  away from the boil  he s gone to bed  and was only there 10 mins when he said he felt hot  but was shivering visibly  the feeling of unwell has come on him so quickly  and that s my concern can you help</td>\n",
       "      <td>hi it seems that there might be having ingrown hair follicle infection giving rise enalrged inguinal lymph node in the groin due to bacterial infection he got shivering  feeling hot and unwell go for one antibiotic medicine like amoxicilin for 3 5 days give analgesic like ibuprofen as needed within 2 3 days he will be alright ok and take care</td>\n",
       "    </tr>\n",
       "    <tr>\n",
       "      <th>45614</th>\n",
       "      <td>what causes pain in legs and abdomen</td>\n",
       "      <td>i just had a baby a month and week ago and i have been having pain in my legs and abdomen  i also have had very thick brown and bloody discharge and when i pull it off i can feel it come out of me it is so thick  and also a increase in headaches  what is wrong with me</td>\n",
       "      <td>cannot say in your particular case  but generally  continuing pain and discharge a month later is a serious emergency requiring immediate attention</td>\n",
       "    </tr>\n",
       "    <tr>\n",
       "      <th>157278</th>\n",
       "      <td>what makes an infant to puke after eating and pass fish odor stools</td>\n",
       "      <td>hi my son is 14 months and every time he eats food he poops it out within 5 10 mins and his stool has a fishy odor to it  the texture of his stool is liquid and you can still see the food as if it was not digested at all  the color is a grey cloudy color  is this normal</td>\n",
       "      <td>many thanks for consultation it is not worrisome if he is active and alert it could be due to tooth eruption and pain they can get loose stool vomits and fever due to this please check for tooth eruption and if new tooth is coming up then buy some custom made toys for teeth eruption paracetamol syrup for pain and irritation lastly if problem persist then visit to your local pediatric physician</td>\n",
       "    </tr>\n",
       "    <tr>\n",
       "      <th>244134</th>\n",
       "      <td>suggest treatment for chronic itching with rashes</td>\n",
       "      <td>i am a 66 year old female suffering from a chronic itching with a rash  i have had this condition for approx  8 weeks  i have tried many otc remedies including calamine lotion  allegra  etc  i have also tried a 10 day dosage of predasone 5mg without any relief  i have changed my laundry detergent and also discontinued certain prescription drugs temporarily  nothing helps</td>\n",
       "      <td>hi  it may be lichen simplex chronicus most probably  consult the dermatologist for the perfect diagnosis and proper treatment  if it is same as i said  i would recommend you to apply steroid cream like clobetasole propionate cream  and you should take steroid tablet in a tapering dose  if needed  an intradermal steroid injection may be taken  take antihistaminics like desloratadine  avoid soap bath  avoid dietary stuff like cows milk  fish  prawns  chicken  eggs  fermented food  nuts  soy products etc  hope i have answered your query  let me know if i can assist you further  take care  regards  dr ilyas patel  dermatologist</td>\n",
       "    </tr>\n",
       "  </tbody>\n",
       "</table>\n",
       "</div>"
      ],
      "text/plain": [
       "                                                                 description  \\\n",
       "231878                                 suggest treatment for chest infection   \n",
       "63852                                             what causes pain in groin    \n",
       "45614                                  what causes pain in legs and abdomen    \n",
       "157278  what makes an infant to puke after eating and pass fish odor stools    \n",
       "244134                     suggest treatment for chronic itching with rashes   \n",
       "\n",
       "                                                                                                                                                                                                                                                                                                                                                                                      question  \\\n",
       "231878                                                                                                              yes  i have had a sinus infection for 2 weeks  my gp prescribed an antibiotic  azithromycin  and prednisone  i have finished both but my symptoms have changed and gotten worse  my chest is congested and i am coughing more with greenish mucus  what should i take now    \n",
       "63852                                                           hello  my husband was complaining earlier of a painful boil in the groin  also he had pain higher up in the groin  away from the boil  he s gone to bed  and was only there 10 mins when he said he felt hot  but was shivering visibly  the feeling of unwell has come on him so quickly  and that s my concern can you help    \n",
       "45614                                                                                                            i just had a baby a month and week ago and i have been having pain in my legs and abdomen  i also have had very thick brown and bloody discharge and when i pull it off i can feel it come out of me it is so thick  and also a increase in headaches  what is wrong with me    \n",
       "157278                                                                                                         hi my son is 14 months and every time he eats food he poops it out within 5 10 mins and his stool has a fishy odor to it  the texture of his stool is liquid and you can still see the food as if it was not digested at all  the color is a grey cloudy color  is this normal    \n",
       "244134  i am a 66 year old female suffering from a chronic itching with a rash  i have had this condition for approx  8 weeks  i have tried many otc remedies including calamine lotion  allegra  etc  i have also tried a 10 day dosage of predasone 5mg without any relief  i have changed my laundry detergent and also discontinued certain prescription drugs temporarily  nothing helps    \n",
       "\n",
       "                                                                                                                                                                                                                                                                                                                                                                                                                                                                                                                                                                                                                                                                                                                                                                                answer  \n",
       "231878  thanks for your question on hcm i can understand your situation and problem in my opinion you should consult pulmonologist and get done1  repeat chest x ray2  sputum culture and sensitivity you have taken treatment  antibiotics  and still not improving  rather worsening  so we need to rule out worsening of infection by chest x ray and in pneumonia  we should first identify the causative organism and than guide antibiotic therapy according to sensitivity report  so sputum culture and sensitivity report is needed to titrate antibiotics haphazard use of antibiotics should be avoided in pneumonia as it will increase drug resistance and delay the recovery so consult pulmonologist and start appropriate antibiotics according to sensitivity report   \n",
       "63852                                                                                                                                                                                                                                                                                                                                                                                                                        hi it seems that there might be having ingrown hair follicle infection giving rise enalrged inguinal lymph node in the groin due to bacterial infection he got shivering  feeling hot and unwell go for one antibiotic medicine like amoxicilin for 3 5 days give analgesic like ibuprofen as needed within 2 3 days he will be alright ok and take care   \n",
       "45614                                                                                                                                                                                                                                                                                                                                                                                                                                                                                                                                                                                                                             cannot say in your particular case  but generally  continuing pain and discharge a month later is a serious emergency requiring immediate attention   \n",
       "157278                                                                                                                                                                                                                                                                                                                                                                   many thanks for consultation it is not worrisome if he is active and alert it could be due to tooth eruption and pain they can get loose stool vomits and fever due to this please check for tooth eruption and if new tooth is coming up then buy some custom made toys for teeth eruption paracetamol syrup for pain and irritation lastly if problem persist then visit to your local pediatric physician   \n",
       "244134                                                                                                                        hi  it may be lichen simplex chronicus most probably  consult the dermatologist for the perfect diagnosis and proper treatment  if it is same as i said  i would recommend you to apply steroid cream like clobetasole propionate cream  and you should take steroid tablet in a tapering dose  if needed  an intradermal steroid injection may be taken  take antihistaminics like desloratadine  avoid soap bath  avoid dietary stuff like cows milk  fish  prawns  chicken  eggs  fermented food  nuts  soy products etc  hope i have answered your query  let me know if i can assist you further  take care  regards  dr ilyas patel  dermatologist  "
      ]
     },
     "execution_count": 19,
     "metadata": {},
     "output_type": "execute_result"
    }
   ],
   "source": [
    "df.sample(5, random_state=SEED)"
   ]
  },
  {
   "cell_type": "markdown",
   "metadata": {},
   "source": [
    "#### Saving Dataframe to file"
   ]
  },
  {
   "cell_type": "code",
   "execution_count": 16,
   "metadata": {},
   "outputs": [],
   "source": [
    "df.to_csv('data/preprocessed-ai-medical-chatbot.csv', index=False)  "
   ]
  }
 ],
 "metadata": {
  "kernelspec": {
   "display_name": "base",
   "language": "python",
   "name": "python3"
  },
  "language_info": {
   "codemirror_mode": {
    "name": "ipython",
    "version": 3
   },
   "file_extension": ".py",
   "mimetype": "text/x-python",
   "name": "python",
   "nbconvert_exporter": "python",
   "pygments_lexer": "ipython3",
   "version": "3.12.4"
  }
 },
 "nbformat": 4,
 "nbformat_minor": 2
}
