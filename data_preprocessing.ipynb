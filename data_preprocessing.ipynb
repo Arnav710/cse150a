{
 "cells": [
  {
   "cell_type": "code",
   "execution_count": 2,
   "metadata": {},
   "outputs": [],
   "source": [
    "import pandas as pd\n",
    "\n",
    "import nltk\n",
    "from nltk.corpus import stopwords\n",
    "from nltk.tokenize import word_tokenize\n",
    "\n",
    "SEED = 0\n",
    "pd.set_option('display.max_colwidth', None)\n",
    "#nltk.download('wordnet')"
   ]
  },
  {
   "cell_type": "markdown",
   "metadata": {},
   "source": [
    "## Load and view data"
   ]
  },
  {
   "cell_type": "code",
   "execution_count": 3,
   "metadata": {},
   "outputs": [],
   "source": [
    "path = 'data/ai-medical-chatbot.csv'\n",
    "df = pd.read_csv(path)"
   ]
  },
  {
   "cell_type": "code",
   "execution_count": 4,
   "metadata": {},
   "outputs": [
    {
     "data": {
      "text/html": [
       "<div>\n",
       "<style scoped>\n",
       "    .dataframe tbody tr th:only-of-type {\n",
       "        vertical-align: middle;\n",
       "    }\n",
       "\n",
       "    .dataframe tbody tr th {\n",
       "        vertical-align: top;\n",
       "    }\n",
       "\n",
       "    .dataframe thead th {\n",
       "        text-align: right;\n",
       "    }\n",
       "</style>\n",
       "<table border=\"1\" class=\"dataframe\">\n",
       "  <thead>\n",
       "    <tr style=\"text-align: right;\">\n",
       "      <th></th>\n",
       "      <th>Description</th>\n",
       "      <th>Patient</th>\n",
       "      <th>Doctor</th>\n",
       "    </tr>\n",
       "  </thead>\n",
       "  <tbody>\n",
       "    <tr>\n",
       "      <th>231878</th>\n",
       "      <td>Suggest treatment for chest infection</td>\n",
       "      <td>Yes, I have had a sinus infection for 2 weeks. My GP prescribed an antibiotic (Azithromycin) and Prednisone. I have finished both but my symptoms have changed and gotten worse. My chest is congested and I am coughing more with greenish mucus. What should I take now?</td>\n",
       "      <td>Thanks for your question on HCM.I can understand your situation and problem.In my opinion you should consult pulmonologist and get done1. Repeat chest x ray2. Sputum culture and sensitivity.You have taken treatment (antibiotics) and still not improving, rather worsening, so we need to rule out worsening of infection by chest x ray.And in pneumonia, we should first identify the causative organism and than guide antibiotic therapy according to sensitivity report. So sputum culture and sensitivity report is needed to titrate antibiotics.Haphazard use of antibiotics should be avoided in pneumonia as it will increase drug resistance and delay the recovery.So consult pulmonologist and start appropriate antibiotics according to sensitivity report.</td>\n",
       "    </tr>\n",
       "    <tr>\n",
       "      <th>63852</th>\n",
       "      <td>What causes pain in groin?</td>\n",
       "      <td>Hello, My husband was complaining earlier of a painful boil in the groin, also he had pain higher up in the groin, away from the boil. He s gone to bed, and was only there 10 mins when he said he felt hot, but was shivering visibly. The feeling of unwell has come on him so quickly, and that s my concern.Can you help?</td>\n",
       "      <td>Hi,It seems that there might be having ingrown hair follicle infection giving rise enalrged inguinal lymph node in the groin.Due to bacterial infection he got shivering, feeling hot and unwell.Go for one antibiotic medicine like Amoxicilin for 3-5 days.Give analgesic like Ibuprofen as needed.Within 2-3 days he will be alright.Ok and take care.</td>\n",
       "    </tr>\n",
       "    <tr>\n",
       "      <th>45614</th>\n",
       "      <td>What causes pain in legs and abdomen?</td>\n",
       "      <td>I just had a baby a month and week ago and I have been having pain in my legs and abdomen. I also have had very thick brown and bloody discharge and when I pull it off I can feel it come out of me it is so thick. And also a increase in headaches. What is wrong with me?</td>\n",
       "      <td>cannot say in your particular case, but generally, continuing pain and discharge a month later is a serious emergency requiring immediate attention.</td>\n",
       "    </tr>\n",
       "    <tr>\n",
       "      <th>157278</th>\n",
       "      <td>What makes an infant to puke after eating and pass fish odor stools?</td>\n",
       "      <td>Hi my son is 14 months and every time he eats food he poops it out within 5-10 mins and his stool has a fishy odor to it. The texture of his stool is liquid and you can still see the food as if it was not digested at all. The color is a grey cloudy color. Is this normal?</td>\n",
       "      <td>Many thanks for consultation.It is not worrisome if he is active and alert.It could be due to tooth eruption and pain.they can get loose stool,vomits and fever due to this.please check for tooth eruption and if new tooth is coming up then buy some custom made toys for teeth eruption.paracetamol syrup for pain and irritation.Lastly if problem persist then visit to your local pediatric physician.</td>\n",
       "    </tr>\n",
       "    <tr>\n",
       "      <th>244134</th>\n",
       "      <td>Suggest treatment for chronic itching with rashes</td>\n",
       "      <td>I am a 66 year old female suffering from a chronic itching with a rash. I have had this condition for approx. 8 weeks. I have tried many OTC remedies including calamine lotion, allegra, etc. I have also tried a 10 day dosage of Predasone 5mg without any relief. I have changed my laundry detergent and also discontinued certain prescription drugs temporarily. Nothing helps.</td>\n",
       "      <td>Hi, It may be lichen simplex chronicus most probably. Consult the dermatologist for the perfect diagnosis and proper treatment. If it is same as I said, I would recommend you to apply steroid cream like Clobetasole Propionate cream. And you should take steroid tablet in a tapering dose. If needed, an intradermal steroid injection may be taken. Take antihistaminics like Desloratadine. Avoid soap bath. Avoid dietary stuff like cows milk, fish, prawns, chicken, eggs, fermented food, nuts, soy products etc. Hope I have answered your query. Let me know if I can assist you further. Take care. Regards, Dr Ilyas Patel, Dermatologist</td>\n",
       "    </tr>\n",
       "  </tbody>\n",
       "</table>\n",
       "</div>"
      ],
      "text/plain": [
       "                                                                 Description  \\\n",
       "231878                                 Suggest treatment for chest infection   \n",
       "63852                                             What causes pain in groin?   \n",
       "45614                                  What causes pain in legs and abdomen?   \n",
       "157278  What makes an infant to puke after eating and pass fish odor stools?   \n",
       "244134                     Suggest treatment for chronic itching with rashes   \n",
       "\n",
       "                                                                                                                                                                                                                                                                                                                                                                                       Patient  \\\n",
       "231878                                                                                                              Yes, I have had a sinus infection for 2 weeks. My GP prescribed an antibiotic (Azithromycin) and Prednisone. I have finished both but my symptoms have changed and gotten worse. My chest is congested and I am coughing more with greenish mucus. What should I take now?   \n",
       "63852                                                           Hello, My husband was complaining earlier of a painful boil in the groin, also he had pain higher up in the groin, away from the boil. He s gone to bed, and was only there 10 mins when he said he felt hot, but was shivering visibly. The feeling of unwell has come on him so quickly, and that s my concern.Can you help?   \n",
       "45614                                                                                                            I just had a baby a month and week ago and I have been having pain in my legs and abdomen. I also have had very thick brown and bloody discharge and when I pull it off I can feel it come out of me it is so thick. And also a increase in headaches. What is wrong with me?   \n",
       "157278                                                                                                         Hi my son is 14 months and every time he eats food he poops it out within 5-10 mins and his stool has a fishy odor to it. The texture of his stool is liquid and you can still see the food as if it was not digested at all. The color is a grey cloudy color. Is this normal?   \n",
       "244134  I am a 66 year old female suffering from a chronic itching with a rash. I have had this condition for approx. 8 weeks. I have tried many OTC remedies including calamine lotion, allegra, etc. I have also tried a 10 day dosage of Predasone 5mg without any relief. I have changed my laundry detergent and also discontinued certain prescription drugs temporarily. Nothing helps.   \n",
       "\n",
       "                                                                                                                                                                                                                                                                                                                                                                                                                                                                                                                                                                                                                                                                                                                                                                                Doctor  \n",
       "231878  Thanks for your question on HCM.I can understand your situation and problem.In my opinion you should consult pulmonologist and get done1. Repeat chest x ray2. Sputum culture and sensitivity.You have taken treatment (antibiotics) and still not improving, rather worsening, so we need to rule out worsening of infection by chest x ray.And in pneumonia, we should first identify the causative organism and than guide antibiotic therapy according to sensitivity report. So sputum culture and sensitivity report is needed to titrate antibiotics.Haphazard use of antibiotics should be avoided in pneumonia as it will increase drug resistance and delay the recovery.So consult pulmonologist and start appropriate antibiotics according to sensitivity report.  \n",
       "63852                                                                                                                                                                                                                                                                                                                                                                                                                        Hi,It seems that there might be having ingrown hair follicle infection giving rise enalrged inguinal lymph node in the groin.Due to bacterial infection he got shivering, feeling hot and unwell.Go for one antibiotic medicine like Amoxicilin for 3-5 days.Give analgesic like Ibuprofen as needed.Within 2-3 days he will be alright.Ok and take care.  \n",
       "45614                                                                                                                                                                                                                                                                                                                                                                                                                                                                                                                                                                                                                             cannot say in your particular case, but generally, continuing pain and discharge a month later is a serious emergency requiring immediate attention.  \n",
       "157278                                                                                                                                                                                                                                                                                                                                                                   Many thanks for consultation.It is not worrisome if he is active and alert.It could be due to tooth eruption and pain.they can get loose stool,vomits and fever due to this.please check for tooth eruption and if new tooth is coming up then buy some custom made toys for teeth eruption.paracetamol syrup for pain and irritation.Lastly if problem persist then visit to your local pediatric physician.  \n",
       "244134                                                                                                                        Hi, It may be lichen simplex chronicus most probably. Consult the dermatologist for the perfect diagnosis and proper treatment. If it is same as I said, I would recommend you to apply steroid cream like Clobetasole Propionate cream. And you should take steroid tablet in a tapering dose. If needed, an intradermal steroid injection may be taken. Take antihistaminics like Desloratadine. Avoid soap bath. Avoid dietary stuff like cows milk, fish, prawns, chicken, eggs, fermented food, nuts, soy products etc. Hope I have answered your query. Let me know if I can assist you further. Take care. Regards, Dr Ilyas Patel, Dermatologist  "
      ]
     },
     "execution_count": 4,
     "metadata": {},
     "output_type": "execute_result"
    }
   ],
   "source": [
    "df.sample(5, random_state=SEED)"
   ]
  },
  {
   "cell_type": "markdown",
   "metadata": {},
   "source": [
    "# Preprocessing"
   ]
  },
  {
   "cell_type": "markdown",
   "metadata": {},
   "source": [
    "#### Renaming columns"
   ]
  },
  {
   "cell_type": "code",
   "execution_count": 5,
   "metadata": {},
   "outputs": [],
   "source": [
    "df = df.rename(columns={'Description': 'description',\n",
    "                        'Patient': 'question',\n",
    "                        'Doctor': 'answer'})"
   ]
  },
  {
   "cell_type": "code",
   "execution_count": 6,
   "metadata": {},
   "outputs": [
    {
     "data": {
      "text/html": [
       "<div>\n",
       "<style scoped>\n",
       "    .dataframe tbody tr th:only-of-type {\n",
       "        vertical-align: middle;\n",
       "    }\n",
       "\n",
       "    .dataframe tbody tr th {\n",
       "        vertical-align: top;\n",
       "    }\n",
       "\n",
       "    .dataframe thead th {\n",
       "        text-align: right;\n",
       "    }\n",
       "</style>\n",
       "<table border=\"1\" class=\"dataframe\">\n",
       "  <thead>\n",
       "    <tr style=\"text-align: right;\">\n",
       "      <th></th>\n",
       "      <th>description</th>\n",
       "      <th>question</th>\n",
       "      <th>answer</th>\n",
       "    </tr>\n",
       "  </thead>\n",
       "  <tbody>\n",
       "    <tr>\n",
       "      <th>231878</th>\n",
       "      <td>Suggest treatment for chest infection</td>\n",
       "      <td>Yes, I have had a sinus infection for 2 weeks. My GP prescribed an antibiotic (Azithromycin) and Prednisone. I have finished both but my symptoms have changed and gotten worse. My chest is congested and I am coughing more with greenish mucus. What should I take now?</td>\n",
       "      <td>Thanks for your question on HCM.I can understand your situation and problem.In my opinion you should consult pulmonologist and get done1. Repeat chest x ray2. Sputum culture and sensitivity.You have taken treatment (antibiotics) and still not improving, rather worsening, so we need to rule out worsening of infection by chest x ray.And in pneumonia, we should first identify the causative organism and than guide antibiotic therapy according to sensitivity report. So sputum culture and sensitivity report is needed to titrate antibiotics.Haphazard use of antibiotics should be avoided in pneumonia as it will increase drug resistance and delay the recovery.So consult pulmonologist and start appropriate antibiotics according to sensitivity report.</td>\n",
       "    </tr>\n",
       "    <tr>\n",
       "      <th>63852</th>\n",
       "      <td>What causes pain in groin?</td>\n",
       "      <td>Hello, My husband was complaining earlier of a painful boil in the groin, also he had pain higher up in the groin, away from the boil. He s gone to bed, and was only there 10 mins when he said he felt hot, but was shivering visibly. The feeling of unwell has come on him so quickly, and that s my concern.Can you help?</td>\n",
       "      <td>Hi,It seems that there might be having ingrown hair follicle infection giving rise enalrged inguinal lymph node in the groin.Due to bacterial infection he got shivering, feeling hot and unwell.Go for one antibiotic medicine like Amoxicilin for 3-5 days.Give analgesic like Ibuprofen as needed.Within 2-3 days he will be alright.Ok and take care.</td>\n",
       "    </tr>\n",
       "    <tr>\n",
       "      <th>45614</th>\n",
       "      <td>What causes pain in legs and abdomen?</td>\n",
       "      <td>I just had a baby a month and week ago and I have been having pain in my legs and abdomen. I also have had very thick brown and bloody discharge and when I pull it off I can feel it come out of me it is so thick. And also a increase in headaches. What is wrong with me?</td>\n",
       "      <td>cannot say in your particular case, but generally, continuing pain and discharge a month later is a serious emergency requiring immediate attention.</td>\n",
       "    </tr>\n",
       "    <tr>\n",
       "      <th>157278</th>\n",
       "      <td>What makes an infant to puke after eating and pass fish odor stools?</td>\n",
       "      <td>Hi my son is 14 months and every time he eats food he poops it out within 5-10 mins and his stool has a fishy odor to it. The texture of his stool is liquid and you can still see the food as if it was not digested at all. The color is a grey cloudy color. Is this normal?</td>\n",
       "      <td>Many thanks for consultation.It is not worrisome if he is active and alert.It could be due to tooth eruption and pain.they can get loose stool,vomits and fever due to this.please check for tooth eruption and if new tooth is coming up then buy some custom made toys for teeth eruption.paracetamol syrup for pain and irritation.Lastly if problem persist then visit to your local pediatric physician.</td>\n",
       "    </tr>\n",
       "    <tr>\n",
       "      <th>244134</th>\n",
       "      <td>Suggest treatment for chronic itching with rashes</td>\n",
       "      <td>I am a 66 year old female suffering from a chronic itching with a rash. I have had this condition for approx. 8 weeks. I have tried many OTC remedies including calamine lotion, allegra, etc. I have also tried a 10 day dosage of Predasone 5mg without any relief. I have changed my laundry detergent and also discontinued certain prescription drugs temporarily. Nothing helps.</td>\n",
       "      <td>Hi, It may be lichen simplex chronicus most probably. Consult the dermatologist for the perfect diagnosis and proper treatment. If it is same as I said, I would recommend you to apply steroid cream like Clobetasole Propionate cream. And you should take steroid tablet in a tapering dose. If needed, an intradermal steroid injection may be taken. Take antihistaminics like Desloratadine. Avoid soap bath. Avoid dietary stuff like cows milk, fish, prawns, chicken, eggs, fermented food, nuts, soy products etc. Hope I have answered your query. Let me know if I can assist you further. Take care. Regards, Dr Ilyas Patel, Dermatologist</td>\n",
       "    </tr>\n",
       "  </tbody>\n",
       "</table>\n",
       "</div>"
      ],
      "text/plain": [
       "                                                                 description  \\\n",
       "231878                                 Suggest treatment for chest infection   \n",
       "63852                                             What causes pain in groin?   \n",
       "45614                                  What causes pain in legs and abdomen?   \n",
       "157278  What makes an infant to puke after eating and pass fish odor stools?   \n",
       "244134                     Suggest treatment for chronic itching with rashes   \n",
       "\n",
       "                                                                                                                                                                                                                                                                                                                                                                                      question  \\\n",
       "231878                                                                                                              Yes, I have had a sinus infection for 2 weeks. My GP prescribed an antibiotic (Azithromycin) and Prednisone. I have finished both but my symptoms have changed and gotten worse. My chest is congested and I am coughing more with greenish mucus. What should I take now?   \n",
       "63852                                                           Hello, My husband was complaining earlier of a painful boil in the groin, also he had pain higher up in the groin, away from the boil. He s gone to bed, and was only there 10 mins when he said he felt hot, but was shivering visibly. The feeling of unwell has come on him so quickly, and that s my concern.Can you help?   \n",
       "45614                                                                                                            I just had a baby a month and week ago and I have been having pain in my legs and abdomen. I also have had very thick brown and bloody discharge and when I pull it off I can feel it come out of me it is so thick. And also a increase in headaches. What is wrong with me?   \n",
       "157278                                                                                                         Hi my son is 14 months and every time he eats food he poops it out within 5-10 mins and his stool has a fishy odor to it. The texture of his stool is liquid and you can still see the food as if it was not digested at all. The color is a grey cloudy color. Is this normal?   \n",
       "244134  I am a 66 year old female suffering from a chronic itching with a rash. I have had this condition for approx. 8 weeks. I have tried many OTC remedies including calamine lotion, allegra, etc. I have also tried a 10 day dosage of Predasone 5mg without any relief. I have changed my laundry detergent and also discontinued certain prescription drugs temporarily. Nothing helps.   \n",
       "\n",
       "                                                                                                                                                                                                                                                                                                                                                                                                                                                                                                                                                                                                                                                                                                                                                                                answer  \n",
       "231878  Thanks for your question on HCM.I can understand your situation and problem.In my opinion you should consult pulmonologist and get done1. Repeat chest x ray2. Sputum culture and sensitivity.You have taken treatment (antibiotics) and still not improving, rather worsening, so we need to rule out worsening of infection by chest x ray.And in pneumonia, we should first identify the causative organism and than guide antibiotic therapy according to sensitivity report. So sputum culture and sensitivity report is needed to titrate antibiotics.Haphazard use of antibiotics should be avoided in pneumonia as it will increase drug resistance and delay the recovery.So consult pulmonologist and start appropriate antibiotics according to sensitivity report.  \n",
       "63852                                                                                                                                                                                                                                                                                                                                                                                                                        Hi,It seems that there might be having ingrown hair follicle infection giving rise enalrged inguinal lymph node in the groin.Due to bacterial infection he got shivering, feeling hot and unwell.Go for one antibiotic medicine like Amoxicilin for 3-5 days.Give analgesic like Ibuprofen as needed.Within 2-3 days he will be alright.Ok and take care.  \n",
       "45614                                                                                                                                                                                                                                                                                                                                                                                                                                                                                                                                                                                                                             cannot say in your particular case, but generally, continuing pain and discharge a month later is a serious emergency requiring immediate attention.  \n",
       "157278                                                                                                                                                                                                                                                                                                                                                                   Many thanks for consultation.It is not worrisome if he is active and alert.It could be due to tooth eruption and pain.they can get loose stool,vomits and fever due to this.please check for tooth eruption and if new tooth is coming up then buy some custom made toys for teeth eruption.paracetamol syrup for pain and irritation.Lastly if problem persist then visit to your local pediatric physician.  \n",
       "244134                                                                                                                        Hi, It may be lichen simplex chronicus most probably. Consult the dermatologist for the perfect diagnosis and proper treatment. If it is same as I said, I would recommend you to apply steroid cream like Clobetasole Propionate cream. And you should take steroid tablet in a tapering dose. If needed, an intradermal steroid injection may be taken. Take antihistaminics like Desloratadine. Avoid soap bath. Avoid dietary stuff like cows milk, fish, prawns, chicken, eggs, fermented food, nuts, soy products etc. Hope I have answered your query. Let me know if I can assist you further. Take care. Regards, Dr Ilyas Patel, Dermatologist  "
      ]
     },
     "execution_count": 6,
     "metadata": {},
     "output_type": "execute_result"
    }
   ],
   "source": [
    "df.sample(5, random_state=SEED)"
   ]
  },
  {
   "cell_type": "markdown",
   "metadata": {},
   "source": [
    "#### Converting the Descriptions, Questions, and Answers to lowercase"
   ]
  },
  {
   "cell_type": "code",
   "execution_count": 7,
   "metadata": {},
   "outputs": [],
   "source": [
    "def to_lowercase(df: pd.DataFrame, cols) -> pd.DataFrame:\n",
    "    for col in cols:\n",
    "        df[col] = df[col].str.lower()\n",
    "    return df\n",
    "    \n",
    "df = to_lowercase(df, df.columns)"
   ]
  },
  {
   "cell_type": "code",
   "execution_count": 8,
   "metadata": {},
   "outputs": [
    {
     "data": {
      "text/html": [
       "<div>\n",
       "<style scoped>\n",
       "    .dataframe tbody tr th:only-of-type {\n",
       "        vertical-align: middle;\n",
       "    }\n",
       "\n",
       "    .dataframe tbody tr th {\n",
       "        vertical-align: top;\n",
       "    }\n",
       "\n",
       "    .dataframe thead th {\n",
       "        text-align: right;\n",
       "    }\n",
       "</style>\n",
       "<table border=\"1\" class=\"dataframe\">\n",
       "  <thead>\n",
       "    <tr style=\"text-align: right;\">\n",
       "      <th></th>\n",
       "      <th>description</th>\n",
       "      <th>question</th>\n",
       "      <th>answer</th>\n",
       "    </tr>\n",
       "  </thead>\n",
       "  <tbody>\n",
       "    <tr>\n",
       "      <th>231878</th>\n",
       "      <td>suggest treatment for chest infection</td>\n",
       "      <td>yes, i have had a sinus infection for 2 weeks. my gp prescribed an antibiotic (azithromycin) and prednisone. i have finished both but my symptoms have changed and gotten worse. my chest is congested and i am coughing more with greenish mucus. what should i take now?</td>\n",
       "      <td>thanks for your question on hcm.i can understand your situation and problem.in my opinion you should consult pulmonologist and get done1. repeat chest x ray2. sputum culture and sensitivity.you have taken treatment (antibiotics) and still not improving, rather worsening, so we need to rule out worsening of infection by chest x ray.and in pneumonia, we should first identify the causative organism and than guide antibiotic therapy according to sensitivity report. so sputum culture and sensitivity report is needed to titrate antibiotics.haphazard use of antibiotics should be avoided in pneumonia as it will increase drug resistance and delay the recovery.so consult pulmonologist and start appropriate antibiotics according to sensitivity report.</td>\n",
       "    </tr>\n",
       "    <tr>\n",
       "      <th>63852</th>\n",
       "      <td>what causes pain in groin?</td>\n",
       "      <td>hello, my husband was complaining earlier of a painful boil in the groin, also he had pain higher up in the groin, away from the boil. he s gone to bed, and was only there 10 mins when he said he felt hot, but was shivering visibly. the feeling of unwell has come on him so quickly, and that s my concern.can you help?</td>\n",
       "      <td>hi,it seems that there might be having ingrown hair follicle infection giving rise enalrged inguinal lymph node in the groin.due to bacterial infection he got shivering, feeling hot and unwell.go for one antibiotic medicine like amoxicilin for 3-5 days.give analgesic like ibuprofen as needed.within 2-3 days he will be alright.ok and take care.</td>\n",
       "    </tr>\n",
       "    <tr>\n",
       "      <th>45614</th>\n",
       "      <td>what causes pain in legs and abdomen?</td>\n",
       "      <td>i just had a baby a month and week ago and i have been having pain in my legs and abdomen. i also have had very thick brown and bloody discharge and when i pull it off i can feel it come out of me it is so thick. and also a increase in headaches. what is wrong with me?</td>\n",
       "      <td>cannot say in your particular case, but generally, continuing pain and discharge a month later is a serious emergency requiring immediate attention.</td>\n",
       "    </tr>\n",
       "    <tr>\n",
       "      <th>157278</th>\n",
       "      <td>what makes an infant to puke after eating and pass fish odor stools?</td>\n",
       "      <td>hi my son is 14 months and every time he eats food he poops it out within 5-10 mins and his stool has a fishy odor to it. the texture of his stool is liquid and you can still see the food as if it was not digested at all. the color is a grey cloudy color. is this normal?</td>\n",
       "      <td>many thanks for consultation.it is not worrisome if he is active and alert.it could be due to tooth eruption and pain.they can get loose stool,vomits and fever due to this.please check for tooth eruption and if new tooth is coming up then buy some custom made toys for teeth eruption.paracetamol syrup for pain and irritation.lastly if problem persist then visit to your local pediatric physician.</td>\n",
       "    </tr>\n",
       "    <tr>\n",
       "      <th>244134</th>\n",
       "      <td>suggest treatment for chronic itching with rashes</td>\n",
       "      <td>i am a 66 year old female suffering from a chronic itching with a rash. i have had this condition for approx. 8 weeks. i have tried many otc remedies including calamine lotion, allegra, etc. i have also tried a 10 day dosage of predasone 5mg without any relief. i have changed my laundry detergent and also discontinued certain prescription drugs temporarily. nothing helps.</td>\n",
       "      <td>hi, it may be lichen simplex chronicus most probably. consult the dermatologist for the perfect diagnosis and proper treatment. if it is same as i said, i would recommend you to apply steroid cream like clobetasole propionate cream. and you should take steroid tablet in a tapering dose. if needed, an intradermal steroid injection may be taken. take antihistaminics like desloratadine. avoid soap bath. avoid dietary stuff like cows milk, fish, prawns, chicken, eggs, fermented food, nuts, soy products etc. hope i have answered your query. let me know if i can assist you further. take care. regards, dr ilyas patel, dermatologist</td>\n",
       "    </tr>\n",
       "  </tbody>\n",
       "</table>\n",
       "</div>"
      ],
      "text/plain": [
       "                                                                 description  \\\n",
       "231878                                 suggest treatment for chest infection   \n",
       "63852                                             what causes pain in groin?   \n",
       "45614                                  what causes pain in legs and abdomen?   \n",
       "157278  what makes an infant to puke after eating and pass fish odor stools?   \n",
       "244134                     suggest treatment for chronic itching with rashes   \n",
       "\n",
       "                                                                                                                                                                                                                                                                                                                                                                                      question  \\\n",
       "231878                                                                                                              yes, i have had a sinus infection for 2 weeks. my gp prescribed an antibiotic (azithromycin) and prednisone. i have finished both but my symptoms have changed and gotten worse. my chest is congested and i am coughing more with greenish mucus. what should i take now?   \n",
       "63852                                                           hello, my husband was complaining earlier of a painful boil in the groin, also he had pain higher up in the groin, away from the boil. he s gone to bed, and was only there 10 mins when he said he felt hot, but was shivering visibly. the feeling of unwell has come on him so quickly, and that s my concern.can you help?   \n",
       "45614                                                                                                            i just had a baby a month and week ago and i have been having pain in my legs and abdomen. i also have had very thick brown and bloody discharge and when i pull it off i can feel it come out of me it is so thick. and also a increase in headaches. what is wrong with me?   \n",
       "157278                                                                                                         hi my son is 14 months and every time he eats food he poops it out within 5-10 mins and his stool has a fishy odor to it. the texture of his stool is liquid and you can still see the food as if it was not digested at all. the color is a grey cloudy color. is this normal?   \n",
       "244134  i am a 66 year old female suffering from a chronic itching with a rash. i have had this condition for approx. 8 weeks. i have tried many otc remedies including calamine lotion, allegra, etc. i have also tried a 10 day dosage of predasone 5mg without any relief. i have changed my laundry detergent and also discontinued certain prescription drugs temporarily. nothing helps.   \n",
       "\n",
       "                                                                                                                                                                                                                                                                                                                                                                                                                                                                                                                                                                                                                                                                                                                                                                                answer  \n",
       "231878  thanks for your question on hcm.i can understand your situation and problem.in my opinion you should consult pulmonologist and get done1. repeat chest x ray2. sputum culture and sensitivity.you have taken treatment (antibiotics) and still not improving, rather worsening, so we need to rule out worsening of infection by chest x ray.and in pneumonia, we should first identify the causative organism and than guide antibiotic therapy according to sensitivity report. so sputum culture and sensitivity report is needed to titrate antibiotics.haphazard use of antibiotics should be avoided in pneumonia as it will increase drug resistance and delay the recovery.so consult pulmonologist and start appropriate antibiotics according to sensitivity report.  \n",
       "63852                                                                                                                                                                                                                                                                                                                                                                                                                        hi,it seems that there might be having ingrown hair follicle infection giving rise enalrged inguinal lymph node in the groin.due to bacterial infection he got shivering, feeling hot and unwell.go for one antibiotic medicine like amoxicilin for 3-5 days.give analgesic like ibuprofen as needed.within 2-3 days he will be alright.ok and take care.  \n",
       "45614                                                                                                                                                                                                                                                                                                                                                                                                                                                                                                                                                                                                                             cannot say in your particular case, but generally, continuing pain and discharge a month later is a serious emergency requiring immediate attention.  \n",
       "157278                                                                                                                                                                                                                                                                                                                                                                   many thanks for consultation.it is not worrisome if he is active and alert.it could be due to tooth eruption and pain.they can get loose stool,vomits and fever due to this.please check for tooth eruption and if new tooth is coming up then buy some custom made toys for teeth eruption.paracetamol syrup for pain and irritation.lastly if problem persist then visit to your local pediatric physician.  \n",
       "244134                                                                                                                        hi, it may be lichen simplex chronicus most probably. consult the dermatologist for the perfect diagnosis and proper treatment. if it is same as i said, i would recommend you to apply steroid cream like clobetasole propionate cream. and you should take steroid tablet in a tapering dose. if needed, an intradermal steroid injection may be taken. take antihistaminics like desloratadine. avoid soap bath. avoid dietary stuff like cows milk, fish, prawns, chicken, eggs, fermented food, nuts, soy products etc. hope i have answered your query. let me know if i can assist you further. take care. regards, dr ilyas patel, dermatologist  "
      ]
     },
     "execution_count": 8,
     "metadata": {},
     "output_type": "execute_result"
    }
   ],
   "source": [
    "df.sample(5, random_state=SEED)"
   ]
  },
  {
   "cell_type": "markdown",
   "metadata": {},
   "source": [
    "#### Remove symbols and special characters from text"
   ]
  },
  {
   "cell_type": "code",
   "execution_count": 9,
   "metadata": {},
   "outputs": [],
   "source": [
    "import re\n",
    "def remove_non_alphanumeric(df: pd.DataFrame, cols) -> pd.DataFrame:\n",
    "    \n",
    "\tfor index, row in df.iterrows():\n",
    "\t\tfor col in cols:\n",
    "\t\t\tdf.at[index, col] = re.sub(r'[^\\w]', ' ', df.at[index, col])\n",
    "\n",
    "\treturn df\n",
    "    \n",
    "df = remove_non_alphanumeric(df, df.columns)"
   ]
  },
  {
   "cell_type": "code",
   "execution_count": 10,
   "metadata": {},
   "outputs": [
    {
     "data": {
      "text/html": [
       "<div>\n",
       "<style scoped>\n",
       "    .dataframe tbody tr th:only-of-type {\n",
       "        vertical-align: middle;\n",
       "    }\n",
       "\n",
       "    .dataframe tbody tr th {\n",
       "        vertical-align: top;\n",
       "    }\n",
       "\n",
       "    .dataframe thead th {\n",
       "        text-align: right;\n",
       "    }\n",
       "</style>\n",
       "<table border=\"1\" class=\"dataframe\">\n",
       "  <thead>\n",
       "    <tr style=\"text-align: right;\">\n",
       "      <th></th>\n",
       "      <th>description</th>\n",
       "      <th>question</th>\n",
       "      <th>answer</th>\n",
       "    </tr>\n",
       "  </thead>\n",
       "  <tbody>\n",
       "    <tr>\n",
       "      <th>231878</th>\n",
       "      <td>suggest treatment for chest infection</td>\n",
       "      <td>yes  i have had a sinus infection for 2 weeks  my gp prescribed an antibiotic  azithromycin  and prednisone  i have finished both but my symptoms have changed and gotten worse  my chest is congested and i am coughing more with greenish mucus  what should i take now</td>\n",
       "      <td>thanks for your question on hcm i can understand your situation and problem in my opinion you should consult pulmonologist and get done1  repeat chest x ray2  sputum culture and sensitivity you have taken treatment  antibiotics  and still not improving  rather worsening  so we need to rule out worsening of infection by chest x ray and in pneumonia  we should first identify the causative organism and than guide antibiotic therapy according to sensitivity report  so sputum culture and sensitivity report is needed to titrate antibiotics haphazard use of antibiotics should be avoided in pneumonia as it will increase drug resistance and delay the recovery so consult pulmonologist and start appropriate antibiotics according to sensitivity report</td>\n",
       "    </tr>\n",
       "    <tr>\n",
       "      <th>63852</th>\n",
       "      <td>what causes pain in groin</td>\n",
       "      <td>hello  my husband was complaining earlier of a painful boil in the groin  also he had pain higher up in the groin  away from the boil  he s gone to bed  and was only there 10 mins when he said he felt hot  but was shivering visibly  the feeling of unwell has come on him so quickly  and that s my concern can you help</td>\n",
       "      <td>hi it seems that there might be having ingrown hair follicle infection giving rise enalrged inguinal lymph node in the groin due to bacterial infection he got shivering  feeling hot and unwell go for one antibiotic medicine like amoxicilin for 3 5 days give analgesic like ibuprofen as needed within 2 3 days he will be alright ok and take care</td>\n",
       "    </tr>\n",
       "    <tr>\n",
       "      <th>45614</th>\n",
       "      <td>what causes pain in legs and abdomen</td>\n",
       "      <td>i just had a baby a month and week ago and i have been having pain in my legs and abdomen  i also have had very thick brown and bloody discharge and when i pull it off i can feel it come out of me it is so thick  and also a increase in headaches  what is wrong with me</td>\n",
       "      <td>cannot say in your particular case  but generally  continuing pain and discharge a month later is a serious emergency requiring immediate attention</td>\n",
       "    </tr>\n",
       "    <tr>\n",
       "      <th>157278</th>\n",
       "      <td>what makes an infant to puke after eating and pass fish odor stools</td>\n",
       "      <td>hi my son is 14 months and every time he eats food he poops it out within 5 10 mins and his stool has a fishy odor to it  the texture of his stool is liquid and you can still see the food as if it was not digested at all  the color is a grey cloudy color  is this normal</td>\n",
       "      <td>many thanks for consultation it is not worrisome if he is active and alert it could be due to tooth eruption and pain they can get loose stool vomits and fever due to this please check for tooth eruption and if new tooth is coming up then buy some custom made toys for teeth eruption paracetamol syrup for pain and irritation lastly if problem persist then visit to your local pediatric physician</td>\n",
       "    </tr>\n",
       "    <tr>\n",
       "      <th>244134</th>\n",
       "      <td>suggest treatment for chronic itching with rashes</td>\n",
       "      <td>i am a 66 year old female suffering from a chronic itching with a rash  i have had this condition for approx  8 weeks  i have tried many otc remedies including calamine lotion  allegra  etc  i have also tried a 10 day dosage of predasone 5mg without any relief  i have changed my laundry detergent and also discontinued certain prescription drugs temporarily  nothing helps</td>\n",
       "      <td>hi  it may be lichen simplex chronicus most probably  consult the dermatologist for the perfect diagnosis and proper treatment  if it is same as i said  i would recommend you to apply steroid cream like clobetasole propionate cream  and you should take steroid tablet in a tapering dose  if needed  an intradermal steroid injection may be taken  take antihistaminics like desloratadine  avoid soap bath  avoid dietary stuff like cows milk  fish  prawns  chicken  eggs  fermented food  nuts  soy products etc  hope i have answered your query  let me know if i can assist you further  take care  regards  dr ilyas patel  dermatologist</td>\n",
       "    </tr>\n",
       "  </tbody>\n",
       "</table>\n",
       "</div>"
      ],
      "text/plain": [
       "                                                                 description  \\\n",
       "231878                                 suggest treatment for chest infection   \n",
       "63852                                             what causes pain in groin    \n",
       "45614                                  what causes pain in legs and abdomen    \n",
       "157278  what makes an infant to puke after eating and pass fish odor stools    \n",
       "244134                     suggest treatment for chronic itching with rashes   \n",
       "\n",
       "                                                                                                                                                                                                                                                                                                                                                                                      question  \\\n",
       "231878                                                                                                              yes  i have had a sinus infection for 2 weeks  my gp prescribed an antibiotic  azithromycin  and prednisone  i have finished both but my symptoms have changed and gotten worse  my chest is congested and i am coughing more with greenish mucus  what should i take now    \n",
       "63852                                                           hello  my husband was complaining earlier of a painful boil in the groin  also he had pain higher up in the groin  away from the boil  he s gone to bed  and was only there 10 mins when he said he felt hot  but was shivering visibly  the feeling of unwell has come on him so quickly  and that s my concern can you help    \n",
       "45614                                                                                                            i just had a baby a month and week ago and i have been having pain in my legs and abdomen  i also have had very thick brown and bloody discharge and when i pull it off i can feel it come out of me it is so thick  and also a increase in headaches  what is wrong with me    \n",
       "157278                                                                                                         hi my son is 14 months and every time he eats food he poops it out within 5 10 mins and his stool has a fishy odor to it  the texture of his stool is liquid and you can still see the food as if it was not digested at all  the color is a grey cloudy color  is this normal    \n",
       "244134  i am a 66 year old female suffering from a chronic itching with a rash  i have had this condition for approx  8 weeks  i have tried many otc remedies including calamine lotion  allegra  etc  i have also tried a 10 day dosage of predasone 5mg without any relief  i have changed my laundry detergent and also discontinued certain prescription drugs temporarily  nothing helps    \n",
       "\n",
       "                                                                                                                                                                                                                                                                                                                                                                                                                                                                                                                                                                                                                                                                                                                                                                                answer  \n",
       "231878  thanks for your question on hcm i can understand your situation and problem in my opinion you should consult pulmonologist and get done1  repeat chest x ray2  sputum culture and sensitivity you have taken treatment  antibiotics  and still not improving  rather worsening  so we need to rule out worsening of infection by chest x ray and in pneumonia  we should first identify the causative organism and than guide antibiotic therapy according to sensitivity report  so sputum culture and sensitivity report is needed to titrate antibiotics haphazard use of antibiotics should be avoided in pneumonia as it will increase drug resistance and delay the recovery so consult pulmonologist and start appropriate antibiotics according to sensitivity report   \n",
       "63852                                                                                                                                                                                                                                                                                                                                                                                                                        hi it seems that there might be having ingrown hair follicle infection giving rise enalrged inguinal lymph node in the groin due to bacterial infection he got shivering  feeling hot and unwell go for one antibiotic medicine like amoxicilin for 3 5 days give analgesic like ibuprofen as needed within 2 3 days he will be alright ok and take care   \n",
       "45614                                                                                                                                                                                                                                                                                                                                                                                                                                                                                                                                                                                                                             cannot say in your particular case  but generally  continuing pain and discharge a month later is a serious emergency requiring immediate attention   \n",
       "157278                                                                                                                                                                                                                                                                                                                                                                   many thanks for consultation it is not worrisome if he is active and alert it could be due to tooth eruption and pain they can get loose stool vomits and fever due to this please check for tooth eruption and if new tooth is coming up then buy some custom made toys for teeth eruption paracetamol syrup for pain and irritation lastly if problem persist then visit to your local pediatric physician   \n",
       "244134                                                                                                                        hi  it may be lichen simplex chronicus most probably  consult the dermatologist for the perfect diagnosis and proper treatment  if it is same as i said  i would recommend you to apply steroid cream like clobetasole propionate cream  and you should take steroid tablet in a tapering dose  if needed  an intradermal steroid injection may be taken  take antihistaminics like desloratadine  avoid soap bath  avoid dietary stuff like cows milk  fish  prawns  chicken  eggs  fermented food  nuts  soy products etc  hope i have answered your query  let me know if i can assist you further  take care  regards  dr ilyas patel  dermatologist  "
      ]
     },
     "execution_count": 10,
     "metadata": {},
     "output_type": "execute_result"
    }
   ],
   "source": [
    "df.sample(5, random_state=SEED)"
   ]
  },
  {
   "cell_type": "markdown",
   "metadata": {},
   "source": [
    "#### Removing stopwords"
   ]
  },
  {
   "cell_type": "code",
   "execution_count": 11,
   "metadata": {},
   "outputs": [
    {
     "name": "stdout",
     "output_type": "stream",
     "text": [
      "['me', 'myself', 'doing', 'by', 'over', \"you've\", 'on', 'few', 'own', 'don', 'hasn', 'just', 'very', 'will', 'once']\n"
     ]
    }
   ],
   "source": [
    "stop_words = set(stopwords.words('english'))\n",
    "\n",
    "# View some samples of stopwords to see what they look like\n",
    "print(list(stop_words)[::12])"
   ]
  },
  {
   "cell_type": "code",
   "execution_count": 12,
   "metadata": {},
   "outputs": [
    {
     "name": "stdout",
     "output_type": "stream",
     "text": [
      "Removed 11756275 stopwords from the dataset\n"
     ]
    }
   ],
   "source": [
    "def remove_stopwords(df: pd.DataFrame, cols) -> pd.DataFrame:\n",
    "    \n",
    "\tcount_removed = 0\n",
    "\n",
    "\tstop_words = set(stopwords.words('english'))\n",
    "\n",
    "\tfor i, row in df.iterrows():\n",
    "\t\tfor col in cols:\n",
    "\n",
    "\t\t\t# Get list of tokens in sentence\n",
    "\t\t\tsentence_tokens = word_tokenize(df.at[i, col])\n",
    "\n",
    "\t\t\tsentence_tokens_without_stopwords = []\n",
    "\t\t\tfor token in sentence_tokens:\n",
    "\t\t\t\tif token not in stop_words:\n",
    "\t\t\t\t\tsentence_tokens_without_stopwords.append(token)\n",
    "\t\t\t\telse:\n",
    "\t\t\t\t\tcount_removed += 1\n",
    "\n",
    "\t\t\t# Join list using spaces\n",
    "\t\t\tdf.at[i, col] = \" \".join(sentence_tokens_without_stopwords)\n",
    "\n",
    "\tprint(f\"Removed {count_removed} stopwords from the dataset\")\n",
    "\n",
    "\treturn df\n",
    "\n",
    "df = remove_stopwords(df, ['description', 'question'])"
   ]
  },
  {
   "cell_type": "code",
   "execution_count": 13,
   "metadata": {},
   "outputs": [
    {
     "data": {
      "text/html": [
       "<div>\n",
       "<style scoped>\n",
       "    .dataframe tbody tr th:only-of-type {\n",
       "        vertical-align: middle;\n",
       "    }\n",
       "\n",
       "    .dataframe tbody tr th {\n",
       "        vertical-align: top;\n",
       "    }\n",
       "\n",
       "    .dataframe thead th {\n",
       "        text-align: right;\n",
       "    }\n",
       "</style>\n",
       "<table border=\"1\" class=\"dataframe\">\n",
       "  <thead>\n",
       "    <tr style=\"text-align: right;\">\n",
       "      <th></th>\n",
       "      <th>description</th>\n",
       "      <th>question</th>\n",
       "      <th>answer</th>\n",
       "    </tr>\n",
       "  </thead>\n",
       "  <tbody>\n",
       "    <tr>\n",
       "      <th>231878</th>\n",
       "      <td>suggest treatment chest infection</td>\n",
       "      <td>yes sinus infection 2 weeks gp prescribed antibiotic azithromycin prednisone finished symptoms changed gotten worse chest congested coughing greenish mucus take</td>\n",
       "      <td>thanks for your question on hcm i can understand your situation and problem in my opinion you should consult pulmonologist and get done1  repeat chest x ray2  sputum culture and sensitivity you have taken treatment  antibiotics  and still not improving  rather worsening  so we need to rule out worsening of infection by chest x ray and in pneumonia  we should first identify the causative organism and than guide antibiotic therapy according to sensitivity report  so sputum culture and sensitivity report is needed to titrate antibiotics haphazard use of antibiotics should be avoided in pneumonia as it will increase drug resistance and delay the recovery so consult pulmonologist and start appropriate antibiotics according to sensitivity report</td>\n",
       "    </tr>\n",
       "    <tr>\n",
       "      <th>63852</th>\n",
       "      <td>causes pain groin</td>\n",
       "      <td>hello husband complaining earlier painful boil groin also pain higher groin away boil gone bed 10 mins said felt hot shivering visibly feeling unwell come quickly concern help</td>\n",
       "      <td>hi it seems that there might be having ingrown hair follicle infection giving rise enalrged inguinal lymph node in the groin due to bacterial infection he got shivering  feeling hot and unwell go for one antibiotic medicine like amoxicilin for 3 5 days give analgesic like ibuprofen as needed within 2 3 days he will be alright ok and take care</td>\n",
       "    </tr>\n",
       "    <tr>\n",
       "      <th>45614</th>\n",
       "      <td>causes pain legs abdomen</td>\n",
       "      <td>baby month week ago pain legs abdomen also thick brown bloody discharge pull feel come thick also increase headaches wrong</td>\n",
       "      <td>cannot say in your particular case  but generally  continuing pain and discharge a month later is a serious emergency requiring immediate attention</td>\n",
       "    </tr>\n",
       "    <tr>\n",
       "      <th>157278</th>\n",
       "      <td>makes infant puke eating pass fish odor stools</td>\n",
       "      <td>hi son 14 months every time eats food poops within 5 10 mins stool fishy odor texture stool liquid still see food digested color grey cloudy color normal</td>\n",
       "      <td>many thanks for consultation it is not worrisome if he is active and alert it could be due to tooth eruption and pain they can get loose stool vomits and fever due to this please check for tooth eruption and if new tooth is coming up then buy some custom made toys for teeth eruption paracetamol syrup for pain and irritation lastly if problem persist then visit to your local pediatric physician</td>\n",
       "    </tr>\n",
       "    <tr>\n",
       "      <th>244134</th>\n",
       "      <td>suggest treatment chronic itching rashes</td>\n",
       "      <td>66 year old female suffering chronic itching rash condition approx 8 weeks tried many otc remedies including calamine lotion allegra etc also tried 10 day dosage predasone 5mg without relief changed laundry detergent also discontinued certain prescription drugs temporarily nothing helps</td>\n",
       "      <td>hi  it may be lichen simplex chronicus most probably  consult the dermatologist for the perfect diagnosis and proper treatment  if it is same as i said  i would recommend you to apply steroid cream like clobetasole propionate cream  and you should take steroid tablet in a tapering dose  if needed  an intradermal steroid injection may be taken  take antihistaminics like desloratadine  avoid soap bath  avoid dietary stuff like cows milk  fish  prawns  chicken  eggs  fermented food  nuts  soy products etc  hope i have answered your query  let me know if i can assist you further  take care  regards  dr ilyas patel  dermatologist</td>\n",
       "    </tr>\n",
       "  </tbody>\n",
       "</table>\n",
       "</div>"
      ],
      "text/plain": [
       "                                           description  \\\n",
       "231878               suggest treatment chest infection   \n",
       "63852                                causes pain groin   \n",
       "45614                         causes pain legs abdomen   \n",
       "157278  makes infant puke eating pass fish odor stools   \n",
       "244134        suggest treatment chronic itching rashes   \n",
       "\n",
       "                                                                                                                                                                                                                                                                                               question  \\\n",
       "231878                                                                                                                                 yes sinus infection 2 weeks gp prescribed antibiotic azithromycin prednisone finished symptoms changed gotten worse chest congested coughing greenish mucus take   \n",
       "63852                                                                                                                   hello husband complaining earlier painful boil groin also pain higher groin away boil gone bed 10 mins said felt hot shivering visibly feeling unwell come quickly concern help   \n",
       "45614                                                                                                                                                                        baby month week ago pain legs abdomen also thick brown bloody discharge pull feel come thick also increase headaches wrong   \n",
       "157278                                                                                                                                        hi son 14 months every time eats food poops within 5 10 mins stool fishy odor texture stool liquid still see food digested color grey cloudy color normal   \n",
       "244134  66 year old female suffering chronic itching rash condition approx 8 weeks tried many otc remedies including calamine lotion allegra etc also tried 10 day dosage predasone 5mg without relief changed laundry detergent also discontinued certain prescription drugs temporarily nothing helps   \n",
       "\n",
       "                                                                                                                                                                                                                                                                                                                                                                                                                                                                                                                                                                                                                                                                                                                                                                                answer  \n",
       "231878  thanks for your question on hcm i can understand your situation and problem in my opinion you should consult pulmonologist and get done1  repeat chest x ray2  sputum culture and sensitivity you have taken treatment  antibiotics  and still not improving  rather worsening  so we need to rule out worsening of infection by chest x ray and in pneumonia  we should first identify the causative organism and than guide antibiotic therapy according to sensitivity report  so sputum culture and sensitivity report is needed to titrate antibiotics haphazard use of antibiotics should be avoided in pneumonia as it will increase drug resistance and delay the recovery so consult pulmonologist and start appropriate antibiotics according to sensitivity report   \n",
       "63852                                                                                                                                                                                                                                                                                                                                                                                                                        hi it seems that there might be having ingrown hair follicle infection giving rise enalrged inguinal lymph node in the groin due to bacterial infection he got shivering  feeling hot and unwell go for one antibiotic medicine like amoxicilin for 3 5 days give analgesic like ibuprofen as needed within 2 3 days he will be alright ok and take care   \n",
       "45614                                                                                                                                                                                                                                                                                                                                                                                                                                                                                                                                                                                                                             cannot say in your particular case  but generally  continuing pain and discharge a month later is a serious emergency requiring immediate attention   \n",
       "157278                                                                                                                                                                                                                                                                                                                                                                   many thanks for consultation it is not worrisome if he is active and alert it could be due to tooth eruption and pain they can get loose stool vomits and fever due to this please check for tooth eruption and if new tooth is coming up then buy some custom made toys for teeth eruption paracetamol syrup for pain and irritation lastly if problem persist then visit to your local pediatric physician   \n",
       "244134                                                                                                                        hi  it may be lichen simplex chronicus most probably  consult the dermatologist for the perfect diagnosis and proper treatment  if it is same as i said  i would recommend you to apply steroid cream like clobetasole propionate cream  and you should take steroid tablet in a tapering dose  if needed  an intradermal steroid injection may be taken  take antihistaminics like desloratadine  avoid soap bath  avoid dietary stuff like cows milk  fish  prawns  chicken  eggs  fermented food  nuts  soy products etc  hope i have answered your query  let me know if i can assist you further  take care  regards  dr ilyas patel  dermatologist  "
      ]
     },
     "execution_count": 13,
     "metadata": {},
     "output_type": "execute_result"
    }
   ],
   "source": [
    "df.sample(5, random_state=SEED)"
   ]
  },
  {
   "cell_type": "markdown",
   "metadata": {},
   "source": [
    "#### Stemming"
   ]
  },
  {
   "cell_type": "code",
   "execution_count": 14,
   "metadata": {},
   "outputs": [],
   "source": [
    "from nltk.stem import PorterStemmer\n",
    "\n",
    "stemmer = PorterStemmer()\n",
    "\n",
    "def get_root_word(df: pd.DataFrame, cols) -> pd.DataFrame:\n",
    "    \n",
    "\tfor i, row in df.iterrows():\n",
    "\t\tfor col in cols:\n",
    "\n",
    "\t\t\t# Get list of tokens in sentence\n",
    "\t\t\tsentence_tokens = word_tokenize(df.at[i, col])\n",
    "\n",
    "\t\t\tstemmed_tokens = []\n",
    "\t\t\tfor token in sentence_tokens:\n",
    "\t\t\t\tstemmed_tokens.append(stemmer.stem(token))\n",
    "\n",
    "\t\t\t# Join list using spaces\n",
    "\t\t\tdf.at[i, col] = \" \".join(stemmed_tokens)\n",
    "\n",
    "\treturn df\n",
    "\n",
    "df = get_root_word(df, ['description', 'question'])\n"
   ]
  },
  {
   "cell_type": "code",
   "execution_count": 15,
   "metadata": {},
   "outputs": [
    {
     "data": {
      "text/html": [
       "<div>\n",
       "<style scoped>\n",
       "    .dataframe tbody tr th:only-of-type {\n",
       "        vertical-align: middle;\n",
       "    }\n",
       "\n",
       "    .dataframe tbody tr th {\n",
       "        vertical-align: top;\n",
       "    }\n",
       "\n",
       "    .dataframe thead th {\n",
       "        text-align: right;\n",
       "    }\n",
       "</style>\n",
       "<table border=\"1\" class=\"dataframe\">\n",
       "  <thead>\n",
       "    <tr style=\"text-align: right;\">\n",
       "      <th></th>\n",
       "      <th>description</th>\n",
       "      <th>question</th>\n",
       "      <th>answer</th>\n",
       "    </tr>\n",
       "  </thead>\n",
       "  <tbody>\n",
       "    <tr>\n",
       "      <th>231878</th>\n",
       "      <td>suggest treatment chest infect</td>\n",
       "      <td>ye sinu infect 2 week gp prescrib antibiot azithromycin prednison finish symptom chang gotten wors chest congest cough greenish mucu take</td>\n",
       "      <td>thanks for your question on hcm i can understand your situation and problem in my opinion you should consult pulmonologist and get done1  repeat chest x ray2  sputum culture and sensitivity you have taken treatment  antibiotics  and still not improving  rather worsening  so we need to rule out worsening of infection by chest x ray and in pneumonia  we should first identify the causative organism and than guide antibiotic therapy according to sensitivity report  so sputum culture and sensitivity report is needed to titrate antibiotics haphazard use of antibiotics should be avoided in pneumonia as it will increase drug resistance and delay the recovery so consult pulmonologist and start appropriate antibiotics according to sensitivity report</td>\n",
       "    </tr>\n",
       "    <tr>\n",
       "      <th>63852</th>\n",
       "      <td>caus pain groin</td>\n",
       "      <td>hello husband complain earlier pain boil groin also pain higher groin away boil gone bed 10 min said felt hot shiver visibl feel unwel come quickli concern help</td>\n",
       "      <td>hi it seems that there might be having ingrown hair follicle infection giving rise enalrged inguinal lymph node in the groin due to bacterial infection he got shivering  feeling hot and unwell go for one antibiotic medicine like amoxicilin for 3 5 days give analgesic like ibuprofen as needed within 2 3 days he will be alright ok and take care</td>\n",
       "    </tr>\n",
       "    <tr>\n",
       "      <th>45614</th>\n",
       "      <td>caus pain leg abdomen</td>\n",
       "      <td>babi month week ago pain leg abdomen also thick brown bloodi discharg pull feel come thick also increas headach wrong</td>\n",
       "      <td>cannot say in your particular case  but generally  continuing pain and discharge a month later is a serious emergency requiring immediate attention</td>\n",
       "    </tr>\n",
       "    <tr>\n",
       "      <th>157278</th>\n",
       "      <td>make infant puke eat pass fish odor stool</td>\n",
       "      <td>hi son 14 month everi time eat food poop within 5 10 min stool fishi odor textur stool liquid still see food digest color grey cloudi color normal</td>\n",
       "      <td>many thanks for consultation it is not worrisome if he is active and alert it could be due to tooth eruption and pain they can get loose stool vomits and fever due to this please check for tooth eruption and if new tooth is coming up then buy some custom made toys for teeth eruption paracetamol syrup for pain and irritation lastly if problem persist then visit to your local pediatric physician</td>\n",
       "    </tr>\n",
       "    <tr>\n",
       "      <th>244134</th>\n",
       "      <td>suggest treatment chronic itch rash</td>\n",
       "      <td>66 year old femal suffer chronic itch rash condit approx 8 week tri mani otc remedi includ calamin lotion allegra etc also tri 10 day dosag predason 5mg without relief chang laundri deterg also discontinu certain prescript drug temporarili noth help</td>\n",
       "      <td>hi  it may be lichen simplex chronicus most probably  consult the dermatologist for the perfect diagnosis and proper treatment  if it is same as i said  i would recommend you to apply steroid cream like clobetasole propionate cream  and you should take steroid tablet in a tapering dose  if needed  an intradermal steroid injection may be taken  take antihistaminics like desloratadine  avoid soap bath  avoid dietary stuff like cows milk  fish  prawns  chicken  eggs  fermented food  nuts  soy products etc  hope i have answered your query  let me know if i can assist you further  take care  regards  dr ilyas patel  dermatologist</td>\n",
       "    </tr>\n",
       "  </tbody>\n",
       "</table>\n",
       "</div>"
      ],
      "text/plain": [
       "                                      description  \\\n",
       "231878             suggest treatment chest infect   \n",
       "63852                             caus pain groin   \n",
       "45614                       caus pain leg abdomen   \n",
       "157278  make infant puke eat pass fish odor stool   \n",
       "244134        suggest treatment chronic itch rash   \n",
       "\n",
       "                                                                                                                                                                                                                                                         question  \\\n",
       "231878                                                                                                                  ye sinu infect 2 week gp prescrib antibiot azithromycin prednison finish symptom chang gotten wors chest congest cough greenish mucu take   \n",
       "63852                                                                                            hello husband complain earlier pain boil groin also pain higher groin away boil gone bed 10 min said felt hot shiver visibl feel unwel come quickli concern help   \n",
       "45614                                                                                                                                       babi month week ago pain leg abdomen also thick brown bloodi discharg pull feel come thick also increas headach wrong   \n",
       "157278                                                                                                         hi son 14 month everi time eat food poop within 5 10 min stool fishi odor textur stool liquid still see food digest color grey cloudi color normal   \n",
       "244134  66 year old femal suffer chronic itch rash condit approx 8 week tri mani otc remedi includ calamin lotion allegra etc also tri 10 day dosag predason 5mg without relief chang laundri deterg also discontinu certain prescript drug temporarili noth help   \n",
       "\n",
       "                                                                                                                                                                                                                                                                                                                                                                                                                                                                                                                                                                                                                                                                                                                                                                                answer  \n",
       "231878  thanks for your question on hcm i can understand your situation and problem in my opinion you should consult pulmonologist and get done1  repeat chest x ray2  sputum culture and sensitivity you have taken treatment  antibiotics  and still not improving  rather worsening  so we need to rule out worsening of infection by chest x ray and in pneumonia  we should first identify the causative organism and than guide antibiotic therapy according to sensitivity report  so sputum culture and sensitivity report is needed to titrate antibiotics haphazard use of antibiotics should be avoided in pneumonia as it will increase drug resistance and delay the recovery so consult pulmonologist and start appropriate antibiotics according to sensitivity report   \n",
       "63852                                                                                                                                                                                                                                                                                                                                                                                                                        hi it seems that there might be having ingrown hair follicle infection giving rise enalrged inguinal lymph node in the groin due to bacterial infection he got shivering  feeling hot and unwell go for one antibiotic medicine like amoxicilin for 3 5 days give analgesic like ibuprofen as needed within 2 3 days he will be alright ok and take care   \n",
       "45614                                                                                                                                                                                                                                                                                                                                                                                                                                                                                                                                                                                                                             cannot say in your particular case  but generally  continuing pain and discharge a month later is a serious emergency requiring immediate attention   \n",
       "157278                                                                                                                                                                                                                                                                                                                                                                   many thanks for consultation it is not worrisome if he is active and alert it could be due to tooth eruption and pain they can get loose stool vomits and fever due to this please check for tooth eruption and if new tooth is coming up then buy some custom made toys for teeth eruption paracetamol syrup for pain and irritation lastly if problem persist then visit to your local pediatric physician   \n",
       "244134                                                                                                                        hi  it may be lichen simplex chronicus most probably  consult the dermatologist for the perfect diagnosis and proper treatment  if it is same as i said  i would recommend you to apply steroid cream like clobetasole propionate cream  and you should take steroid tablet in a tapering dose  if needed  an intradermal steroid injection may be taken  take antihistaminics like desloratadine  avoid soap bath  avoid dietary stuff like cows milk  fish  prawns  chicken  eggs  fermented food  nuts  soy products etc  hope i have answered your query  let me know if i can assist you further  take care  regards  dr ilyas patel  dermatologist  "
      ]
     },
     "execution_count": 15,
     "metadata": {},
     "output_type": "execute_result"
    }
   ],
   "source": [
    "df.sample(5, random_state=SEED)"
   ]
  },
  {
   "cell_type": "markdown",
   "metadata": {},
   "source": [
    "#### Saving Dataframe to file"
   ]
  },
  {
   "cell_type": "code",
   "execution_count": 16,
   "metadata": {},
   "outputs": [],
   "source": [
    "df.to_csv('data/preprocessed-ai-medical-chatbot.csv', index=False)  "
   ]
  }
 ],
 "metadata": {
  "kernelspec": {
   "display_name": "cse156",
   "language": "python",
   "name": "python3"
  },
  "language_info": {
   "codemirror_mode": {
    "name": "ipython",
    "version": 3
   },
   "file_extension": ".py",
   "mimetype": "text/x-python",
   "name": "python",
   "nbconvert_exporter": "python",
   "pygments_lexer": "ipython3",
   "version": "3.12.7"
  }
 },
 "nbformat": 4,
 "nbformat_minor": 2
}
